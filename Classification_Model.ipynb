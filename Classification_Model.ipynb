{
  "nbformat": 4,
  "nbformat_minor": 0,
  "metadata": {
    "colab": {
      "provenance": [],
      "toc_visible": true
    },
    "kernelspec": {
      "name": "python3",
      "display_name": "Python 3"
    },
    "language_info": {
      "name": "python"
    },
    "accelerator": "GPU",
    "gpuClass": "standard"
  },
  "cells": [
    {
      "cell_type": "markdown",
      "source": [
        "# Drink Quality by Reviews"
      ],
      "metadata": {
        "id": "WTkQ8n1FsVJL"
      }
    },
    {
      "cell_type": "markdown",
      "source": [
        "Examine the correlation between \"Rating\" and \"Review\" to determine if the quality of a drink can be predicted based on it's reviews."
      ],
      "metadata": {
        "id": "3QLwH_X0TL_-"
      }
    },
    {
      "cell_type": "code",
      "execution_count": 1,
      "metadata": {
        "colab": {
          "base_uri": "https://localhost:8080/"
        },
        "id": "M1THLhLXDOmz",
        "outputId": "dfb4bf60-9001-4002-958a-5666287a9b25"
      },
      "outputs": [
        {
          "output_type": "stream",
          "name": "stdout",
          "text": [
            "Looking in indexes: https://pypi.org/simple, https://us-python.pkg.dev/colab-wheels/public/simple/\n",
            "Collecting import-ipynb\n",
            "  Downloading import_ipynb-0.1.4-py3-none-any.whl (4.1 kB)\n",
            "Requirement already satisfied: nbformat in /usr/local/lib/python3.8/dist-packages (from import-ipynb) (5.7.1)\n",
            "Requirement already satisfied: IPython in /usr/local/lib/python3.8/dist-packages (from import-ipynb) (7.9.0)\n",
            "Requirement already satisfied: backcall in /usr/local/lib/python3.8/dist-packages (from IPython->import-ipynb) (0.2.0)\n",
            "Requirement already satisfied: pickleshare in /usr/local/lib/python3.8/dist-packages (from IPython->import-ipynb) (0.7.5)\n",
            "Requirement already satisfied: prompt-toolkit<2.1.0,>=2.0.0 in /usr/local/lib/python3.8/dist-packages (from IPython->import-ipynb) (2.0.10)\n",
            "Collecting jedi>=0.10\n",
            "  Downloading jedi-0.18.2-py2.py3-none-any.whl (1.6 MB)\n",
            "\u001b[2K     \u001b[90m━━━━━━━━━━━━━━━━━━━━━━━━━━━━━━━━━━━━━━━━\u001b[0m \u001b[32m1.6/1.6 MB\u001b[0m \u001b[31m20.4 MB/s\u001b[0m eta \u001b[36m0:00:00\u001b[0m\n",
            "\u001b[?25hRequirement already satisfied: setuptools>=18.5 in /usr/local/lib/python3.8/dist-packages (from IPython->import-ipynb) (57.4.0)\n",
            "Requirement already satisfied: decorator in /usr/local/lib/python3.8/dist-packages (from IPython->import-ipynb) (4.4.2)\n",
            "Requirement already satisfied: pygments in /usr/local/lib/python3.8/dist-packages (from IPython->import-ipynb) (2.6.1)\n",
            "Requirement already satisfied: pexpect in /usr/local/lib/python3.8/dist-packages (from IPython->import-ipynb) (4.8.0)\n",
            "Requirement already satisfied: traitlets>=4.2 in /usr/local/lib/python3.8/dist-packages (from IPython->import-ipynb) (5.7.1)\n",
            "Requirement already satisfied: fastjsonschema in /usr/local/lib/python3.8/dist-packages (from nbformat->import-ipynb) (2.16.2)\n",
            "Requirement already satisfied: jupyter-core in /usr/local/lib/python3.8/dist-packages (from nbformat->import-ipynb) (5.1.3)\n",
            "Requirement already satisfied: jsonschema>=2.6 in /usr/local/lib/python3.8/dist-packages (from nbformat->import-ipynb) (4.3.3)\n",
            "Requirement already satisfied: parso<0.9.0,>=0.8.0 in /usr/local/lib/python3.8/dist-packages (from jedi>=0.10->IPython->import-ipynb) (0.8.3)\n",
            "Requirement already satisfied: importlib-resources>=1.4.0 in /usr/local/lib/python3.8/dist-packages (from jsonschema>=2.6->nbformat->import-ipynb) (5.10.2)\n",
            "Requirement already satisfied: pyrsistent!=0.17.0,!=0.17.1,!=0.17.2,>=0.14.0 in /usr/local/lib/python3.8/dist-packages (from jsonschema>=2.6->nbformat->import-ipynb) (0.19.3)\n",
            "Requirement already satisfied: attrs>=17.4.0 in /usr/local/lib/python3.8/dist-packages (from jsonschema>=2.6->nbformat->import-ipynb) (22.2.0)\n",
            "Requirement already satisfied: wcwidth in /usr/local/lib/python3.8/dist-packages (from prompt-toolkit<2.1.0,>=2.0.0->IPython->import-ipynb) (0.2.5)\n",
            "Requirement already satisfied: six>=1.9.0 in /usr/local/lib/python3.8/dist-packages (from prompt-toolkit<2.1.0,>=2.0.0->IPython->import-ipynb) (1.15.0)\n",
            "Requirement already satisfied: platformdirs>=2.5 in /usr/local/lib/python3.8/dist-packages (from jupyter-core->nbformat->import-ipynb) (2.6.2)\n",
            "Requirement already satisfied: ptyprocess>=0.5 in /usr/local/lib/python3.8/dist-packages (from pexpect->IPython->import-ipynb) (0.7.0)\n",
            "Requirement already satisfied: zipp>=3.1.0 in /usr/local/lib/python3.8/dist-packages (from importlib-resources>=1.4.0->jsonschema>=2.6->nbformat->import-ipynb) (3.11.0)\n",
            "Installing collected packages: jedi, import-ipynb\n",
            "Successfully installed import-ipynb-0.1.4 jedi-0.18.2\n"
          ]
        }
      ],
      "source": [
        "!pip install import-ipynb"
      ]
    },
    {
      "cell_type": "code",
      "source": [
        "from google.colab import drive\n",
        "drive.mount('/content/gdrive')\n",
        "%cd gdrive/MyDrive/ML-Project"
      ],
      "metadata": {
        "colab": {
          "base_uri": "https://localhost:8080/"
        },
        "id": "2XZesjC4DUcU",
        "outputId": "d1f26a2a-f973-4385-86dd-61082c5ddf6f"
      },
      "execution_count": 2,
      "outputs": [
        {
          "output_type": "stream",
          "name": "stdout",
          "text": [
            "Mounted at /content/gdrive\n",
            "/content/gdrive/MyDrive/ML-Project\n"
          ]
        }
      ]
    },
    {
      "cell_type": "code",
      "source": [
        "import tensorflow.keras as keras\n",
        "import matplotlib.pyplot as plt\n",
        "import numpy as np\n",
        "import seaborn as sns\n",
        "import matplotlib.pyplot as plt\n",
        "import numpy as np\n",
        "import seaborn as sns\n",
        "import torch\n",
        "from torch import nn\n",
        "import pandas as pd\n",
        "import random\n",
        "import import_ipynb\n",
        "import utils\n",
        "\n",
        "\n",
        "# to get reproducible results:\n",
        "torch.manual_seed(1234)\n",
        "np.random.seed(1234)"
      ],
      "metadata": {
        "colab": {
          "base_uri": "https://localhost:8080/"
        },
        "id": "cC_ZMjWvDYoj",
        "outputId": "dbbc35e8-a16f-483a-a178-edd7624921f5"
      },
      "execution_count": 3,
      "outputs": [
        {
          "output_type": "stream",
          "name": "stdout",
          "text": [
            "importing Jupyter notebook from utils.ipynb\n"
          ]
        }
      ]
    },
    {
      "cell_type": "code",
      "source": [
        "import sklearn\n",
        "import matplotlib.pyplot as plt\n",
        "from sklearn.model_selection import train_test_split\n",
        "from sklearn.pipeline import make_pipeline\n",
        "from sklearn.impute import KNNImputer\n",
        "from sklearn.preprocessing import StandardScaler\n",
        "from sklearn.linear_model import LogisticRegression, SGDClassifier\n",
        "from sklearn.neighbors import KNeighborsClassifier\n",
        "from sklearn.preprocessing import MaxAbsScaler\n",
        "from sklearn.svm import SVC\n",
        "from sklearn.model_selection import GridSearchCV\n",
        "from sklearn.tree import DecisionTreeClassifier\n",
        "from sklearn.metrics import accuracy_score, f1_score, classification_report, ConfusionMatrixDisplay\n",
        "from sklearn.feature_extraction.text import CountVectorizer, TfidfVectorizer\n",
        "from sklearn.compose import make_column_transformer\n",
        "from sklearn.preprocessing import OneHotEncoder, OrdinalEncoder\n",
        "from sklearn.impute import SimpleImputer"
      ],
      "metadata": {
        "id": "CoLyV47NLEas"
      },
      "execution_count": 4,
      "outputs": []
    },
    {
      "cell_type": "markdown",
      "source": [
        "### Preprocessing the Dataset"
      ],
      "metadata": {
        "id": "kJTb2CCVK6Gw"
      }
    },
    {
      "cell_type": "code",
      "source": [
        "# read dataset file\n",
        "df = pd.read_csv('dataset.csv', sep=',')"
      ],
      "metadata": {
        "id": "KKBmGAx6Dn7_"
      },
      "execution_count": 5,
      "outputs": []
    },
    {
      "cell_type": "code",
      "source": [
        "# replace column names with shorter, more readable names\n",
        "df.columns = ['Num', 'Brand', 'Name', 'Date', 'Recommend', 'Helpful', 'Rating', 'Weight', 'Review Title', 'Review']\n",
        "df.sample(5)"
      ],
      "metadata": {
        "colab": {
          "base_uri": "https://localhost:8080/",
          "height": 337
        },
        "id": "mg_ZwGcTEClT",
        "outputId": "d05dbde7-8e81-4d45-9b4d-2968721d1b81"
      },
      "execution_count": 6,
      "outputs": [
        {
          "output_type": "execute_result",
          "data": {
            "text/plain": [
              "       Num        Brand                                       Name  \\\n",
              "1263  1264         Gmax     Gmax g144105 gm44 full face red wine m   \n",
              "227    228     Heineken     Heineken174 Lager - 6pk / 12oz Bottles   \n",
              "2142  2143       Carmex  Carmex Lip Balm Original Jar - 12 PK, 12.   \n",
              "450    451     Jim Beam      Jim Beam Black Bourbon Whiskey, 50 mL   \n",
              "1403  1404  Great Value  Great Value Original Crescent Rolls, 8 oz   \n",
              "\n",
              "                      Date Recommend  Helpful  Rating   Weight  \\\n",
              "1263  2017-01-09T22:25:24Z       NaN      NaN     4.0      NaN   \n",
              "227   2017-09-20T01:18:35Z      True      NaN     5.0  1.0 lbs   \n",
              "2142  2017-09-23T02:53:08Z      True      NaN     5.0      NaN   \n",
              "450   2017-09-20T01:18:35Z       NaN      NaN     5.0      NaN   \n",
              "1403  2017-09-02T07:55:36Z      True      0.0     5.0      NaN   \n",
              "\n",
              "                   Review Title  \\\n",
              "1263                        NaN   \n",
              "227                 Great beer!   \n",
              "2142         Small and compact!   \n",
              "450        My favorite bourbon!   \n",
              "1403  Just as good as Pillsbury   \n",
              "\n",
              "                                                 Review  \n",
              "1263                                       easy process  \n",
              "227   I bought this, best price and great convenienc...  \n",
              "2142  The lip balm is so smooth, doesn't have a weir...  \n",
              "450                          Exceptionally good flavor!  \n",
              "1403         Just as good as Pillsbury but better price  "
            ],
            "text/html": [
              "\n",
              "  <div id=\"df-03457e75-6dcf-4c9b-aa0a-5f42877c369e\">\n",
              "    <div class=\"colab-df-container\">\n",
              "      <div>\n",
              "<style scoped>\n",
              "    .dataframe tbody tr th:only-of-type {\n",
              "        vertical-align: middle;\n",
              "    }\n",
              "\n",
              "    .dataframe tbody tr th {\n",
              "        vertical-align: top;\n",
              "    }\n",
              "\n",
              "    .dataframe thead th {\n",
              "        text-align: right;\n",
              "    }\n",
              "</style>\n",
              "<table border=\"1\" class=\"dataframe\">\n",
              "  <thead>\n",
              "    <tr style=\"text-align: right;\">\n",
              "      <th></th>\n",
              "      <th>Num</th>\n",
              "      <th>Brand</th>\n",
              "      <th>Name</th>\n",
              "      <th>Date</th>\n",
              "      <th>Recommend</th>\n",
              "      <th>Helpful</th>\n",
              "      <th>Rating</th>\n",
              "      <th>Weight</th>\n",
              "      <th>Review Title</th>\n",
              "      <th>Review</th>\n",
              "    </tr>\n",
              "  </thead>\n",
              "  <tbody>\n",
              "    <tr>\n",
              "      <th>1263</th>\n",
              "      <td>1264</td>\n",
              "      <td>Gmax</td>\n",
              "      <td>Gmax g144105 gm44 full face red wine m</td>\n",
              "      <td>2017-01-09T22:25:24Z</td>\n",
              "      <td>NaN</td>\n",
              "      <td>NaN</td>\n",
              "      <td>4.0</td>\n",
              "      <td>NaN</td>\n",
              "      <td>NaN</td>\n",
              "      <td>easy process</td>\n",
              "    </tr>\n",
              "    <tr>\n",
              "      <th>227</th>\n",
              "      <td>228</td>\n",
              "      <td>Heineken</td>\n",
              "      <td>Heineken174 Lager - 6pk / 12oz Bottles</td>\n",
              "      <td>2017-09-20T01:18:35Z</td>\n",
              "      <td>True</td>\n",
              "      <td>NaN</td>\n",
              "      <td>5.0</td>\n",
              "      <td>1.0 lbs</td>\n",
              "      <td>Great beer!</td>\n",
              "      <td>I bought this, best price and great convenienc...</td>\n",
              "    </tr>\n",
              "    <tr>\n",
              "      <th>2142</th>\n",
              "      <td>2143</td>\n",
              "      <td>Carmex</td>\n",
              "      <td>Carmex Lip Balm Original Jar - 12 PK, 12.</td>\n",
              "      <td>2017-09-23T02:53:08Z</td>\n",
              "      <td>True</td>\n",
              "      <td>NaN</td>\n",
              "      <td>5.0</td>\n",
              "      <td>NaN</td>\n",
              "      <td>Small and compact!</td>\n",
              "      <td>The lip balm is so smooth, doesn't have a weir...</td>\n",
              "    </tr>\n",
              "    <tr>\n",
              "      <th>450</th>\n",
              "      <td>451</td>\n",
              "      <td>Jim Beam</td>\n",
              "      <td>Jim Beam Black Bourbon Whiskey, 50 mL</td>\n",
              "      <td>2017-09-20T01:18:35Z</td>\n",
              "      <td>NaN</td>\n",
              "      <td>NaN</td>\n",
              "      <td>5.0</td>\n",
              "      <td>NaN</td>\n",
              "      <td>My favorite bourbon!</td>\n",
              "      <td>Exceptionally good flavor!</td>\n",
              "    </tr>\n",
              "    <tr>\n",
              "      <th>1403</th>\n",
              "      <td>1404</td>\n",
              "      <td>Great Value</td>\n",
              "      <td>Great Value Original Crescent Rolls, 8 oz</td>\n",
              "      <td>2017-09-02T07:55:36Z</td>\n",
              "      <td>True</td>\n",
              "      <td>0.0</td>\n",
              "      <td>5.0</td>\n",
              "      <td>NaN</td>\n",
              "      <td>Just as good as Pillsbury</td>\n",
              "      <td>Just as good as Pillsbury but better price</td>\n",
              "    </tr>\n",
              "  </tbody>\n",
              "</table>\n",
              "</div>\n",
              "      <button class=\"colab-df-convert\" onclick=\"convertToInteractive('df-03457e75-6dcf-4c9b-aa0a-5f42877c369e')\"\n",
              "              title=\"Convert this dataframe to an interactive table.\"\n",
              "              style=\"display:none;\">\n",
              "        \n",
              "  <svg xmlns=\"http://www.w3.org/2000/svg\" height=\"24px\"viewBox=\"0 0 24 24\"\n",
              "       width=\"24px\">\n",
              "    <path d=\"M0 0h24v24H0V0z\" fill=\"none\"/>\n",
              "    <path d=\"M18.56 5.44l.94 2.06.94-2.06 2.06-.94-2.06-.94-.94-2.06-.94 2.06-2.06.94zm-11 1L8.5 8.5l.94-2.06 2.06-.94-2.06-.94L8.5 2.5l-.94 2.06-2.06.94zm10 10l.94 2.06.94-2.06 2.06-.94-2.06-.94-.94-2.06-.94 2.06-2.06.94z\"/><path d=\"M17.41 7.96l-1.37-1.37c-.4-.4-.92-.59-1.43-.59-.52 0-1.04.2-1.43.59L10.3 9.45l-7.72 7.72c-.78.78-.78 2.05 0 2.83L4 21.41c.39.39.9.59 1.41.59.51 0 1.02-.2 1.41-.59l7.78-7.78 2.81-2.81c.8-.78.8-2.07 0-2.86zM5.41 20L4 18.59l7.72-7.72 1.47 1.35L5.41 20z\"/>\n",
              "  </svg>\n",
              "      </button>\n",
              "      \n",
              "  <style>\n",
              "    .colab-df-container {\n",
              "      display:flex;\n",
              "      flex-wrap:wrap;\n",
              "      gap: 12px;\n",
              "    }\n",
              "\n",
              "    .colab-df-convert {\n",
              "      background-color: #E8F0FE;\n",
              "      border: none;\n",
              "      border-radius: 50%;\n",
              "      cursor: pointer;\n",
              "      display: none;\n",
              "      fill: #1967D2;\n",
              "      height: 32px;\n",
              "      padding: 0 0 0 0;\n",
              "      width: 32px;\n",
              "    }\n",
              "\n",
              "    .colab-df-convert:hover {\n",
              "      background-color: #E2EBFA;\n",
              "      box-shadow: 0px 1px 2px rgba(60, 64, 67, 0.3), 0px 1px 3px 1px rgba(60, 64, 67, 0.15);\n",
              "      fill: #174EA6;\n",
              "    }\n",
              "\n",
              "    [theme=dark] .colab-df-convert {\n",
              "      background-color: #3B4455;\n",
              "      fill: #D2E3FC;\n",
              "    }\n",
              "\n",
              "    [theme=dark] .colab-df-convert:hover {\n",
              "      background-color: #434B5C;\n",
              "      box-shadow: 0px 1px 3px 1px rgba(0, 0, 0, 0.15);\n",
              "      filter: drop-shadow(0px 1px 2px rgba(0, 0, 0, 0.3));\n",
              "      fill: #FFFFFF;\n",
              "    }\n",
              "  </style>\n",
              "\n",
              "      <script>\n",
              "        const buttonEl =\n",
              "          document.querySelector('#df-03457e75-6dcf-4c9b-aa0a-5f42877c369e button.colab-df-convert');\n",
              "        buttonEl.style.display =\n",
              "          google.colab.kernel.accessAllowed ? 'block' : 'none';\n",
              "\n",
              "        async function convertToInteractive(key) {\n",
              "          const element = document.querySelector('#df-03457e75-6dcf-4c9b-aa0a-5f42877c369e');\n",
              "          const dataTable =\n",
              "            await google.colab.kernel.invokeFunction('convertToInteractive',\n",
              "                                                     [key], {});\n",
              "          if (!dataTable) return;\n",
              "\n",
              "          const docLinkHtml = 'Like what you see? Visit the ' +\n",
              "            '<a target=\"_blank\" href=https://colab.research.google.com/notebooks/data_table.ipynb>data table notebook</a>'\n",
              "            + ' to learn more about interactive tables.';\n",
              "          element.innerHTML = '';\n",
              "          dataTable['output_type'] = 'display_data';\n",
              "          await google.colab.output.renderOutput(dataTable, element);\n",
              "          const docLink = document.createElement('div');\n",
              "          docLink.innerHTML = docLinkHtml;\n",
              "          element.appendChild(docLink);\n",
              "        }\n",
              "      </script>\n",
              "    </div>\n",
              "  </div>\n",
              "  "
            ]
          },
          "metadata": {},
          "execution_count": 6
        }
      ]
    },
    {
      "cell_type": "code",
      "source": [
        "# remove useless columns\n",
        "df.drop(\"Num\", axis=1, inplace=True)\n",
        "df.drop(\"Date\", axis=1, inplace=True)"
      ],
      "metadata": {
        "id": "2AiS9linDA-b"
      },
      "execution_count": 7,
      "outputs": []
    },
    {
      "cell_type": "code",
      "source": [
        "# reindex rows\n",
        "df.reset_index(drop=True, inplace=True)\n",
        "df.head(10)"
      ],
      "metadata": {
        "id": "5H4vyxXCbgt2",
        "colab": {
          "base_uri": "https://localhost:8080/",
          "height": 580
        },
        "outputId": "bcfd7ee6-302b-483c-fb89-2b49110a7d2a"
      },
      "execution_count": 8,
      "outputs": [
        {
          "output_type": "execute_result",
          "data": {
            "text/plain": [
              "              Brand                                               Name  \\\n",
              "0             Gallo         Ecco Domani174 Pinot Grigio - 750ml Bottle   \n",
              "1   Fresh Craft Co.   Fresh Craft174 Mango Citrus - 4pk / 250ml Bottle   \n",
              "2      1000 Stories           1000 Stories174 Zinfandel - 750ml Bottle   \n",
              "3      1000 Stories           1000 Stories174 Zinfandel - 750ml Bottle   \n",
              "4      Wine Cube153            Pink Moscato - 3l Bottle - Wine Cube153   \n",
              "5         Beck's Na  Beck's174 Non Alcoholic Beer - 6pk / 12oz Bottles   \n",
              "6             Gallo                Apothic174 Red Blend - 750ml Bottle   \n",
              "7             Gallo                Apothic174 Red Blend - 750ml Bottle   \n",
              "8  California Roots        California Roots Moscato White Wine - 750ml   \n",
              "9   Charles Charles        Charles Charles174 Red Blend - 750ml Bottle   \n",
              "\n",
              "  Recommend  Helpful  Rating    Weight                          Review Title  \\\n",
              "0      True      1.0     5.0   1.0 lbs                My Favorite White Wine   \n",
              "1      True      NaN     5.0  2.45 lbs                                 Yum!!   \n",
              "2      True      NaN     5.0  3.09 lbs                       A New Favorite!   \n",
              "3      True      NaN     5.0  3.09 lbs  Bold, Flavorful, Aromatic, Delicious   \n",
              "4      True      1.0     5.0   1.0 lbs  Yum! Plus, Environmentally Friendly!   \n",
              "5      True      NaN     5.0   1.0 lbs                           Great Taste   \n",
              "6       NaN      1.0     3.0   1.0 lbs                      Simply Wonderful   \n",
              "7       NaN      1.0     2.0   1.0 lbs                          A Sweet Red.   \n",
              "8      True      0.0     5.0  2.65 lbs                                   NaN   \n",
              "9      True      NaN     5.0   1.0 lbs           Charles & Charles Red Blend   \n",
              "\n",
              "                                              Review  \n",
              "0      This a fantastic white wine for any occasion!  \n",
              "1   Tart, not sweet...very refreshing and delicious!  \n",
              "2  I was given this wine so it was a delightful s...  \n",
              "3  This is a phenomenal wine and my new favorite ...  \n",
              "4  4 750ml bottles for the price of two With way ...  \n",
              "5  I LOVE Becks NA. It tastes just like a regular...  \n",
              "6  This wine has a wonderful but strong aroma its...  \n",
              "7  I would give one more star if it came clean on...  \n",
              "8                      Delicious and very affordable  \n",
              "9  This is a very smooth red with Aromas of cocoa...  "
            ],
            "text/html": [
              "\n",
              "  <div id=\"df-409b30a5-14d3-497e-b9fc-324cefb72f21\">\n",
              "    <div class=\"colab-df-container\">\n",
              "      <div>\n",
              "<style scoped>\n",
              "    .dataframe tbody tr th:only-of-type {\n",
              "        vertical-align: middle;\n",
              "    }\n",
              "\n",
              "    .dataframe tbody tr th {\n",
              "        vertical-align: top;\n",
              "    }\n",
              "\n",
              "    .dataframe thead th {\n",
              "        text-align: right;\n",
              "    }\n",
              "</style>\n",
              "<table border=\"1\" class=\"dataframe\">\n",
              "  <thead>\n",
              "    <tr style=\"text-align: right;\">\n",
              "      <th></th>\n",
              "      <th>Brand</th>\n",
              "      <th>Name</th>\n",
              "      <th>Recommend</th>\n",
              "      <th>Helpful</th>\n",
              "      <th>Rating</th>\n",
              "      <th>Weight</th>\n",
              "      <th>Review Title</th>\n",
              "      <th>Review</th>\n",
              "    </tr>\n",
              "  </thead>\n",
              "  <tbody>\n",
              "    <tr>\n",
              "      <th>0</th>\n",
              "      <td>Gallo</td>\n",
              "      <td>Ecco Domani174 Pinot Grigio - 750ml Bottle</td>\n",
              "      <td>True</td>\n",
              "      <td>1.0</td>\n",
              "      <td>5.0</td>\n",
              "      <td>1.0 lbs</td>\n",
              "      <td>My Favorite White Wine</td>\n",
              "      <td>This a fantastic white wine for any occasion!</td>\n",
              "    </tr>\n",
              "    <tr>\n",
              "      <th>1</th>\n",
              "      <td>Fresh Craft Co.</td>\n",
              "      <td>Fresh Craft174 Mango Citrus - 4pk / 250ml Bottle</td>\n",
              "      <td>True</td>\n",
              "      <td>NaN</td>\n",
              "      <td>5.0</td>\n",
              "      <td>2.45 lbs</td>\n",
              "      <td>Yum!!</td>\n",
              "      <td>Tart, not sweet...very refreshing and delicious!</td>\n",
              "    </tr>\n",
              "    <tr>\n",
              "      <th>2</th>\n",
              "      <td>1000 Stories</td>\n",
              "      <td>1000 Stories174 Zinfandel - 750ml Bottle</td>\n",
              "      <td>True</td>\n",
              "      <td>NaN</td>\n",
              "      <td>5.0</td>\n",
              "      <td>3.09 lbs</td>\n",
              "      <td>A New Favorite!</td>\n",
              "      <td>I was given this wine so it was a delightful s...</td>\n",
              "    </tr>\n",
              "    <tr>\n",
              "      <th>3</th>\n",
              "      <td>1000 Stories</td>\n",
              "      <td>1000 Stories174 Zinfandel - 750ml Bottle</td>\n",
              "      <td>True</td>\n",
              "      <td>NaN</td>\n",
              "      <td>5.0</td>\n",
              "      <td>3.09 lbs</td>\n",
              "      <td>Bold, Flavorful, Aromatic, Delicious</td>\n",
              "      <td>This is a phenomenal wine and my new favorite ...</td>\n",
              "    </tr>\n",
              "    <tr>\n",
              "      <th>4</th>\n",
              "      <td>Wine Cube153</td>\n",
              "      <td>Pink Moscato - 3l Bottle - Wine Cube153</td>\n",
              "      <td>True</td>\n",
              "      <td>1.0</td>\n",
              "      <td>5.0</td>\n",
              "      <td>1.0 lbs</td>\n",
              "      <td>Yum! Plus, Environmentally Friendly!</td>\n",
              "      <td>4 750ml bottles for the price of two With way ...</td>\n",
              "    </tr>\n",
              "    <tr>\n",
              "      <th>5</th>\n",
              "      <td>Beck's Na</td>\n",
              "      <td>Beck's174 Non Alcoholic Beer - 6pk / 12oz Bottles</td>\n",
              "      <td>True</td>\n",
              "      <td>NaN</td>\n",
              "      <td>5.0</td>\n",
              "      <td>1.0 lbs</td>\n",
              "      <td>Great Taste</td>\n",
              "      <td>I LOVE Becks NA. It tastes just like a regular...</td>\n",
              "    </tr>\n",
              "    <tr>\n",
              "      <th>6</th>\n",
              "      <td>Gallo</td>\n",
              "      <td>Apothic174 Red Blend - 750ml Bottle</td>\n",
              "      <td>NaN</td>\n",
              "      <td>1.0</td>\n",
              "      <td>3.0</td>\n",
              "      <td>1.0 lbs</td>\n",
              "      <td>Simply Wonderful</td>\n",
              "      <td>This wine has a wonderful but strong aroma its...</td>\n",
              "    </tr>\n",
              "    <tr>\n",
              "      <th>7</th>\n",
              "      <td>Gallo</td>\n",
              "      <td>Apothic174 Red Blend - 750ml Bottle</td>\n",
              "      <td>NaN</td>\n",
              "      <td>1.0</td>\n",
              "      <td>2.0</td>\n",
              "      <td>1.0 lbs</td>\n",
              "      <td>A Sweet Red.</td>\n",
              "      <td>I would give one more star if it came clean on...</td>\n",
              "    </tr>\n",
              "    <tr>\n",
              "      <th>8</th>\n",
              "      <td>California Roots</td>\n",
              "      <td>California Roots Moscato White Wine - 750ml</td>\n",
              "      <td>True</td>\n",
              "      <td>0.0</td>\n",
              "      <td>5.0</td>\n",
              "      <td>2.65 lbs</td>\n",
              "      <td>NaN</td>\n",
              "      <td>Delicious and very affordable</td>\n",
              "    </tr>\n",
              "    <tr>\n",
              "      <th>9</th>\n",
              "      <td>Charles Charles</td>\n",
              "      <td>Charles Charles174 Red Blend - 750ml Bottle</td>\n",
              "      <td>True</td>\n",
              "      <td>NaN</td>\n",
              "      <td>5.0</td>\n",
              "      <td>1.0 lbs</td>\n",
              "      <td>Charles &amp; Charles Red Blend</td>\n",
              "      <td>This is a very smooth red with Aromas of cocoa...</td>\n",
              "    </tr>\n",
              "  </tbody>\n",
              "</table>\n",
              "</div>\n",
              "      <button class=\"colab-df-convert\" onclick=\"convertToInteractive('df-409b30a5-14d3-497e-b9fc-324cefb72f21')\"\n",
              "              title=\"Convert this dataframe to an interactive table.\"\n",
              "              style=\"display:none;\">\n",
              "        \n",
              "  <svg xmlns=\"http://www.w3.org/2000/svg\" height=\"24px\"viewBox=\"0 0 24 24\"\n",
              "       width=\"24px\">\n",
              "    <path d=\"M0 0h24v24H0V0z\" fill=\"none\"/>\n",
              "    <path d=\"M18.56 5.44l.94 2.06.94-2.06 2.06-.94-2.06-.94-.94-2.06-.94 2.06-2.06.94zm-11 1L8.5 8.5l.94-2.06 2.06-.94-2.06-.94L8.5 2.5l-.94 2.06-2.06.94zm10 10l.94 2.06.94-2.06 2.06-.94-2.06-.94-.94-2.06-.94 2.06-2.06.94z\"/><path d=\"M17.41 7.96l-1.37-1.37c-.4-.4-.92-.59-1.43-.59-.52 0-1.04.2-1.43.59L10.3 9.45l-7.72 7.72c-.78.78-.78 2.05 0 2.83L4 21.41c.39.39.9.59 1.41.59.51 0 1.02-.2 1.41-.59l7.78-7.78 2.81-2.81c.8-.78.8-2.07 0-2.86zM5.41 20L4 18.59l7.72-7.72 1.47 1.35L5.41 20z\"/>\n",
              "  </svg>\n",
              "      </button>\n",
              "      \n",
              "  <style>\n",
              "    .colab-df-container {\n",
              "      display:flex;\n",
              "      flex-wrap:wrap;\n",
              "      gap: 12px;\n",
              "    }\n",
              "\n",
              "    .colab-df-convert {\n",
              "      background-color: #E8F0FE;\n",
              "      border: none;\n",
              "      border-radius: 50%;\n",
              "      cursor: pointer;\n",
              "      display: none;\n",
              "      fill: #1967D2;\n",
              "      height: 32px;\n",
              "      padding: 0 0 0 0;\n",
              "      width: 32px;\n",
              "    }\n",
              "\n",
              "    .colab-df-convert:hover {\n",
              "      background-color: #E2EBFA;\n",
              "      box-shadow: 0px 1px 2px rgba(60, 64, 67, 0.3), 0px 1px 3px 1px rgba(60, 64, 67, 0.15);\n",
              "      fill: #174EA6;\n",
              "    }\n",
              "\n",
              "    [theme=dark] .colab-df-convert {\n",
              "      background-color: #3B4455;\n",
              "      fill: #D2E3FC;\n",
              "    }\n",
              "\n",
              "    [theme=dark] .colab-df-convert:hover {\n",
              "      background-color: #434B5C;\n",
              "      box-shadow: 0px 1px 3px 1px rgba(0, 0, 0, 0.15);\n",
              "      filter: drop-shadow(0px 1px 2px rgba(0, 0, 0, 0.3));\n",
              "      fill: #FFFFFF;\n",
              "    }\n",
              "  </style>\n",
              "\n",
              "      <script>\n",
              "        const buttonEl =\n",
              "          document.querySelector('#df-409b30a5-14d3-497e-b9fc-324cefb72f21 button.colab-df-convert');\n",
              "        buttonEl.style.display =\n",
              "          google.colab.kernel.accessAllowed ? 'block' : 'none';\n",
              "\n",
              "        async function convertToInteractive(key) {\n",
              "          const element = document.querySelector('#df-409b30a5-14d3-497e-b9fc-324cefb72f21');\n",
              "          const dataTable =\n",
              "            await google.colab.kernel.invokeFunction('convertToInteractive',\n",
              "                                                     [key], {});\n",
              "          if (!dataTable) return;\n",
              "\n",
              "          const docLinkHtml = 'Like what you see? Visit the ' +\n",
              "            '<a target=\"_blank\" href=https://colab.research.google.com/notebooks/data_table.ipynb>data table notebook</a>'\n",
              "            + ' to learn more about interactive tables.';\n",
              "          element.innerHTML = '';\n",
              "          dataTable['output_type'] = 'display_data';\n",
              "          await google.colab.output.renderOutput(dataTable, element);\n",
              "          const docLink = document.createElement('div');\n",
              "          docLink.innerHTML = docLinkHtml;\n",
              "          element.appendChild(docLink);\n",
              "        }\n",
              "      </script>\n",
              "    </div>\n",
              "  </div>\n",
              "  "
            ]
          },
          "metadata": {},
          "execution_count": 8
        }
      ]
    },
    {
      "cell_type": "code",
      "source": [
        "# check for total amount of null values in each column\n",
        "print(df.isnull().sum())"
      ],
      "metadata": {
        "id": "Q7ZAX3-RGAOO",
        "colab": {
          "base_uri": "https://localhost:8080/"
        },
        "outputId": "0a0e05b8-d842-49f2-bcae-5364ce26c2b2"
      },
      "execution_count": 9,
      "outputs": [
        {
          "output_type": "stream",
          "name": "stdout",
          "text": [
            "Brand             65\n",
            "Name               0\n",
            "Recommend        979\n",
            "Helpful         2264\n",
            "Rating           445\n",
            "Weight          1894\n",
            "Review Title      44\n",
            "Review             1\n",
            "dtype: int64\n"
          ]
        }
      ]
    },
    {
      "cell_type": "code",
      "source": [
        "# remove all rows that have no ratings or recommendations\n",
        "df = df.dropna(subset=['Rating'])\n",
        "df = df.dropna(subset=['Recommend'])\n",
        "df.isnull().sum()"
      ],
      "metadata": {
        "id": "E9Pkbdj-IVA_",
        "colab": {
          "base_uri": "https://localhost:8080/"
        },
        "outputId": "b7528485-5428-41c1-dd21-979b6fba1595"
      },
      "execution_count": 10,
      "outputs": [
        {
          "output_type": "execute_result",
          "data": {
            "text/plain": [
              "Brand              0\n",
              "Name               0\n",
              "Recommend          0\n",
              "Helpful         1170\n",
              "Rating             0\n",
              "Weight          1392\n",
              "Review Title      10\n",
              "Review             0\n",
              "dtype: int64"
            ]
          },
          "metadata": {},
          "execution_count": 10
        }
      ]
    },
    {
      "cell_type": "code",
      "source": [
        "# check the all possible ratings from 1 to 5 are used\n",
        "np.unique(df['Rating'])"
      ],
      "metadata": {
        "id": "yJIJNlkkKqkV",
        "colab": {
          "base_uri": "https://localhost:8080/"
        },
        "outputId": "f47803b4-b607-4d30-ab3f-b8a9b790b461"
      },
      "execution_count": 11,
      "outputs": [
        {
          "output_type": "execute_result",
          "data": {
            "text/plain": [
              "array([1., 2., 3., 4., 5.])"
            ]
          },
          "metadata": {},
          "execution_count": 11
        }
      ]
    },
    {
      "cell_type": "code",
      "source": [
        "df.info()"
      ],
      "metadata": {
        "id": "FOC26UJ1BgCr",
        "colab": {
          "base_uri": "https://localhost:8080/"
        },
        "outputId": "1e4a4e4f-177c-4479-d323-7be8d6a84f5d"
      },
      "execution_count": 12,
      "outputs": [
        {
          "output_type": "stream",
          "name": "stdout",
          "text": [
            "<class 'pandas.core.frame.DataFrame'>\n",
            "Int64Index: 1748 entries, 0 to 2815\n",
            "Data columns (total 8 columns):\n",
            " #   Column        Non-Null Count  Dtype  \n",
            "---  ------        --------------  -----  \n",
            " 0   Brand         1748 non-null   object \n",
            " 1   Name          1748 non-null   object \n",
            " 2   Recommend     1748 non-null   object \n",
            " 3   Helpful       578 non-null    float64\n",
            " 4   Rating        1748 non-null   float64\n",
            " 5   Weight        356 non-null    object \n",
            " 6   Review Title  1738 non-null   object \n",
            " 7   Review        1748 non-null   object \n",
            "dtypes: float64(2), object(6)\n",
            "memory usage: 122.9+ KB\n"
          ]
        }
      ]
    },
    {
      "cell_type": "code",
      "source": [
        "# change data type of \"Rating\" from float to integer\n",
        "df['Rating'] = df['Rating'].astype(int)\n",
        "\n",
        "# change data type of \"Recommend\" from object to integer\n",
        "# \"True\" = 1, \"False\" = 0\n",
        "df[\"Recommend\"] = df[\"Recommend\"].astype(int)\n",
        "\n",
        "# check data types again\n",
        "df.info()"
      ],
      "metadata": {
        "id": "55B7BhBBL4VK",
        "colab": {
          "base_uri": "https://localhost:8080/"
        },
        "outputId": "3e92be95-1e29-4c3d-ad7d-225c33d7b9f4"
      },
      "execution_count": 13,
      "outputs": [
        {
          "output_type": "stream",
          "name": "stdout",
          "text": [
            "<class 'pandas.core.frame.DataFrame'>\n",
            "Int64Index: 1748 entries, 0 to 2815\n",
            "Data columns (total 8 columns):\n",
            " #   Column        Non-Null Count  Dtype  \n",
            "---  ------        --------------  -----  \n",
            " 0   Brand         1748 non-null   object \n",
            " 1   Name          1748 non-null   object \n",
            " 2   Recommend     1748 non-null   int64  \n",
            " 3   Helpful       578 non-null    float64\n",
            " 4   Rating        1748 non-null   int64  \n",
            " 5   Weight        356 non-null    object \n",
            " 6   Review Title  1738 non-null   object \n",
            " 7   Review        1748 non-null   object \n",
            "dtypes: float64(1), int64(2), object(5)\n",
            "memory usage: 122.9+ KB\n"
          ]
        }
      ]
    },
    {
      "cell_type": "code",
      "source": [
        "# inspect correlation between numeric features\n",
        "df.corr()"
      ],
      "metadata": {
        "id": "72OEXXdrb6EF",
        "colab": {
          "base_uri": "https://localhost:8080/",
          "height": 143
        },
        "outputId": "8042b032-6eb0-4f3b-d953-abff5e575b31"
      },
      "execution_count": 14,
      "outputs": [
        {
          "output_type": "execute_result",
          "data": {
            "text/plain": [
              "           Recommend   Helpful    Rating\n",
              "Recommend   1.000000  0.042670  0.767292\n",
              "Helpful     0.042670  1.000000  0.024891\n",
              "Rating      0.767292  0.024891  1.000000"
            ],
            "text/html": [
              "\n",
              "  <div id=\"df-947d0d5c-eb68-4159-9319-667e8bdaf228\">\n",
              "    <div class=\"colab-df-container\">\n",
              "      <div>\n",
              "<style scoped>\n",
              "    .dataframe tbody tr th:only-of-type {\n",
              "        vertical-align: middle;\n",
              "    }\n",
              "\n",
              "    .dataframe tbody tr th {\n",
              "        vertical-align: top;\n",
              "    }\n",
              "\n",
              "    .dataframe thead th {\n",
              "        text-align: right;\n",
              "    }\n",
              "</style>\n",
              "<table border=\"1\" class=\"dataframe\">\n",
              "  <thead>\n",
              "    <tr style=\"text-align: right;\">\n",
              "      <th></th>\n",
              "      <th>Recommend</th>\n",
              "      <th>Helpful</th>\n",
              "      <th>Rating</th>\n",
              "    </tr>\n",
              "  </thead>\n",
              "  <tbody>\n",
              "    <tr>\n",
              "      <th>Recommend</th>\n",
              "      <td>1.000000</td>\n",
              "      <td>0.042670</td>\n",
              "      <td>0.767292</td>\n",
              "    </tr>\n",
              "    <tr>\n",
              "      <th>Helpful</th>\n",
              "      <td>0.042670</td>\n",
              "      <td>1.000000</td>\n",
              "      <td>0.024891</td>\n",
              "    </tr>\n",
              "    <tr>\n",
              "      <th>Rating</th>\n",
              "      <td>0.767292</td>\n",
              "      <td>0.024891</td>\n",
              "      <td>1.000000</td>\n",
              "    </tr>\n",
              "  </tbody>\n",
              "</table>\n",
              "</div>\n",
              "      <button class=\"colab-df-convert\" onclick=\"convertToInteractive('df-947d0d5c-eb68-4159-9319-667e8bdaf228')\"\n",
              "              title=\"Convert this dataframe to an interactive table.\"\n",
              "              style=\"display:none;\">\n",
              "        \n",
              "  <svg xmlns=\"http://www.w3.org/2000/svg\" height=\"24px\"viewBox=\"0 0 24 24\"\n",
              "       width=\"24px\">\n",
              "    <path d=\"M0 0h24v24H0V0z\" fill=\"none\"/>\n",
              "    <path d=\"M18.56 5.44l.94 2.06.94-2.06 2.06-.94-2.06-.94-.94-2.06-.94 2.06-2.06.94zm-11 1L8.5 8.5l.94-2.06 2.06-.94-2.06-.94L8.5 2.5l-.94 2.06-2.06.94zm10 10l.94 2.06.94-2.06 2.06-.94-2.06-.94-.94-2.06-.94 2.06-2.06.94z\"/><path d=\"M17.41 7.96l-1.37-1.37c-.4-.4-.92-.59-1.43-.59-.52 0-1.04.2-1.43.59L10.3 9.45l-7.72 7.72c-.78.78-.78 2.05 0 2.83L4 21.41c.39.39.9.59 1.41.59.51 0 1.02-.2 1.41-.59l7.78-7.78 2.81-2.81c.8-.78.8-2.07 0-2.86zM5.41 20L4 18.59l7.72-7.72 1.47 1.35L5.41 20z\"/>\n",
              "  </svg>\n",
              "      </button>\n",
              "      \n",
              "  <style>\n",
              "    .colab-df-container {\n",
              "      display:flex;\n",
              "      flex-wrap:wrap;\n",
              "      gap: 12px;\n",
              "    }\n",
              "\n",
              "    .colab-df-convert {\n",
              "      background-color: #E8F0FE;\n",
              "      border: none;\n",
              "      border-radius: 50%;\n",
              "      cursor: pointer;\n",
              "      display: none;\n",
              "      fill: #1967D2;\n",
              "      height: 32px;\n",
              "      padding: 0 0 0 0;\n",
              "      width: 32px;\n",
              "    }\n",
              "\n",
              "    .colab-df-convert:hover {\n",
              "      background-color: #E2EBFA;\n",
              "      box-shadow: 0px 1px 2px rgba(60, 64, 67, 0.3), 0px 1px 3px 1px rgba(60, 64, 67, 0.15);\n",
              "      fill: #174EA6;\n",
              "    }\n",
              "\n",
              "    [theme=dark] .colab-df-convert {\n",
              "      background-color: #3B4455;\n",
              "      fill: #D2E3FC;\n",
              "    }\n",
              "\n",
              "    [theme=dark] .colab-df-convert:hover {\n",
              "      background-color: #434B5C;\n",
              "      box-shadow: 0px 1px 3px 1px rgba(0, 0, 0, 0.15);\n",
              "      filter: drop-shadow(0px 1px 2px rgba(0, 0, 0, 0.3));\n",
              "      fill: #FFFFFF;\n",
              "    }\n",
              "  </style>\n",
              "\n",
              "      <script>\n",
              "        const buttonEl =\n",
              "          document.querySelector('#df-947d0d5c-eb68-4159-9319-667e8bdaf228 button.colab-df-convert');\n",
              "        buttonEl.style.display =\n",
              "          google.colab.kernel.accessAllowed ? 'block' : 'none';\n",
              "\n",
              "        async function convertToInteractive(key) {\n",
              "          const element = document.querySelector('#df-947d0d5c-eb68-4159-9319-667e8bdaf228');\n",
              "          const dataTable =\n",
              "            await google.colab.kernel.invokeFunction('convertToInteractive',\n",
              "                                                     [key], {});\n",
              "          if (!dataTable) return;\n",
              "\n",
              "          const docLinkHtml = 'Like what you see? Visit the ' +\n",
              "            '<a target=\"_blank\" href=https://colab.research.google.com/notebooks/data_table.ipynb>data table notebook</a>'\n",
              "            + ' to learn more about interactive tables.';\n",
              "          element.innerHTML = '';\n",
              "          dataTable['output_type'] = 'display_data';\n",
              "          await google.colab.output.renderOutput(dataTable, element);\n",
              "          const docLink = document.createElement('div');\n",
              "          docLink.innerHTML = docLinkHtml;\n",
              "          element.appendChild(docLink);\n",
              "        }\n",
              "      </script>\n",
              "    </div>\n",
              "  </div>\n",
              "  "
            ]
          },
          "metadata": {},
          "execution_count": 14
        }
      ]
    },
    {
      "cell_type": "markdown",
      "source": [
        "- There is a weak positive correlation between recommend and helpful. Reviews that were voted helpful tend to be about alcohol that reviewers recommend to others.\n",
        "- There is a strong positive correlation between recommend and rating. The higher the rating/quality of the alcohol, then then the more likely that the reviewer would recommend it.\n",
        "- There is a very weak positive correlation between helpful and rating. Alcohol that was voted helpful tend to have slightly higher ratings than reviews not considered helpful."
      ],
      "metadata": {
        "id": "hJSUEBotcmi0"
      }
    },
    {
      "cell_type": "code",
      "source": [
        "# check for duplicated reviews\n",
        "df['Review'].duplicated().sum()"
      ],
      "metadata": {
        "id": "Y4Ggih8XF42P",
        "colab": {
          "base_uri": "https://localhost:8080/"
        },
        "outputId": "0bd93c2d-9cdf-4a51-dbde-eb1dd41a1151"
      },
      "execution_count": 15,
      "outputs": [
        {
          "output_type": "execute_result",
          "data": {
            "text/plain": [
              "13"
            ]
          },
          "metadata": {},
          "execution_count": 15
        }
      ]
    },
    {
      "cell_type": "code",
      "source": [
        "# remove duplicated reviews\n",
        "df['Review'].drop_duplicates()"
      ],
      "metadata": {
        "id": "U1QKOX4uF-UU",
        "colab": {
          "base_uri": "https://localhost:8080/"
        },
        "outputId": "5564a66f-061a-411c-b950-dd859fff3bb0"
      },
      "execution_count": 16,
      "outputs": [
        {
          "output_type": "execute_result",
          "data": {
            "text/plain": [
              "0           This a fantastic white wine for any occasion!\n",
              "1        Tart, not sweet...very refreshing and delicious!\n",
              "2       I was given this wine so it was a delightful s...\n",
              "3       This is a phenomenal wine and my new favorite ...\n",
              "4       4 750ml bottles for the price of two With way ...\n",
              "                              ...                        \n",
              "2811    My kids love them. So no complaints but I'm su...\n",
              "2812    Easy and quick to serve, brings a smile to the...\n",
              "2813                         Worked great kids loved them\n",
              "2814    Walmart used to carry a Swiss water decaf coff...\n",
              "2815    Great decaf coffee using Swiss water process. ...\n",
              "Name: Review, Length: 1735, dtype: object"
            ]
          },
          "metadata": {},
          "execution_count": 16
        }
      ]
    },
    {
      "cell_type": "code",
      "source": [
        "# clean text in reviews with natural language toolkit\n",
        "!pip install nltk\n",
        "import nltk\n",
        "\n",
        "# define stopwords to remove\n",
        "from nltk.corpus import stopwords\n",
        "nltk.download('punkt')\n",
        "nltk.download('stopwords')\n",
        "stopwords = set(stopwords.words(\"english\"))"
      ],
      "metadata": {
        "id": "PupCwDbIoOpi",
        "colab": {
          "base_uri": "https://localhost:8080/"
        },
        "outputId": "4f2731eb-4ef7-4e15-9c23-88f5d7770331"
      },
      "execution_count": 17,
      "outputs": [
        {
          "output_type": "stream",
          "name": "stdout",
          "text": [
            "Looking in indexes: https://pypi.org/simple, https://us-python.pkg.dev/colab-wheels/public/simple/\n",
            "Requirement already satisfied: nltk in /usr/local/lib/python3.8/dist-packages (3.7)\n",
            "Requirement already satisfied: click in /usr/local/lib/python3.8/dist-packages (from nltk) (7.1.2)\n",
            "Requirement already satisfied: tqdm in /usr/local/lib/python3.8/dist-packages (from nltk) (4.64.1)\n",
            "Requirement already satisfied: regex>=2021.8.3 in /usr/local/lib/python3.8/dist-packages (from nltk) (2022.6.2)\n",
            "Requirement already satisfied: joblib in /usr/local/lib/python3.8/dist-packages (from nltk) (1.2.0)\n"
          ]
        },
        {
          "output_type": "stream",
          "name": "stderr",
          "text": [
            "[nltk_data] Downloading package punkt to /root/nltk_data...\n",
            "[nltk_data]   Unzipping tokenizers/punkt.zip.\n",
            "[nltk_data] Downloading package stopwords to /root/nltk_data...\n",
            "[nltk_data]   Unzipping corpora/stopwords.zip.\n"
          ]
        }
      ]
    },
    {
      "cell_type": "code",
      "source": [
        "# tokenize text with regex before cleaning\n",
        "from nltk import word_tokenize\n",
        "from nltk.tokenize.treebank import TreebankWordDetokenizer\n",
        "token = TreebankWordDetokenizer()\n",
        "\n",
        "def clean(w):\n",
        "    w = word_tokenize(w.lower()) # turn all token words lowercase\n",
        "    w = [token for token in w if token not in stopwords and token.isalpha()] # remove stopwords and non-words (punctuation, numbers, etc.)\n",
        "    return token.detokenize(w)\n",
        "\n",
        "df[\"Clean_Reviews\"] = df[\"Review\"].apply(clean)"
      ],
      "metadata": {
        "id": "NzYNfnTejmJV"
      },
      "execution_count": 18,
      "outputs": []
    },
    {
      "cell_type": "code",
      "source": [
        "# check to make sure the reviews were cleaned correctly\n",
        "df[\"Clean_Reviews\"].sample(10)"
      ],
      "metadata": {
        "id": "-Yj3GOHztCI7",
        "colab": {
          "base_uri": "https://localhost:8080/"
        },
        "outputId": "f111bfe9-f6d4-48a8-952b-d74f076ab136"
      },
      "execution_count": 19,
      "outputs": [
        {
          "output_type": "execute_result",
          "data": {
            "text/plain": [
              "1596    prefer purchase store individually whatever ne...\n",
              "477                             best bloody mary mix ever\n",
              "2364    started using carmex cna brand count heal supp...\n",
              "2061    using carmex yrs still always keep jar purse t...\n",
              "2226    started applying four times day honestly great...\n",
              "2373    buy carmex tub becuase mother always wood open...\n",
              "829                                              favorite\n",
              "1980    use many year really work dry lips light burn ...\n",
              "1994    always go back carmex original lip balm jar li...\n",
              "2585    using carmex original lip balm jar since child...\n",
              "Name: Clean_Reviews, dtype: object"
            ]
          },
          "metadata": {},
          "execution_count": 19
        }
      ]
    },
    {
      "cell_type": "markdown",
      "source": [
        "# Neural Network Algorithm - Classification"
      ],
      "metadata": {
        "id": "PW8V5xxiK_or"
      }
    },
    {
      "cell_type": "markdown",
      "source": [
        "### Preprocessing"
      ],
      "metadata": {
        "id": "yeJ7Q9PsLLMa"
      }
    },
    {
      "cell_type": "code",
      "source": [
        "# split dataset 30% test, 70% train\n",
        "y = df[\"Rating\"].values\n",
        "words = df[\"Clean_Reviews\"].values\n",
        "\n",
        "x_train, x_test, y_train, y_test = train_test_split(words, y, test_size=0.3, shuffle=True, random_state=42)"
      ],
      "metadata": {
        "id": "1HDqQ6ODAHrL"
      },
      "execution_count": 20,
      "outputs": []
    },
    {
      "cell_type": "code",
      "source": [
        "# examine a random dictionary entry\n",
        "print(\"Review:\", x_train[2])\n",
        "print(\"Rating:\", y_train[2])"
      ],
      "metadata": {
        "colab": {
          "base_uri": "https://localhost:8080/"
        },
        "id": "bYc8rJPI4ga8",
        "outputId": "7dec2d22-aeb2-4e17-9148-cb8e90ae0d3f"
      },
      "execution_count": 21,
      "outputs": [
        {
          "output_type": "stream",
          "name": "stdout",
          "text": [
            "Review: product must work outdoors cant tell many times fellow flagger friends forgot pinch asked use mine thank carmex\n",
            "Rating: 5\n"
          ]
        }
      ]
    },
    {
      "cell_type": "code",
      "source": [
        "# tokenize the reviews to vectorize each word as an integer\n",
        "from keras.preprocessing.text import Tokenizer\n",
        "\n",
        "# limit vocabularly index to the most common 5000 words\n",
        "tokenizer = Tokenizer(num_words=5000)\n",
        "# create vocab index based on word frequency\n",
        "tokenizer.fit_on_texts(x_train)\n",
        "# apply limited vocab to train and test\n",
        "x_train = tokenizer.texts_to_sequences(x_train)\n",
        "x_test = tokenizer.texts_to_sequences(x_test)"
      ],
      "metadata": {
        "id": "wpyBLExX1lvl"
      },
      "execution_count": 22,
      "outputs": []
    },
    {
      "cell_type": "code",
      "source": [
        "# examine a random dictionary entry\n",
        "print(\"Encoded Review:\", x_train[2])\n",
        "print(\"Rating:\", y_train[2])"
      ],
      "metadata": {
        "colab": {
          "base_uri": "https://localhost:8080/"
        },
        "id": "Bo4wDEsrBSaV",
        "outputId": "3472dc96-81cf-4a4d-9545-c37a86184fd8"
      },
      "execution_count": 23,
      "outputs": [
        {
          "output_type": "stream",
          "name": "stdout",
          "text": [
            "Encoded Review: [4, 175, 65, 1526, 491, 272, 46, 96, 803, 1527, 123, 492, 1069, 804, 5, 352, 101, 2]\n",
            "Rating: 5\n"
          ]
        }
      ]
    },
    {
      "cell_type": "code",
      "source": [
        "# re-vectorize reviews into sparse 2D nummpy array, with many zeros in the data\n",
        "# convert the reviews into a matrix, one review per row and one column per word\n",
        "def vectorize_sequences(sequences, dimension=10000):\n",
        "    results = np.zeros((len(sequences), dimension))\n",
        "    for i, sequence in enumerate(sequences):\n",
        "        results[i, sequence] = 1.\n",
        "    return results\n",
        "\n",
        "num_words=5000\n",
        "x_train = vectorize_sequences(x_train, dimension=num_words)\n",
        "x_test = vectorize_sequences(x_test, dimension=num_words)\n",
        "\n",
        "print(x_train.shape)\n",
        "print(x_test.shape)"
      ],
      "metadata": {
        "colab": {
          "base_uri": "https://localhost:8080/"
        },
        "id": "mfOMEkmtEhIN",
        "outputId": "762b90a9-8d06-4f35-9814-575e8ded0604"
      },
      "execution_count": 24,
      "outputs": [
        {
          "output_type": "stream",
          "name": "stdout",
          "text": [
            "(1223, 5000)\n",
            "(525, 5000)\n"
          ]
        }
      ]
    },
    {
      "cell_type": "code",
      "source": [
        "print(y_train[:15])\n",
        "print(y_test[:15])"
      ],
      "metadata": {
        "colab": {
          "base_uri": "https://localhost:8080/"
        },
        "id": "hvppg8JhEy69",
        "outputId": "c70c548a-fb2d-4570-df91-73d3802beb78"
      },
      "execution_count": 25,
      "outputs": [
        {
          "output_type": "stream",
          "name": "stdout",
          "text": [
            "[5 5 5 5 5 5 5 5 3 5 5 5 5 5 5]\n",
            "[4 5 4 5 4 5 4 4 5 5 5 5 5 5 5]\n"
          ]
        }
      ]
    },
    {
      "cell_type": "code",
      "source": [
        "from collections import Counter\n",
        "cnt = Counter(list(y_train))\n",
        "num_classes = 5\n",
        "cnt.most_common(num_classes)"
      ],
      "metadata": {
        "colab": {
          "base_uri": "https://localhost:8080/"
        },
        "id": "UzNLYfHYE5SY",
        "outputId": "f839f0b7-58e9-490c-a7a7-e194c8bb93f0"
      },
      "execution_count": 26,
      "outputs": [
        {
          "output_type": "execute_result",
          "data": {
            "text/plain": [
              "[(5, 1057), (4, 101), (3, 27), (1, 25), (2, 13)]"
            ]
          },
          "metadata": {},
          "execution_count": 26
        }
      ]
    },
    {
      "cell_type": "code",
      "source": [
        "selected_labels = sorted(set([i[0] for i in cnt.most_common(num_classes)]))\n",
        "selected_labels"
      ],
      "metadata": {
        "colab": {
          "base_uri": "https://localhost:8080/"
        },
        "id": "MXLlphZPE7Dy",
        "outputId": "d978e0fa-b58b-4bab-cde1-600d700146b2"
      },
      "execution_count": 27,
      "outputs": [
        {
          "output_type": "execute_result",
          "data": {
            "text/plain": [
              "[1, 2, 3, 4, 5]"
            ]
          },
          "metadata": {},
          "execution_count": 27
        }
      ]
    },
    {
      "cell_type": "code",
      "source": [
        "train_mask = [True if l in selected_labels else False for l in y_train]\n",
        "x_train = x_train[train_mask, :]\n",
        "y_train = y_train[train_mask]\n",
        "y_train = np.array([selected_labels.index(i) for i in y_train]) # reindex\n",
        "\n",
        "test_mask = [True if l in selected_labels else False for l in y_test]\n",
        "x_test= x_test[test_mask, :]\n",
        "y_test = y_test[test_mask]\n",
        "y_test = np.array([selected_labels.index(i) for i in y_test]) # reindex\n",
        "\n",
        "print(x_train.shape)\n",
        "print(x_test.shape)\n",
        "print(y_train.shape)\n",
        "print(y_test.shape)"
      ],
      "metadata": {
        "colab": {
          "base_uri": "https://localhost:8080/"
        },
        "id": "9e20T7eIE-dK",
        "outputId": "74993c7a-5aa1-48d8-c5aa-8e9093f1e1d7"
      },
      "execution_count": 28,
      "outputs": [
        {
          "output_type": "stream",
          "name": "stdout",
          "text": [
            "(1223, 5000)\n",
            "(525, 5000)\n",
            "(1223,)\n",
            "(525,)\n"
          ]
        }
      ]
    },
    {
      "cell_type": "code",
      "source": [
        "# split training data into 30% train and 70% dev\n",
        "x_train, x_dev, y_train, y_dev = train_test_split(x_train, y_train, test_size=0.3, random_state=42)\n",
        "print(y_train.shape)\n",
        "print(x_train.shape)\n",
        "print(x_dev.shape)\n",
        "print(y_dev.shape)"
      ],
      "metadata": {
        "colab": {
          "base_uri": "https://localhost:8080/"
        },
        "id": "eRsWweDsFK_m",
        "outputId": "6c800c5b-07e9-4ebe-b4c4-5ae89100e08b"
      },
      "execution_count": 29,
      "outputs": [
        {
          "output_type": "stream",
          "name": "stdout",
          "text": [
            "(856,)\n",
            "(856, 5000)\n",
            "(367, 5000)\n",
            "(367,)\n"
          ]
        }
      ]
    },
    {
      "cell_type": "code",
      "source": [
        "# convert numpy array into PyTorch format\n",
        "\n",
        "# 1) define function\n",
        "def np2iter(x, y, shuffle=True):\n",
        "  x = torch.tensor(x, dtype=torch.float)\n",
        "  y = torch.tensor(y, dtype=torch.long)\n",
        "  print(x.shape)\n",
        "  print(y.shape)\n",
        "  print(\"----------------------\")\n",
        "\n",
        "  ds = torch.utils.data.TensorDataset(x, y)\n",
        "  return torch.utils.data.DataLoader(ds, batch_size=32, shuffle=shuffle)\n",
        "\n",
        "# 2) convert data\n",
        "train_iter = np2iter(x_train, y_train, shuffle=True) # DO shuffle train\n",
        "dev_iter =  np2iter(x_dev, y_dev, shuffle=False) # do NOT shuffle dev or test\n",
        "test_iter =  np2iter(x_test, y_test, shuffle=False)"
      ],
      "metadata": {
        "colab": {
          "base_uri": "https://localhost:8080/"
        },
        "id": "Uzyjv9faFNiV",
        "outputId": "17847c68-7b77-4d3f-b6ba-957f860241f3"
      },
      "execution_count": 30,
      "outputs": [
        {
          "output_type": "stream",
          "name": "stdout",
          "text": [
            "torch.Size([856, 5000])\n",
            "torch.Size([856])\n",
            "----------------------\n",
            "torch.Size([367, 5000])\n",
            "torch.Size([367])\n",
            "----------------------\n",
            "torch.Size([525, 5000])\n",
            "torch.Size([525])\n",
            "----------------------\n"
          ]
        }
      ]
    },
    {
      "cell_type": "code",
      "source": [
        "# defining accuracy\n",
        "def val_acc(y_pred, y_test): # define accuracy\n",
        "  y_pred = np.argmax(y_pred, axis=1)\n",
        "  return accuracy_score(y_pred=y_pred, y_true=y_test)"
      ],
      "metadata": {
        "id": "5L0qbYdpFwad"
      },
      "execution_count": 31,
      "outputs": []
    },
    {
      "cell_type": "markdown",
      "source": [
        "## Model"
      ],
      "metadata": {
        "id": "RySLkWAMLnbE"
      }
    },
    {
      "cell_type": "code",
      "source": [
        "# define the model\n",
        "num_words = 5000\n",
        "num_ratings = 5\n",
        "\n",
        "class MultiClassModel(nn.Module):\n",
        "  def __init__(self, in_features=num_words, out_features=num_ratings):\n",
        "    super(MultiClassModel, self).__init__()\n",
        "    \n",
        "    # define linear layer\n",
        "    self.layer = nn.Linear(in_features=in_features, out_features=out_features)\n",
        "\n",
        "\n",
        "  # feed the model the input and apply the linear layer to get the output\n",
        "  def forward(self, x):\n",
        "    return self.layer(x) "
      ],
      "metadata": {
        "id": "4PUuNQMBFQFI"
      },
      "execution_count": 32,
      "outputs": []
    },
    {
      "cell_type": "code",
      "source": [
        "classification_model = MultiClassModel(in_features=num_words, out_features=num_classes)\n",
        "classification_model = classification_model.cuda()"
      ],
      "metadata": {
        "id": "2l319rxEL8aY"
      },
      "execution_count": 33,
      "outputs": []
    },
    {
      "cell_type": "code",
      "source": [
        "# use crossentropy loss which includes softmax activation automatically\n",
        "history = utils.train(model=classification_model,\n",
        "                            loss=nn.CrossEntropyLoss(), \n",
        "                            val_metrics={\"cls\": nn.CrossEntropyLoss(), \"acc\": val_acc}, \n",
        "                            optimizer=torch.optim.SGD(classification_model.parameters(), lr=0.01),\n",
        "                            train_ds=train_iter, \n",
        "                            dev_ds=dev_iter,\n",
        "                            num_epochs=150)"
      ],
      "metadata": {
        "colab": {
          "base_uri": "https://localhost:8080/"
        },
        "id": "K40gJZ8eFw1H",
        "outputId": "338c29d6-78b4-402a-a9c2-07e8e057b627"
      },
      "execution_count": 34,
      "outputs": [
        {
          "output_type": "stream",
          "name": "stdout",
          "text": [
            "=========\n",
            "epoch 1 train loss: 1.4927 val_cls: 1.3696 val_acc: 0.8665\n",
            "=========\n",
            "epoch 2 train loss: 1.2729 val_cls: 1.1803 val_acc: 0.8665\n",
            "=========\n",
            "epoch 3 train loss: 1.1049 val_cls: 1.0385 val_acc: 0.8665\n",
            "=========\n",
            "epoch 4 train loss: 0.9798 val_cls: 0.9341 val_acc: 0.8665\n",
            "=========\n",
            "epoch 5 train loss: 0.8871 val_cls: 0.8566 val_acc: 0.8665\n",
            "=========\n",
            "epoch 6 train loss: 0.8176 val_cls: 0.7981 val_acc: 0.8665\n",
            "=========\n",
            "epoch 7 train loss: 0.7645 val_cls: 0.7534 val_acc: 0.8665\n",
            "=========\n",
            "epoch 8 train loss: 0.7234 val_cls: 0.7190 val_acc: 0.8665\n",
            "=========\n",
            "epoch 9 train loss: 0.6912 val_cls: 0.6917 val_acc: 0.8665\n",
            "=========\n",
            "epoch 10 train loss: 0.6653 val_cls: 0.6699 val_acc: 0.8665\n",
            "=========\n",
            "epoch 11 train loss: 0.6443 val_cls: 0.6522 val_acc: 0.8665\n",
            "=========\n",
            "epoch 12 train loss: 0.6270 val_cls: 0.6377 val_acc: 0.8665\n",
            "=========\n",
            "epoch 13 train loss: 0.6125 val_cls: 0.6258 val_acc: 0.8665\n",
            "=========\n",
            "epoch 14 train loss: 0.6003 val_cls: 0.6157 val_acc: 0.8665\n",
            "=========\n",
            "epoch 15 train loss: 0.5899 val_cls: 0.6071 val_acc: 0.8665\n",
            "=========\n",
            "epoch 16 train loss: 0.5809 val_cls: 0.5998 val_acc: 0.8665\n",
            "=========\n",
            "epoch 17 train loss: 0.5730 val_cls: 0.5935 val_acc: 0.8665\n",
            "=========\n",
            "epoch 18 train loss: 0.5661 val_cls: 0.5880 val_acc: 0.8665\n",
            "=========\n",
            "epoch 19 train loss: 0.5599 val_cls: 0.5832 val_acc: 0.8665\n",
            "=========\n",
            "epoch 20 train loss: 0.5544 val_cls: 0.5790 val_acc: 0.8665\n",
            "=========\n",
            "epoch 21 train loss: 0.5494 val_cls: 0.5752 val_acc: 0.8665\n",
            "=========\n",
            "epoch 22 train loss: 0.5449 val_cls: 0.5718 val_acc: 0.8665\n",
            "=========\n",
            "epoch 23 train loss: 0.5407 val_cls: 0.5687 val_acc: 0.8665\n",
            "=========\n",
            "epoch 24 train loss: 0.5369 val_cls: 0.5659 val_acc: 0.8665\n",
            "=========\n",
            "epoch 25 train loss: 0.5333 val_cls: 0.5634 val_acc: 0.8665\n",
            "=========\n",
            "epoch 26 train loss: 0.5300 val_cls: 0.5610 val_acc: 0.8665\n",
            "=========\n",
            "epoch 27 train loss: 0.5269 val_cls: 0.5589 val_acc: 0.8665\n",
            "=========\n",
            "epoch 28 train loss: 0.5239 val_cls: 0.5569 val_acc: 0.8665\n",
            "=========\n",
            "epoch 29 train loss: 0.5212 val_cls: 0.5551 val_acc: 0.8665\n",
            "=========\n",
            "epoch 30 train loss: 0.5185 val_cls: 0.5533 val_acc: 0.8665\n",
            "=========\n",
            "epoch 31 train loss: 0.5160 val_cls: 0.5517 val_acc: 0.8665\n",
            "=========\n",
            "epoch 32 train loss: 0.5136 val_cls: 0.5501 val_acc: 0.8665\n",
            "=========\n",
            "epoch 33 train loss: 0.5113 val_cls: 0.5487 val_acc: 0.8665\n",
            "=========\n",
            "epoch 34 train loss: 0.5090 val_cls: 0.5473 val_acc: 0.8665\n",
            "=========\n",
            "epoch 35 train loss: 0.5069 val_cls: 0.5460 val_acc: 0.8665\n",
            "=========\n",
            "epoch 36 train loss: 0.5048 val_cls: 0.5447 val_acc: 0.8665\n",
            "=========\n",
            "epoch 37 train loss: 0.5027 val_cls: 0.5435 val_acc: 0.8665\n",
            "=========\n",
            "epoch 38 train loss: 0.5007 val_cls: 0.5423 val_acc: 0.8665\n",
            "=========\n",
            "epoch 39 train loss: 0.4988 val_cls: 0.5412 val_acc: 0.8665\n",
            "=========\n",
            "epoch 40 train loss: 0.4969 val_cls: 0.5401 val_acc: 0.8665\n",
            "=========\n",
            "epoch 41 train loss: 0.4951 val_cls: 0.5391 val_acc: 0.8665\n",
            "=========\n",
            "epoch 42 train loss: 0.4933 val_cls: 0.5381 val_acc: 0.8665\n",
            "=========\n",
            "epoch 43 train loss: 0.4916 val_cls: 0.5371 val_acc: 0.8665\n",
            "=========\n",
            "epoch 44 train loss: 0.4898 val_cls: 0.5362 val_acc: 0.8665\n",
            "=========\n",
            "epoch 45 train loss: 0.4882 val_cls: 0.5353 val_acc: 0.8665\n",
            "=========\n",
            "epoch 46 train loss: 0.4865 val_cls: 0.5344 val_acc: 0.8665\n",
            "=========\n",
            "epoch 47 train loss: 0.4849 val_cls: 0.5335 val_acc: 0.8665\n",
            "=========\n",
            "epoch 48 train loss: 0.4833 val_cls: 0.5327 val_acc: 0.8665\n",
            "=========\n",
            "epoch 49 train loss: 0.4817 val_cls: 0.5319 val_acc: 0.8665\n",
            "=========\n",
            "epoch 50 train loss: 0.4802 val_cls: 0.5310 val_acc: 0.8665\n",
            "=========\n",
            "epoch 51 train loss: 0.4786 val_cls: 0.5302 val_acc: 0.8665\n",
            "=========\n",
            "epoch 52 train loss: 0.4771 val_cls: 0.5295 val_acc: 0.8665\n",
            "=========\n",
            "epoch 53 train loss: 0.4756 val_cls: 0.5287 val_acc: 0.8665\n",
            "=========\n",
            "epoch 54 train loss: 0.4742 val_cls: 0.5280 val_acc: 0.8665\n",
            "=========\n",
            "epoch 55 train loss: 0.4727 val_cls: 0.5273 val_acc: 0.8665\n",
            "=========\n",
            "epoch 56 train loss: 0.4713 val_cls: 0.5266 val_acc: 0.8665\n",
            "=========\n",
            "epoch 57 train loss: 0.4699 val_cls: 0.5259 val_acc: 0.8665\n",
            "=========\n",
            "epoch 58 train loss: 0.4685 val_cls: 0.5252 val_acc: 0.8665\n",
            "=========\n",
            "epoch 59 train loss: 0.4671 val_cls: 0.5246 val_acc: 0.8665\n",
            "=========\n",
            "epoch 60 train loss: 0.4658 val_cls: 0.5239 val_acc: 0.8665\n",
            "=========\n",
            "epoch 61 train loss: 0.4645 val_cls: 0.5233 val_acc: 0.8665\n",
            "=========\n",
            "epoch 62 train loss: 0.4631 val_cls: 0.5227 val_acc: 0.8665\n",
            "=========\n",
            "epoch 63 train loss: 0.4618 val_cls: 0.5221 val_acc: 0.8665\n",
            "=========\n",
            "epoch 64 train loss: 0.4605 val_cls: 0.5215 val_acc: 0.8665\n",
            "=========\n",
            "epoch 65 train loss: 0.4593 val_cls: 0.5209 val_acc: 0.8665\n",
            "=========\n",
            "epoch 66 train loss: 0.4580 val_cls: 0.5203 val_acc: 0.8665\n",
            "=========\n",
            "epoch 67 train loss: 0.4568 val_cls: 0.5198 val_acc: 0.8665\n",
            "=========\n",
            "epoch 68 train loss: 0.4555 val_cls: 0.5192 val_acc: 0.8665\n",
            "=========\n",
            "epoch 69 train loss: 0.4543 val_cls: 0.5187 val_acc: 0.8665\n",
            "=========\n",
            "epoch 70 train loss: 0.4531 val_cls: 0.5181 val_acc: 0.8665\n",
            "=========\n",
            "epoch 71 train loss: 0.4519 val_cls: 0.5176 val_acc: 0.8665\n",
            "=========\n",
            "epoch 72 train loss: 0.4508 val_cls: 0.5171 val_acc: 0.8665\n",
            "=========\n",
            "epoch 73 train loss: 0.4496 val_cls: 0.5166 val_acc: 0.8665\n",
            "=========\n",
            "epoch 74 train loss: 0.4484 val_cls: 0.5161 val_acc: 0.8665\n",
            "=========\n",
            "epoch 75 train loss: 0.4473 val_cls: 0.5157 val_acc: 0.8665\n",
            "=========\n",
            "epoch 76 train loss: 0.4462 val_cls: 0.5152 val_acc: 0.8665\n",
            "=========\n",
            "epoch 77 train loss: 0.4451 val_cls: 0.5147 val_acc: 0.8665\n",
            "=========\n",
            "epoch 78 train loss: 0.4440 val_cls: 0.5143 val_acc: 0.8665\n",
            "=========\n",
            "epoch 79 train loss: 0.4429 val_cls: 0.5138 val_acc: 0.8665\n",
            "=========\n",
            "epoch 80 train loss: 0.4418 val_cls: 0.5134 val_acc: 0.8665\n",
            "=========\n",
            "epoch 81 train loss: 0.4407 val_cls: 0.5129 val_acc: 0.8665\n",
            "=========\n",
            "epoch 82 train loss: 0.4397 val_cls: 0.5125 val_acc: 0.8665\n",
            "=========\n",
            "epoch 83 train loss: 0.4386 val_cls: 0.5121 val_acc: 0.8665\n",
            "=========\n",
            "epoch 84 train loss: 0.4376 val_cls: 0.5117 val_acc: 0.8665\n",
            "=========\n",
            "epoch 85 train loss: 0.4365 val_cls: 0.5113 val_acc: 0.8665\n",
            "=========\n",
            "epoch 86 train loss: 0.4355 val_cls: 0.5109 val_acc: 0.8665\n",
            "=========\n",
            "epoch 87 train loss: 0.4345 val_cls: 0.5105 val_acc: 0.8665\n",
            "=========\n",
            "epoch 88 train loss: 0.4335 val_cls: 0.5101 val_acc: 0.8665\n",
            "=========\n",
            "epoch 89 train loss: 0.4325 val_cls: 0.5097 val_acc: 0.8665\n",
            "=========\n",
            "epoch 90 train loss: 0.4315 val_cls: 0.5094 val_acc: 0.8665\n",
            "=========\n",
            "epoch 91 train loss: 0.4305 val_cls: 0.5090 val_acc: 0.8665\n",
            "=========\n",
            "epoch 92 train loss: 0.4296 val_cls: 0.5086 val_acc: 0.8665\n",
            "=========\n",
            "epoch 93 train loss: 0.4286 val_cls: 0.5083 val_acc: 0.8665\n",
            "=========\n",
            "epoch 94 train loss: 0.4276 val_cls: 0.5079 val_acc: 0.8665\n",
            "=========\n",
            "epoch 95 train loss: 0.4267 val_cls: 0.5076 val_acc: 0.8665\n",
            "=========\n",
            "epoch 96 train loss: 0.4258 val_cls: 0.5073 val_acc: 0.8665\n",
            "=========\n",
            "epoch 97 train loss: 0.4248 val_cls: 0.5069 val_acc: 0.8665\n",
            "=========\n",
            "epoch 98 train loss: 0.4239 val_cls: 0.5066 val_acc: 0.8665\n",
            "=========\n",
            "epoch 99 train loss: 0.4230 val_cls: 0.5063 val_acc: 0.8665\n",
            "=========\n",
            "epoch 100 train loss: 0.4221 val_cls: 0.5060 val_acc: 0.8665\n",
            "=========\n",
            "epoch 101 train loss: 0.4212 val_cls: 0.5057 val_acc: 0.8665\n",
            "=========\n",
            "epoch 102 train loss: 0.4203 val_cls: 0.5053 val_acc: 0.8665\n",
            "=========\n",
            "epoch 103 train loss: 0.4194 val_cls: 0.5050 val_acc: 0.8665\n",
            "=========\n",
            "epoch 104 train loss: 0.4185 val_cls: 0.5047 val_acc: 0.8665\n",
            "=========\n",
            "epoch 105 train loss: 0.4177 val_cls: 0.5045 val_acc: 0.8665\n",
            "=========\n",
            "epoch 106 train loss: 0.4168 val_cls: 0.5042 val_acc: 0.8665\n",
            "=========\n",
            "epoch 107 train loss: 0.4159 val_cls: 0.5039 val_acc: 0.8665\n",
            "=========\n",
            "epoch 108 train loss: 0.4151 val_cls: 0.5036 val_acc: 0.8665\n",
            "=========\n",
            "epoch 109 train loss: 0.4142 val_cls: 0.5033 val_acc: 0.8665\n",
            "=========\n",
            "epoch 110 train loss: 0.4134 val_cls: 0.5030 val_acc: 0.8665\n",
            "=========\n",
            "epoch 111 train loss: 0.4125 val_cls: 0.5028 val_acc: 0.8665\n",
            "=========\n",
            "epoch 112 train loss: 0.4117 val_cls: 0.5025 val_acc: 0.8665\n",
            "=========\n",
            "epoch 113 train loss: 0.4109 val_cls: 0.5022 val_acc: 0.8665\n",
            "=========\n",
            "epoch 114 train loss: 0.4101 val_cls: 0.5020 val_acc: 0.8665\n",
            "=========\n",
            "epoch 115 train loss: 0.4093 val_cls: 0.5017 val_acc: 0.8665\n",
            "=========\n",
            "epoch 116 train loss: 0.4085 val_cls: 0.5015 val_acc: 0.8665\n",
            "=========\n",
            "epoch 117 train loss: 0.4077 val_cls: 0.5012 val_acc: 0.8665\n",
            "=========\n",
            "epoch 118 train loss: 0.4069 val_cls: 0.5010 val_acc: 0.8665\n",
            "=========\n",
            "epoch 119 train loss: 0.4061 val_cls: 0.5008 val_acc: 0.8665\n",
            "=========\n",
            "epoch 120 train loss: 0.4053 val_cls: 0.5005 val_acc: 0.8665\n",
            "=========\n",
            "epoch 121 train loss: 0.4045 val_cls: 0.5003 val_acc: 0.8665\n",
            "=========\n",
            "epoch 122 train loss: 0.4038 val_cls: 0.5001 val_acc: 0.8665\n",
            "=========\n",
            "epoch 123 train loss: 0.4030 val_cls: 0.4998 val_acc: 0.8665\n",
            "=========\n",
            "epoch 124 train loss: 0.4022 val_cls: 0.4996 val_acc: 0.8665\n",
            "=========\n",
            "epoch 125 train loss: 0.4015 val_cls: 0.4994 val_acc: 0.8665\n",
            "=========\n",
            "epoch 126 train loss: 0.4007 val_cls: 0.4992 val_acc: 0.8665\n",
            "=========\n",
            "epoch 127 train loss: 0.4000 val_cls: 0.4990 val_acc: 0.8665\n",
            "=========\n",
            "epoch 128 train loss: 0.3992 val_cls: 0.4987 val_acc: 0.8665\n",
            "=========\n",
            "epoch 129 train loss: 0.3985 val_cls: 0.4985 val_acc: 0.8665\n",
            "=========\n",
            "epoch 130 train loss: 0.3977 val_cls: 0.4983 val_acc: 0.8665\n",
            "=========\n",
            "epoch 131 train loss: 0.3970 val_cls: 0.4981 val_acc: 0.8665\n",
            "=========\n",
            "epoch 132 train loss: 0.3963 val_cls: 0.4979 val_acc: 0.8665\n",
            "=========\n",
            "epoch 133 train loss: 0.3955 val_cls: 0.4977 val_acc: 0.8665\n",
            "=========\n",
            "epoch 134 train loss: 0.3948 val_cls: 0.4975 val_acc: 0.8665\n",
            "=========\n",
            "epoch 135 train loss: 0.3941 val_cls: 0.4974 val_acc: 0.8665\n",
            "=========\n",
            "epoch 136 train loss: 0.3934 val_cls: 0.4972 val_acc: 0.8665\n",
            "=========\n",
            "epoch 137 train loss: 0.3927 val_cls: 0.4970 val_acc: 0.8665\n",
            "=========\n",
            "epoch 138 train loss: 0.3920 val_cls: 0.4968 val_acc: 0.8665\n",
            "=========\n",
            "epoch 139 train loss: 0.3913 val_cls: 0.4966 val_acc: 0.8665\n",
            "=========\n",
            "epoch 140 train loss: 0.3906 val_cls: 0.4964 val_acc: 0.8665\n",
            "=========\n",
            "epoch 141 train loss: 0.3899 val_cls: 0.4963 val_acc: 0.8665\n",
            "=========\n",
            "epoch 142 train loss: 0.3892 val_cls: 0.4961 val_acc: 0.8665\n",
            "=========\n",
            "epoch 143 train loss: 0.3885 val_cls: 0.4959 val_acc: 0.8665\n",
            "=========\n",
            "epoch 144 train loss: 0.3878 val_cls: 0.4958 val_acc: 0.8665\n",
            "=========\n",
            "epoch 145 train loss: 0.3872 val_cls: 0.4956 val_acc: 0.8665\n",
            "=========\n",
            "epoch 146 train loss: 0.3865 val_cls: 0.4954 val_acc: 0.8665\n",
            "=========\n",
            "epoch 147 train loss: 0.3858 val_cls: 0.4953 val_acc: 0.8665\n",
            "=========\n",
            "epoch 148 train loss: 0.3851 val_cls: 0.4951 val_acc: 0.8665\n",
            "=========\n",
            "epoch 149 train loss: 0.3845 val_cls: 0.4949 val_acc: 0.8665\n",
            "=========\n",
            "epoch 150 train loss: 0.3838 val_cls: 0.4948 val_acc: 0.8665\n"
          ]
        }
      ]
    },
    {
      "cell_type": "markdown",
      "source": [
        "## Model Evaluation"
      ],
      "metadata": {
        "id": "qO0xooOmL_3D"
      }
    },
    {
      "cell_type": "code",
      "source": [
        "plt.plot(history[\"train_loss\"], label='train');\n",
        "plt.plot(history[\"val_cls\"], label='val');\n",
        "plt.title('Loss')\n",
        "plt.xlabel('Epochs')\n",
        "plt.ylabel('MSE')\n",
        "plt.legend()"
      ],
      "metadata": {
        "id": "YIp9yuw_1KsA",
        "colab": {
          "base_uri": "https://localhost:8080/",
          "height": 312
        },
        "outputId": "033058ed-9f00-4a4d-ce74-212aebc512b3"
      },
      "execution_count": 35,
      "outputs": [
        {
          "output_type": "execute_result",
          "data": {
            "text/plain": [
              "<matplotlib.legend.Legend at 0x7f93627a1a60>"
            ]
          },
          "metadata": {},
          "execution_count": 35
        },
        {
          "output_type": "display_data",
          "data": {
            "text/plain": [
              "<Figure size 432x288 with 1 Axes>"
            ],
            "image/png": "[encoded data removed]"
          },
          "metadata": {
            "needs_background": "light"
          }
        }
      ]
    },
    {
      "cell_type": "code",
      "source": [
        "plt.plot(history[\"val_acc\"]);\n",
        "plt.title('Accuracy')\n",
        "plt.xlabel('Epochs')\n",
        "plt.ylabel('ACC');"
      ],
      "metadata": {
        "colab": {
          "base_uri": "https://localhost:8080/",
          "height": 295
        },
        "id": "LpiIB4WwKK2S",
        "outputId": "80b89205-1fa6-411c-e205-ca38756ee9de"
      },
      "execution_count": 36,
      "outputs": [
        {
          "output_type": "display_data",
          "data": {
            "text/plain": [
              "<Figure size 432x288 with 1 Axes>"
            ],
            "image/png": "[encoded data removed]"
          },
          "metadata": {
            "needs_background": "light"
          }
        }
      ]
    },
    {
      "cell_type": "code",
      "source": [
        "# evaluate model\n",
        "from sklearn.metrics import mean_squared_error as mse\n",
        "from sklearn.metrics import mean_absolute_error as mae\n",
        "from sklearn.metrics import accuracy_score\n",
        "\n",
        "predictions = utils.test(classification_model, test_iter)\n",
        "predictions = np.argmax(predictions, axis=1)\n",
        "\n",
        "print(\"Accuracy:\", accuracy_score(y_true = y_test, y_pred = predictions))\n",
        "print(\"MSE:\", mse(y_true = y_test, y_pred = predictions))\n",
        "print(\"MAE:\", mae(y_true = y_test, y_pred = predictions))\n"
      ],
      "metadata": {
        "id": "d_iaeA9ce5GM",
        "colab": {
          "base_uri": "https://localhost:8080/"
        },
        "outputId": "c785171f-8f71-4241-cbd6-c4b4fc98d590"
      },
      "execution_count": 37,
      "outputs": [
        {
          "output_type": "stream",
          "name": "stdout",
          "text": [
            "Accuracy: 0.8457142857142858\n",
            "MSE: 0.6228571428571429\n",
            "MAE: 0.26095238095238094\n"
          ]
        }
      ]
    },
    {
      "cell_type": "code",
      "source": [
        "# examine accuracy of predictions for test set\n",
        "pred = utils.test(classification_model, test_iter)\n",
        "# find the most likely rating for the specific review by finding the column with the highest score in each row of the matrix\n",
        "conv_pred = np.argmax(pred, axis=1)\n",
        "\n",
        "# print classification report\n",
        "print(classification_report(y_pred=conv_pred, y_true=y_test))"
      ],
      "metadata": {
        "colab": {
          "base_uri": "https://localhost:8080/"
        },
        "id": "lIL_BJZgKXmm",
        "outputId": "dcfe96c6-eaf4-4b2a-ba66-0b5e102a17b8"
      },
      "execution_count": 38,
      "outputs": [
        {
          "output_type": "stream",
          "name": "stdout",
          "text": [
            "              precision    recall  f1-score   support\n",
            "\n",
            "           0       0.00      0.00      0.00        11\n",
            "           1       0.00      0.00      0.00         6\n",
            "           2       0.00      0.00      0.00        11\n",
            "           3       0.00      0.00      0.00        53\n",
            "           4       0.85      1.00      0.92       444\n",
            "\n",
            "    accuracy                           0.85       525\n",
            "   macro avg       0.17      0.20      0.18       525\n",
            "weighted avg       0.72      0.85      0.78       525\n",
            "\n"
          ]
        },
        {
          "output_type": "stream",
          "name": "stderr",
          "text": [
            "/usr/local/lib/python3.8/dist-packages/sklearn/metrics/_classification.py:1318: UndefinedMetricWarning: Precision and F-score are ill-defined and being set to 0.0 in labels with no predicted samples. Use `zero_division` parameter to control this behavior.\n",
            "  _warn_prf(average, modifier, msg_start, len(result))\n",
            "/usr/local/lib/python3.8/dist-packages/sklearn/metrics/_classification.py:1318: UndefinedMetricWarning: Precision and F-score are ill-defined and being set to 0.0 in labels with no predicted samples. Use `zero_division` parameter to control this behavior.\n",
            "  _warn_prf(average, modifier, msg_start, len(result))\n",
            "/usr/local/lib/python3.8/dist-packages/sklearn/metrics/_classification.py:1318: UndefinedMetricWarning: Precision and F-score are ill-defined and being set to 0.0 in labels with no predicted samples. Use `zero_division` parameter to control this behavior.\n",
            "  _warn_prf(average, modifier, msg_start, len(result))\n"
          ]
        }
      ]
    },
    {
      "cell_type": "code",
      "source": [
        "ConfusionMatrixDisplay.from_predictions(y_test, conv_pred);"
      ],
      "metadata": {
        "colab": {
          "base_uri": "https://localhost:8080/",
          "height": 279
        },
        "id": "zQrgkcmfDqgo",
        "outputId": "2288f5cf-a69d-479b-cc23-cdb8bf29d30e"
      },
      "execution_count": 39,
      "outputs": [
        {
          "output_type": "display_data",
          "data": {
            "text/plain": [
              "<Figure size 432x288 with 2 Axes>"
            ],
            "image/png": "[encoded data removed]"
          },
          "metadata": {
            "needs_background": "light"
          }
        }
      ]
    }
  ]
}