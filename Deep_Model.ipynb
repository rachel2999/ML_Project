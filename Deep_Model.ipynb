{
  "nbformat": 4,
  "nbformat_minor": 0,
  "metadata": {
    "colab": {
      "provenance": [],
      "toc_visible": true
    },
    "kernelspec": {
      "name": "python3",
      "display_name": "Python 3"
    },
    "language_info": {
      "name": "python"
    },
    "accelerator": "GPU",
    "gpuClass": "standard"
  },
  "cells": [
    {
      "cell_type": "markdown",
      "source": [
        "# Drink Quality by Reviews"
      ],
      "metadata": {
        "id": "WTkQ8n1FsVJL"
      }
    },
    {
      "cell_type": "markdown",
      "source": [
        "Examine the correlation between \"Rating\" and \"Review\" to determine if the quality of a drink can be predicted based on it's reviews."
      ],
      "metadata": {
        "id": "3QLwH_X0TL_-"
      }
    },
    {
      "cell_type": "code",
      "execution_count": 1,
      "metadata": {
        "colab": {
          "base_uri": "https://localhost:8080/"
        },
        "id": "M1THLhLXDOmz",
        "outputId": "e209f358-eda2-4e99-9f66-195ff1b4a45e"
      },
      "outputs": [
        {
          "output_type": "stream",
          "name": "stdout",
          "text": [
            "Looking in indexes: https://pypi.org/simple, https://us-python.pkg.dev/colab-wheels/public/simple/\n",
            "Collecting import-ipynb\n",
            "  Downloading import_ipynb-0.1.4-py3-none-any.whl (4.1 kB)\n",
            "Requirement already satisfied: nbformat in /usr/local/lib/python3.8/dist-packages (from import-ipynb) (5.7.1)\n",
            "Requirement already satisfied: IPython in /usr/local/lib/python3.8/dist-packages (from import-ipynb) (7.9.0)\n",
            "Requirement already satisfied: pickleshare in /usr/local/lib/python3.8/dist-packages (from IPython->import-ipynb) (0.7.5)\n",
            "Requirement already satisfied: prompt-toolkit<2.1.0,>=2.0.0 in /usr/local/lib/python3.8/dist-packages (from IPython->import-ipynb) (2.0.10)\n",
            "Requirement already satisfied: pexpect in /usr/local/lib/python3.8/dist-packages (from IPython->import-ipynb) (4.8.0)\n",
            "Collecting jedi>=0.10\n",
            "  Downloading jedi-0.18.2-py2.py3-none-any.whl (1.6 MB)\n",
            "\u001b[2K     \u001b[90m━━━━━━━━━━━━━━━━━━━━━━━━━━━━━━━━━━━━━━━━\u001b[0m \u001b[32m1.6/1.6 MB\u001b[0m \u001b[31m21.3 MB/s\u001b[0m eta \u001b[36m0:00:00\u001b[0m\n",
            "\u001b[?25hRequirement already satisfied: decorator in /usr/local/lib/python3.8/dist-packages (from IPython->import-ipynb) (4.4.2)\n",
            "Requirement already satisfied: pygments in /usr/local/lib/python3.8/dist-packages (from IPython->import-ipynb) (2.6.1)\n",
            "Requirement already satisfied: traitlets>=4.2 in /usr/local/lib/python3.8/dist-packages (from IPython->import-ipynb) (5.7.1)\n",
            "Requirement already satisfied: setuptools>=18.5 in /usr/local/lib/python3.8/dist-packages (from IPython->import-ipynb) (57.4.0)\n",
            "Requirement already satisfied: backcall in /usr/local/lib/python3.8/dist-packages (from IPython->import-ipynb) (0.2.0)\n",
            "Requirement already satisfied: jsonschema>=2.6 in /usr/local/lib/python3.8/dist-packages (from nbformat->import-ipynb) (4.3.3)\n",
            "Requirement already satisfied: jupyter-core in /usr/local/lib/python3.8/dist-packages (from nbformat->import-ipynb) (5.1.3)\n",
            "Requirement already satisfied: fastjsonschema in /usr/local/lib/python3.8/dist-packages (from nbformat->import-ipynb) (2.16.2)\n",
            "Requirement already satisfied: parso<0.9.0,>=0.8.0 in /usr/local/lib/python3.8/dist-packages (from jedi>=0.10->IPython->import-ipynb) (0.8.3)\n",
            "Requirement already satisfied: pyrsistent!=0.17.0,!=0.17.1,!=0.17.2,>=0.14.0 in /usr/local/lib/python3.8/dist-packages (from jsonschema>=2.6->nbformat->import-ipynb) (0.19.3)\n",
            "Requirement already satisfied: attrs>=17.4.0 in /usr/local/lib/python3.8/dist-packages (from jsonschema>=2.6->nbformat->import-ipynb) (22.2.0)\n",
            "Requirement already satisfied: importlib-resources>=1.4.0 in /usr/local/lib/python3.8/dist-packages (from jsonschema>=2.6->nbformat->import-ipynb) (5.10.2)\n",
            "Requirement already satisfied: wcwidth in /usr/local/lib/python3.8/dist-packages (from prompt-toolkit<2.1.0,>=2.0.0->IPython->import-ipynb) (0.2.5)\n",
            "Requirement already satisfied: six>=1.9.0 in /usr/local/lib/python3.8/dist-packages (from prompt-toolkit<2.1.0,>=2.0.0->IPython->import-ipynb) (1.15.0)\n",
            "Requirement already satisfied: platformdirs>=2.5 in /usr/local/lib/python3.8/dist-packages (from jupyter-core->nbformat->import-ipynb) (2.6.2)\n",
            "Requirement already satisfied: ptyprocess>=0.5 in /usr/local/lib/python3.8/dist-packages (from pexpect->IPython->import-ipynb) (0.7.0)\n",
            "Requirement already satisfied: zipp>=3.1.0 in /usr/local/lib/python3.8/dist-packages (from importlib-resources>=1.4.0->jsonschema>=2.6->nbformat->import-ipynb) (3.11.0)\n",
            "Installing collected packages: jedi, import-ipynb\n",
            "Successfully installed import-ipynb-0.1.4 jedi-0.18.2\n"
          ]
        }
      ],
      "source": [
        "!pip install import-ipynb"
      ]
    },
    {
      "cell_type": "code",
      "source": [
        "from google.colab import drive\n",
        "drive.mount('/content/gdrive')\n",
        "%cd gdrive/MyDrive/ML-Project"
      ],
      "metadata": {
        "colab": {
          "base_uri": "https://localhost:8080/"
        },
        "id": "2XZesjC4DUcU",
        "outputId": "e7a42356-f72a-48f2-9374-1a0e09b4b6ce"
      },
      "execution_count": 2,
      "outputs": [
        {
          "output_type": "stream",
          "name": "stdout",
          "text": [
            "Mounted at /content/gdrive\n",
            "/content/gdrive/MyDrive/ML-Project\n"
          ]
        }
      ]
    },
    {
      "cell_type": "code",
      "source": [
        "import tensorflow.keras as keras\n",
        "import matplotlib.pyplot as plt\n",
        "import numpy as np\n",
        "import seaborn as sns\n",
        "import matplotlib.pyplot as plt\n",
        "import numpy as np\n",
        "import seaborn as sns\n",
        "import torch\n",
        "from torch import nn\n",
        "import pandas as pd\n",
        "import random\n",
        "import import_ipynb\n",
        "import utils\n",
        "\n",
        "\n",
        "# to get reproducible results:\n",
        "torch.manual_seed(1234)\n",
        "np.random.seed(1234)"
      ],
      "metadata": {
        "colab": {
          "base_uri": "https://localhost:8080/"
        },
        "id": "cC_ZMjWvDYoj",
        "outputId": "0725dbbb-fe79-45b7-a058-b34c3fd91424"
      },
      "execution_count": 3,
      "outputs": [
        {
          "output_type": "stream",
          "name": "stdout",
          "text": [
            "importing Jupyter notebook from utils.ipynb\n"
          ]
        }
      ]
    },
    {
      "cell_type": "code",
      "source": [
        "import sklearn\n",
        "import matplotlib.pyplot as plt\n",
        "from sklearn.model_selection import train_test_split\n",
        "from sklearn.pipeline import make_pipeline\n",
        "from sklearn.impute import KNNImputer\n",
        "from sklearn.preprocessing import StandardScaler\n",
        "from sklearn.linear_model import LogisticRegression, SGDClassifier\n",
        "from sklearn.neighbors import KNeighborsClassifier\n",
        "from sklearn.preprocessing import MaxAbsScaler\n",
        "from sklearn.svm import SVC\n",
        "from sklearn.model_selection import GridSearchCV\n",
        "from sklearn.tree import DecisionTreeClassifier\n",
        "from sklearn.metrics import accuracy_score, f1_score, classification_report, ConfusionMatrixDisplay\n",
        "from sklearn.feature_extraction.text import CountVectorizer, TfidfVectorizer\n",
        "from sklearn.compose import make_column_transformer\n",
        "from sklearn.preprocessing import OneHotEncoder, OrdinalEncoder\n",
        "from sklearn.impute import SimpleImputer"
      ],
      "metadata": {
        "id": "CoLyV47NLEas"
      },
      "execution_count": 4,
      "outputs": []
    },
    {
      "cell_type": "markdown",
      "source": [
        "### Preprocessing the Dataset"
      ],
      "metadata": {
        "id": "kJTb2CCVK6Gw"
      }
    },
    {
      "cell_type": "code",
      "source": [
        "# read dataset file\n",
        "df = pd.read_csv('dataset.csv', sep=',')"
      ],
      "metadata": {
        "id": "KKBmGAx6Dn7_"
      },
      "execution_count": 5,
      "outputs": []
    },
    {
      "cell_type": "code",
      "source": [
        "# replace column names with shorter, more readable names\n",
        "df.columns = ['Num', 'Brand', 'Name', 'Date', 'Recommend', 'Helpful', 'Rating', 'Weight', 'Review Title', 'Review']\n",
        "df.sample(5)"
      ],
      "metadata": {
        "colab": {
          "base_uri": "https://localhost:8080/",
          "height": 337
        },
        "id": "mg_ZwGcTEClT",
        "outputId": "81866d31-0867-4218-9a31-4479da8fcb5d"
      },
      "execution_count": 6,
      "outputs": [
        {
          "output_type": "execute_result",
          "data": {
            "text/plain": [
              "       Num        Brand                                       Name  \\\n",
              "1263  1264         Gmax     Gmax g144105 gm44 full face red wine m   \n",
              "227    228     Heineken     Heineken174 Lager - 6pk / 12oz Bottles   \n",
              "2142  2143       Carmex  Carmex Lip Balm Original Jar - 12 PK, 12.   \n",
              "450    451     Jim Beam      Jim Beam Black Bourbon Whiskey, 50 mL   \n",
              "1403  1404  Great Value  Great Value Original Crescent Rolls, 8 oz   \n",
              "\n",
              "                      Date Recommend  Helpful  Rating   Weight  \\\n",
              "1263  2017-01-09T22:25:24Z       NaN      NaN     4.0      NaN   \n",
              "227   2017-09-20T01:18:35Z      True      NaN     5.0  1.0 lbs   \n",
              "2142  2017-09-23T02:53:08Z      True      NaN     5.0      NaN   \n",
              "450   2017-09-20T01:18:35Z       NaN      NaN     5.0      NaN   \n",
              "1403  2017-09-02T07:55:36Z      True      0.0     5.0      NaN   \n",
              "\n",
              "                   Review Title  \\\n",
              "1263                        NaN   \n",
              "227                 Great beer!   \n",
              "2142         Small and compact!   \n",
              "450        My favorite bourbon!   \n",
              "1403  Just as good as Pillsbury   \n",
              "\n",
              "                                                 Review  \n",
              "1263                                       easy process  \n",
              "227   I bought this, best price and great convenienc...  \n",
              "2142  The lip balm is so smooth, doesn't have a weir...  \n",
              "450                          Exceptionally good flavor!  \n",
              "1403         Just as good as Pillsbury but better price  "
            ],
            "text/html": [
              "\n",
              "  <div id=\"df-93f30f0e-0125-4d3a-97f8-1d065157ecaf\">\n",
              "    <div class=\"colab-df-container\">\n",
              "      <div>\n",
              "<style scoped>\n",
              "    .dataframe tbody tr th:only-of-type {\n",
              "        vertical-align: middle;\n",
              "    }\n",
              "\n",
              "    .dataframe tbody tr th {\n",
              "        vertical-align: top;\n",
              "    }\n",
              "\n",
              "    .dataframe thead th {\n",
              "        text-align: right;\n",
              "    }\n",
              "</style>\n",
              "<table border=\"1\" class=\"dataframe\">\n",
              "  <thead>\n",
              "    <tr style=\"text-align: right;\">\n",
              "      <th></th>\n",
              "      <th>Num</th>\n",
              "      <th>Brand</th>\n",
              "      <th>Name</th>\n",
              "      <th>Date</th>\n",
              "      <th>Recommend</th>\n",
              "      <th>Helpful</th>\n",
              "      <th>Rating</th>\n",
              "      <th>Weight</th>\n",
              "      <th>Review Title</th>\n",
              "      <th>Review</th>\n",
              "    </tr>\n",
              "  </thead>\n",
              "  <tbody>\n",
              "    <tr>\n",
              "      <th>1263</th>\n",
              "      <td>1264</td>\n",
              "      <td>Gmax</td>\n",
              "      <td>Gmax g144105 gm44 full face red wine m</td>\n",
              "      <td>2017-01-09T22:25:24Z</td>\n",
              "      <td>NaN</td>\n",
              "      <td>NaN</td>\n",
              "      <td>4.0</td>\n",
              "      <td>NaN</td>\n",
              "      <td>NaN</td>\n",
              "      <td>easy process</td>\n",
              "    </tr>\n",
              "    <tr>\n",
              "      <th>227</th>\n",
              "      <td>228</td>\n",
              "      <td>Heineken</td>\n",
              "      <td>Heineken174 Lager - 6pk / 12oz Bottles</td>\n",
              "      <td>2017-09-20T01:18:35Z</td>\n",
              "      <td>True</td>\n",
              "      <td>NaN</td>\n",
              "      <td>5.0</td>\n",
              "      <td>1.0 lbs</td>\n",
              "      <td>Great beer!</td>\n",
              "      <td>I bought this, best price and great convenienc...</td>\n",
              "    </tr>\n",
              "    <tr>\n",
              "      <th>2142</th>\n",
              "      <td>2143</td>\n",
              "      <td>Carmex</td>\n",
              "      <td>Carmex Lip Balm Original Jar - 12 PK, 12.</td>\n",
              "      <td>2017-09-23T02:53:08Z</td>\n",
              "      <td>True</td>\n",
              "      <td>NaN</td>\n",
              "      <td>5.0</td>\n",
              "      <td>NaN</td>\n",
              "      <td>Small and compact!</td>\n",
              "      <td>The lip balm is so smooth, doesn't have a weir...</td>\n",
              "    </tr>\n",
              "    <tr>\n",
              "      <th>450</th>\n",
              "      <td>451</td>\n",
              "      <td>Jim Beam</td>\n",
              "      <td>Jim Beam Black Bourbon Whiskey, 50 mL</td>\n",
              "      <td>2017-09-20T01:18:35Z</td>\n",
              "      <td>NaN</td>\n",
              "      <td>NaN</td>\n",
              "      <td>5.0</td>\n",
              "      <td>NaN</td>\n",
              "      <td>My favorite bourbon!</td>\n",
              "      <td>Exceptionally good flavor!</td>\n",
              "    </tr>\n",
              "    <tr>\n",
              "      <th>1403</th>\n",
              "      <td>1404</td>\n",
              "      <td>Great Value</td>\n",
              "      <td>Great Value Original Crescent Rolls, 8 oz</td>\n",
              "      <td>2017-09-02T07:55:36Z</td>\n",
              "      <td>True</td>\n",
              "      <td>0.0</td>\n",
              "      <td>5.0</td>\n",
              "      <td>NaN</td>\n",
              "      <td>Just as good as Pillsbury</td>\n",
              "      <td>Just as good as Pillsbury but better price</td>\n",
              "    </tr>\n",
              "  </tbody>\n",
              "</table>\n",
              "</div>\n",
              "      <button class=\"colab-df-convert\" onclick=\"convertToInteractive('df-93f30f0e-0125-4d3a-97f8-1d065157ecaf')\"\n",
              "              title=\"Convert this dataframe to an interactive table.\"\n",
              "              style=\"display:none;\">\n",
              "        \n",
              "  <svg xmlns=\"http://www.w3.org/2000/svg\" height=\"24px\"viewBox=\"0 0 24 24\"\n",
              "       width=\"24px\">\n",
              "    <path d=\"M0 0h24v24H0V0z\" fill=\"none\"/>\n",
              "    <path d=\"M18.56 5.44l.94 2.06.94-2.06 2.06-.94-2.06-.94-.94-2.06-.94 2.06-2.06.94zm-11 1L8.5 8.5l.94-2.06 2.06-.94-2.06-.94L8.5 2.5l-.94 2.06-2.06.94zm10 10l.94 2.06.94-2.06 2.06-.94-2.06-.94-.94-2.06-.94 2.06-2.06.94z\"/><path d=\"M17.41 7.96l-1.37-1.37c-.4-.4-.92-.59-1.43-.59-.52 0-1.04.2-1.43.59L10.3 9.45l-7.72 7.72c-.78.78-.78 2.05 0 2.83L4 21.41c.39.39.9.59 1.41.59.51 0 1.02-.2 1.41-.59l7.78-7.78 2.81-2.81c.8-.78.8-2.07 0-2.86zM5.41 20L4 18.59l7.72-7.72 1.47 1.35L5.41 20z\"/>\n",
              "  </svg>\n",
              "      </button>\n",
              "      \n",
              "  <style>\n",
              "    .colab-df-container {\n",
              "      display:flex;\n",
              "      flex-wrap:wrap;\n",
              "      gap: 12px;\n",
              "    }\n",
              "\n",
              "    .colab-df-convert {\n",
              "      background-color: #E8F0FE;\n",
              "      border: none;\n",
              "      border-radius: 50%;\n",
              "      cursor: pointer;\n",
              "      display: none;\n",
              "      fill: #1967D2;\n",
              "      height: 32px;\n",
              "      padding: 0 0 0 0;\n",
              "      width: 32px;\n",
              "    }\n",
              "\n",
              "    .colab-df-convert:hover {\n",
              "      background-color: #E2EBFA;\n",
              "      box-shadow: 0px 1px 2px rgba(60, 64, 67, 0.3), 0px 1px 3px 1px rgba(60, 64, 67, 0.15);\n",
              "      fill: #174EA6;\n",
              "    }\n",
              "\n",
              "    [theme=dark] .colab-df-convert {\n",
              "      background-color: #3B4455;\n",
              "      fill: #D2E3FC;\n",
              "    }\n",
              "\n",
              "    [theme=dark] .colab-df-convert:hover {\n",
              "      background-color: #434B5C;\n",
              "      box-shadow: 0px 1px 3px 1px rgba(0, 0, 0, 0.15);\n",
              "      filter: drop-shadow(0px 1px 2px rgba(0, 0, 0, 0.3));\n",
              "      fill: #FFFFFF;\n",
              "    }\n",
              "  </style>\n",
              "\n",
              "      <script>\n",
              "        const buttonEl =\n",
              "          document.querySelector('#df-93f30f0e-0125-4d3a-97f8-1d065157ecaf button.colab-df-convert');\n",
              "        buttonEl.style.display =\n",
              "          google.colab.kernel.accessAllowed ? 'block' : 'none';\n",
              "\n",
              "        async function convertToInteractive(key) {\n",
              "          const element = document.querySelector('#df-93f30f0e-0125-4d3a-97f8-1d065157ecaf');\n",
              "          const dataTable =\n",
              "            await google.colab.kernel.invokeFunction('convertToInteractive',\n",
              "                                                     [key], {});\n",
              "          if (!dataTable) return;\n",
              "\n",
              "          const docLinkHtml = 'Like what you see? Visit the ' +\n",
              "            '<a target=\"_blank\" href=https://colab.research.google.com/notebooks/data_table.ipynb>data table notebook</a>'\n",
              "            + ' to learn more about interactive tables.';\n",
              "          element.innerHTML = '';\n",
              "          dataTable['output_type'] = 'display_data';\n",
              "          await google.colab.output.renderOutput(dataTable, element);\n",
              "          const docLink = document.createElement('div');\n",
              "          docLink.innerHTML = docLinkHtml;\n",
              "          element.appendChild(docLink);\n",
              "        }\n",
              "      </script>\n",
              "    </div>\n",
              "  </div>\n",
              "  "
            ]
          },
          "metadata": {},
          "execution_count": 6
        }
      ]
    },
    {
      "cell_type": "code",
      "source": [
        "# remove useless columns\n",
        "df.drop(\"Num\", axis=1, inplace=True)\n",
        "df.drop(\"Date\", axis=1, inplace=True)"
      ],
      "metadata": {
        "id": "2AiS9linDA-b"
      },
      "execution_count": 7,
      "outputs": []
    },
    {
      "cell_type": "code",
      "source": [
        "# reindex rows\n",
        "df.reset_index(drop=True, inplace=True)\n",
        "df.head(10)"
      ],
      "metadata": {
        "id": "5H4vyxXCbgt2",
        "colab": {
          "base_uri": "https://localhost:8080/",
          "height": 580
        },
        "outputId": "6eea6fa1-5003-4ec3-cef8-6db3879dd429"
      },
      "execution_count": 8,
      "outputs": [
        {
          "output_type": "execute_result",
          "data": {
            "text/plain": [
              "              Brand                                               Name  \\\n",
              "0             Gallo         Ecco Domani174 Pinot Grigio - 750ml Bottle   \n",
              "1   Fresh Craft Co.   Fresh Craft174 Mango Citrus - 4pk / 250ml Bottle   \n",
              "2      1000 Stories           1000 Stories174 Zinfandel - 750ml Bottle   \n",
              "3      1000 Stories           1000 Stories174 Zinfandel - 750ml Bottle   \n",
              "4      Wine Cube153            Pink Moscato - 3l Bottle - Wine Cube153   \n",
              "5         Beck's Na  Beck's174 Non Alcoholic Beer - 6pk / 12oz Bottles   \n",
              "6             Gallo                Apothic174 Red Blend - 750ml Bottle   \n",
              "7             Gallo                Apothic174 Red Blend - 750ml Bottle   \n",
              "8  California Roots        California Roots Moscato White Wine - 750ml   \n",
              "9   Charles Charles        Charles Charles174 Red Blend - 750ml Bottle   \n",
              "\n",
              "  Recommend  Helpful  Rating    Weight                          Review Title  \\\n",
              "0      True      1.0     5.0   1.0 lbs                My Favorite White Wine   \n",
              "1      True      NaN     5.0  2.45 lbs                                 Yum!!   \n",
              "2      True      NaN     5.0  3.09 lbs                       A New Favorite!   \n",
              "3      True      NaN     5.0  3.09 lbs  Bold, Flavorful, Aromatic, Delicious   \n",
              "4      True      1.0     5.0   1.0 lbs  Yum! Plus, Environmentally Friendly!   \n",
              "5      True      NaN     5.0   1.0 lbs                           Great Taste   \n",
              "6       NaN      1.0     3.0   1.0 lbs                      Simply Wonderful   \n",
              "7       NaN      1.0     2.0   1.0 lbs                          A Sweet Red.   \n",
              "8      True      0.0     5.0  2.65 lbs                                   NaN   \n",
              "9      True      NaN     5.0   1.0 lbs           Charles & Charles Red Blend   \n",
              "\n",
              "                                              Review  \n",
              "0      This a fantastic white wine for any occasion!  \n",
              "1   Tart, not sweet...very refreshing and delicious!  \n",
              "2  I was given this wine so it was a delightful s...  \n",
              "3  This is a phenomenal wine and my new favorite ...  \n",
              "4  4 750ml bottles for the price of two With way ...  \n",
              "5  I LOVE Becks NA. It tastes just like a regular...  \n",
              "6  This wine has a wonderful but strong aroma its...  \n",
              "7  I would give one more star if it came clean on...  \n",
              "8                      Delicious and very affordable  \n",
              "9  This is a very smooth red with Aromas of cocoa...  "
            ],
            "text/html": [
              "\n",
              "  <div id=\"df-9f0b2c78-2739-41da-853f-24ae39d1b050\">\n",
              "    <div class=\"colab-df-container\">\n",
              "      <div>\n",
              "<style scoped>\n",
              "    .dataframe tbody tr th:only-of-type {\n",
              "        vertical-align: middle;\n",
              "    }\n",
              "\n",
              "    .dataframe tbody tr th {\n",
              "        vertical-align: top;\n",
              "    }\n",
              "\n",
              "    .dataframe thead th {\n",
              "        text-align: right;\n",
              "    }\n",
              "</style>\n",
              "<table border=\"1\" class=\"dataframe\">\n",
              "  <thead>\n",
              "    <tr style=\"text-align: right;\">\n",
              "      <th></th>\n",
              "      <th>Brand</th>\n",
              "      <th>Name</th>\n",
              "      <th>Recommend</th>\n",
              "      <th>Helpful</th>\n",
              "      <th>Rating</th>\n",
              "      <th>Weight</th>\n",
              "      <th>Review Title</th>\n",
              "      <th>Review</th>\n",
              "    </tr>\n",
              "  </thead>\n",
              "  <tbody>\n",
              "    <tr>\n",
              "      <th>0</th>\n",
              "      <td>Gallo</td>\n",
              "      <td>Ecco Domani174 Pinot Grigio - 750ml Bottle</td>\n",
              "      <td>True</td>\n",
              "      <td>1.0</td>\n",
              "      <td>5.0</td>\n",
              "      <td>1.0 lbs</td>\n",
              "      <td>My Favorite White Wine</td>\n",
              "      <td>This a fantastic white wine for any occasion!</td>\n",
              "    </tr>\n",
              "    <tr>\n",
              "      <th>1</th>\n",
              "      <td>Fresh Craft Co.</td>\n",
              "      <td>Fresh Craft174 Mango Citrus - 4pk / 250ml Bottle</td>\n",
              "      <td>True</td>\n",
              "      <td>NaN</td>\n",
              "      <td>5.0</td>\n",
              "      <td>2.45 lbs</td>\n",
              "      <td>Yum!!</td>\n",
              "      <td>Tart, not sweet...very refreshing and delicious!</td>\n",
              "    </tr>\n",
              "    <tr>\n",
              "      <th>2</th>\n",
              "      <td>1000 Stories</td>\n",
              "      <td>1000 Stories174 Zinfandel - 750ml Bottle</td>\n",
              "      <td>True</td>\n",
              "      <td>NaN</td>\n",
              "      <td>5.0</td>\n",
              "      <td>3.09 lbs</td>\n",
              "      <td>A New Favorite!</td>\n",
              "      <td>I was given this wine so it was a delightful s...</td>\n",
              "    </tr>\n",
              "    <tr>\n",
              "      <th>3</th>\n",
              "      <td>1000 Stories</td>\n",
              "      <td>1000 Stories174 Zinfandel - 750ml Bottle</td>\n",
              "      <td>True</td>\n",
              "      <td>NaN</td>\n",
              "      <td>5.0</td>\n",
              "      <td>3.09 lbs</td>\n",
              "      <td>Bold, Flavorful, Aromatic, Delicious</td>\n",
              "      <td>This is a phenomenal wine and my new favorite ...</td>\n",
              "    </tr>\n",
              "    <tr>\n",
              "      <th>4</th>\n",
              "      <td>Wine Cube153</td>\n",
              "      <td>Pink Moscato - 3l Bottle - Wine Cube153</td>\n",
              "      <td>True</td>\n",
              "      <td>1.0</td>\n",
              "      <td>5.0</td>\n",
              "      <td>1.0 lbs</td>\n",
              "      <td>Yum! Plus, Environmentally Friendly!</td>\n",
              "      <td>4 750ml bottles for the price of two With way ...</td>\n",
              "    </tr>\n",
              "    <tr>\n",
              "      <th>5</th>\n",
              "      <td>Beck's Na</td>\n",
              "      <td>Beck's174 Non Alcoholic Beer - 6pk / 12oz Bottles</td>\n",
              "      <td>True</td>\n",
              "      <td>NaN</td>\n",
              "      <td>5.0</td>\n",
              "      <td>1.0 lbs</td>\n",
              "      <td>Great Taste</td>\n",
              "      <td>I LOVE Becks NA. It tastes just like a regular...</td>\n",
              "    </tr>\n",
              "    <tr>\n",
              "      <th>6</th>\n",
              "      <td>Gallo</td>\n",
              "      <td>Apothic174 Red Blend - 750ml Bottle</td>\n",
              "      <td>NaN</td>\n",
              "      <td>1.0</td>\n",
              "      <td>3.0</td>\n",
              "      <td>1.0 lbs</td>\n",
              "      <td>Simply Wonderful</td>\n",
              "      <td>This wine has a wonderful but strong aroma its...</td>\n",
              "    </tr>\n",
              "    <tr>\n",
              "      <th>7</th>\n",
              "      <td>Gallo</td>\n",
              "      <td>Apothic174 Red Blend - 750ml Bottle</td>\n",
              "      <td>NaN</td>\n",
              "      <td>1.0</td>\n",
              "      <td>2.0</td>\n",
              "      <td>1.0 lbs</td>\n",
              "      <td>A Sweet Red.</td>\n",
              "      <td>I would give one more star if it came clean on...</td>\n",
              "    </tr>\n",
              "    <tr>\n",
              "      <th>8</th>\n",
              "      <td>California Roots</td>\n",
              "      <td>California Roots Moscato White Wine - 750ml</td>\n",
              "      <td>True</td>\n",
              "      <td>0.0</td>\n",
              "      <td>5.0</td>\n",
              "      <td>2.65 lbs</td>\n",
              "      <td>NaN</td>\n",
              "      <td>Delicious and very affordable</td>\n",
              "    </tr>\n",
              "    <tr>\n",
              "      <th>9</th>\n",
              "      <td>Charles Charles</td>\n",
              "      <td>Charles Charles174 Red Blend - 750ml Bottle</td>\n",
              "      <td>True</td>\n",
              "      <td>NaN</td>\n",
              "      <td>5.0</td>\n",
              "      <td>1.0 lbs</td>\n",
              "      <td>Charles &amp; Charles Red Blend</td>\n",
              "      <td>This is a very smooth red with Aromas of cocoa...</td>\n",
              "    </tr>\n",
              "  </tbody>\n",
              "</table>\n",
              "</div>\n",
              "      <button class=\"colab-df-convert\" onclick=\"convertToInteractive('df-9f0b2c78-2739-41da-853f-24ae39d1b050')\"\n",
              "              title=\"Convert this dataframe to an interactive table.\"\n",
              "              style=\"display:none;\">\n",
              "        \n",
              "  <svg xmlns=\"http://www.w3.org/2000/svg\" height=\"24px\"viewBox=\"0 0 24 24\"\n",
              "       width=\"24px\">\n",
              "    <path d=\"M0 0h24v24H0V0z\" fill=\"none\"/>\n",
              "    <path d=\"M18.56 5.44l.94 2.06.94-2.06 2.06-.94-2.06-.94-.94-2.06-.94 2.06-2.06.94zm-11 1L8.5 8.5l.94-2.06 2.06-.94-2.06-.94L8.5 2.5l-.94 2.06-2.06.94zm10 10l.94 2.06.94-2.06 2.06-.94-2.06-.94-.94-2.06-.94 2.06-2.06.94z\"/><path d=\"M17.41 7.96l-1.37-1.37c-.4-.4-.92-.59-1.43-.59-.52 0-1.04.2-1.43.59L10.3 9.45l-7.72 7.72c-.78.78-.78 2.05 0 2.83L4 21.41c.39.39.9.59 1.41.59.51 0 1.02-.2 1.41-.59l7.78-7.78 2.81-2.81c.8-.78.8-2.07 0-2.86zM5.41 20L4 18.59l7.72-7.72 1.47 1.35L5.41 20z\"/>\n",
              "  </svg>\n",
              "      </button>\n",
              "      \n",
              "  <style>\n",
              "    .colab-df-container {\n",
              "      display:flex;\n",
              "      flex-wrap:wrap;\n",
              "      gap: 12px;\n",
              "    }\n",
              "\n",
              "    .colab-df-convert {\n",
              "      background-color: #E8F0FE;\n",
              "      border: none;\n",
              "      border-radius: 50%;\n",
              "      cursor: pointer;\n",
              "      display: none;\n",
              "      fill: #1967D2;\n",
              "      height: 32px;\n",
              "      padding: 0 0 0 0;\n",
              "      width: 32px;\n",
              "    }\n",
              "\n",
              "    .colab-df-convert:hover {\n",
              "      background-color: #E2EBFA;\n",
              "      box-shadow: 0px 1px 2px rgba(60, 64, 67, 0.3), 0px 1px 3px 1px rgba(60, 64, 67, 0.15);\n",
              "      fill: #174EA6;\n",
              "    }\n",
              "\n",
              "    [theme=dark] .colab-df-convert {\n",
              "      background-color: #3B4455;\n",
              "      fill: #D2E3FC;\n",
              "    }\n",
              "\n",
              "    [theme=dark] .colab-df-convert:hover {\n",
              "      background-color: #434B5C;\n",
              "      box-shadow: 0px 1px 3px 1px rgba(0, 0, 0, 0.15);\n",
              "      filter: drop-shadow(0px 1px 2px rgba(0, 0, 0, 0.3));\n",
              "      fill: #FFFFFF;\n",
              "    }\n",
              "  </style>\n",
              "\n",
              "      <script>\n",
              "        const buttonEl =\n",
              "          document.querySelector('#df-9f0b2c78-2739-41da-853f-24ae39d1b050 button.colab-df-convert');\n",
              "        buttonEl.style.display =\n",
              "          google.colab.kernel.accessAllowed ? 'block' : 'none';\n",
              "\n",
              "        async function convertToInteractive(key) {\n",
              "          const element = document.querySelector('#df-9f0b2c78-2739-41da-853f-24ae39d1b050');\n",
              "          const dataTable =\n",
              "            await google.colab.kernel.invokeFunction('convertToInteractive',\n",
              "                                                     [key], {});\n",
              "          if (!dataTable) return;\n",
              "\n",
              "          const docLinkHtml = 'Like what you see? Visit the ' +\n",
              "            '<a target=\"_blank\" href=https://colab.research.google.com/notebooks/data_table.ipynb>data table notebook</a>'\n",
              "            + ' to learn more about interactive tables.';\n",
              "          element.innerHTML = '';\n",
              "          dataTable['output_type'] = 'display_data';\n",
              "          await google.colab.output.renderOutput(dataTable, element);\n",
              "          const docLink = document.createElement('div');\n",
              "          docLink.innerHTML = docLinkHtml;\n",
              "          element.appendChild(docLink);\n",
              "        }\n",
              "      </script>\n",
              "    </div>\n",
              "  </div>\n",
              "  "
            ]
          },
          "metadata": {},
          "execution_count": 8
        }
      ]
    },
    {
      "cell_type": "code",
      "source": [
        "# check for total amount of null values in each column\n",
        "print(df.isnull().sum())"
      ],
      "metadata": {
        "id": "Q7ZAX3-RGAOO",
        "colab": {
          "base_uri": "https://localhost:8080/"
        },
        "outputId": "374e6004-2cbf-465e-fea6-7dc10b8b2911"
      },
      "execution_count": 9,
      "outputs": [
        {
          "output_type": "stream",
          "name": "stdout",
          "text": [
            "Brand             65\n",
            "Name               0\n",
            "Recommend        979\n",
            "Helpful         2264\n",
            "Rating           445\n",
            "Weight          1894\n",
            "Review Title      44\n",
            "Review             1\n",
            "dtype: int64\n"
          ]
        }
      ]
    },
    {
      "cell_type": "code",
      "source": [
        "# remove all rows that have no ratings or recommendations\n",
        "df = df.dropna(subset=['Rating'])\n",
        "df = df.dropna(subset=['Recommend'])\n",
        "df.isnull().sum()"
      ],
      "metadata": {
        "id": "E9Pkbdj-IVA_",
        "colab": {
          "base_uri": "https://localhost:8080/"
        },
        "outputId": "381a0f8f-69fb-4015-ad2b-c4a80a55fc1e"
      },
      "execution_count": 10,
      "outputs": [
        {
          "output_type": "execute_result",
          "data": {
            "text/plain": [
              "Brand              0\n",
              "Name               0\n",
              "Recommend          0\n",
              "Helpful         1170\n",
              "Rating             0\n",
              "Weight          1392\n",
              "Review Title      10\n",
              "Review             0\n",
              "dtype: int64"
            ]
          },
          "metadata": {},
          "execution_count": 10
        }
      ]
    },
    {
      "cell_type": "code",
      "source": [
        "# check the all possible ratings from 1 to 5 are used\n",
        "np.unique(df['Rating'])"
      ],
      "metadata": {
        "id": "yJIJNlkkKqkV",
        "colab": {
          "base_uri": "https://localhost:8080/"
        },
        "outputId": "5fbbf8a3-942a-448c-86fc-6bb91938157f"
      },
      "execution_count": 11,
      "outputs": [
        {
          "output_type": "execute_result",
          "data": {
            "text/plain": [
              "array([1., 2., 3., 4., 5.])"
            ]
          },
          "metadata": {},
          "execution_count": 11
        }
      ]
    },
    {
      "cell_type": "code",
      "source": [
        "df.info()"
      ],
      "metadata": {
        "id": "FOC26UJ1BgCr",
        "colab": {
          "base_uri": "https://localhost:8080/"
        },
        "outputId": "53aa5cd3-1566-4470-919d-07afbe750b2f"
      },
      "execution_count": 12,
      "outputs": [
        {
          "output_type": "stream",
          "name": "stdout",
          "text": [
            "<class 'pandas.core.frame.DataFrame'>\n",
            "Int64Index: 1748 entries, 0 to 2815\n",
            "Data columns (total 8 columns):\n",
            " #   Column        Non-Null Count  Dtype  \n",
            "---  ------        --------------  -----  \n",
            " 0   Brand         1748 non-null   object \n",
            " 1   Name          1748 non-null   object \n",
            " 2   Recommend     1748 non-null   object \n",
            " 3   Helpful       578 non-null    float64\n",
            " 4   Rating        1748 non-null   float64\n",
            " 5   Weight        356 non-null    object \n",
            " 6   Review Title  1738 non-null   object \n",
            " 7   Review        1748 non-null   object \n",
            "dtypes: float64(2), object(6)\n",
            "memory usage: 122.9+ KB\n"
          ]
        }
      ]
    },
    {
      "cell_type": "code",
      "source": [
        "# change data type of \"Rating\" from float to integer\n",
        "df['Rating'] = df['Rating'].astype(int)\n",
        "\n",
        "# change data type of \"Recommend\" from object to integer\n",
        "# \"True\" = 1, \"False\" = 0\n",
        "df[\"Recommend\"] = df[\"Recommend\"].astype(int)\n",
        "\n",
        "# check data types again\n",
        "df.info()"
      ],
      "metadata": {
        "id": "55B7BhBBL4VK",
        "colab": {
          "base_uri": "https://localhost:8080/"
        },
        "outputId": "6f3c74fd-8f80-4565-9747-c0293e5c12e6"
      },
      "execution_count": 13,
      "outputs": [
        {
          "output_type": "stream",
          "name": "stdout",
          "text": [
            "<class 'pandas.core.frame.DataFrame'>\n",
            "Int64Index: 1748 entries, 0 to 2815\n",
            "Data columns (total 8 columns):\n",
            " #   Column        Non-Null Count  Dtype  \n",
            "---  ------        --------------  -----  \n",
            " 0   Brand         1748 non-null   object \n",
            " 1   Name          1748 non-null   object \n",
            " 2   Recommend     1748 non-null   int64  \n",
            " 3   Helpful       578 non-null    float64\n",
            " 4   Rating        1748 non-null   int64  \n",
            " 5   Weight        356 non-null    object \n",
            " 6   Review Title  1738 non-null   object \n",
            " 7   Review        1748 non-null   object \n",
            "dtypes: float64(1), int64(2), object(5)\n",
            "memory usage: 122.9+ KB\n"
          ]
        }
      ]
    },
    {
      "cell_type": "code",
      "source": [
        "# inspect correlation between numeric features\n",
        "df.corr()"
      ],
      "metadata": {
        "id": "72OEXXdrb6EF",
        "colab": {
          "base_uri": "https://localhost:8080/",
          "height": 143
        },
        "outputId": "46ec9c81-f8f4-485a-8447-79098089d349"
      },
      "execution_count": 14,
      "outputs": [
        {
          "output_type": "execute_result",
          "data": {
            "text/plain": [
              "           Recommend   Helpful    Rating\n",
              "Recommend   1.000000  0.042670  0.767292\n",
              "Helpful     0.042670  1.000000  0.024891\n",
              "Rating      0.767292  0.024891  1.000000"
            ],
            "text/html": [
              "\n",
              "  <div id=\"df-1d779fad-d7df-4048-a7f8-df1803b5792c\">\n",
              "    <div class=\"colab-df-container\">\n",
              "      <div>\n",
              "<style scoped>\n",
              "    .dataframe tbody tr th:only-of-type {\n",
              "        vertical-align: middle;\n",
              "    }\n",
              "\n",
              "    .dataframe tbody tr th {\n",
              "        vertical-align: top;\n",
              "    }\n",
              "\n",
              "    .dataframe thead th {\n",
              "        text-align: right;\n",
              "    }\n",
              "</style>\n",
              "<table border=\"1\" class=\"dataframe\">\n",
              "  <thead>\n",
              "    <tr style=\"text-align: right;\">\n",
              "      <th></th>\n",
              "      <th>Recommend</th>\n",
              "      <th>Helpful</th>\n",
              "      <th>Rating</th>\n",
              "    </tr>\n",
              "  </thead>\n",
              "  <tbody>\n",
              "    <tr>\n",
              "      <th>Recommend</th>\n",
              "      <td>1.000000</td>\n",
              "      <td>0.042670</td>\n",
              "      <td>0.767292</td>\n",
              "    </tr>\n",
              "    <tr>\n",
              "      <th>Helpful</th>\n",
              "      <td>0.042670</td>\n",
              "      <td>1.000000</td>\n",
              "      <td>0.024891</td>\n",
              "    </tr>\n",
              "    <tr>\n",
              "      <th>Rating</th>\n",
              "      <td>0.767292</td>\n",
              "      <td>0.024891</td>\n",
              "      <td>1.000000</td>\n",
              "    </tr>\n",
              "  </tbody>\n",
              "</table>\n",
              "</div>\n",
              "      <button class=\"colab-df-convert\" onclick=\"convertToInteractive('df-1d779fad-d7df-4048-a7f8-df1803b5792c')\"\n",
              "              title=\"Convert this dataframe to an interactive table.\"\n",
              "              style=\"display:none;\">\n",
              "        \n",
              "  <svg xmlns=\"http://www.w3.org/2000/svg\" height=\"24px\"viewBox=\"0 0 24 24\"\n",
              "       width=\"24px\">\n",
              "    <path d=\"M0 0h24v24H0V0z\" fill=\"none\"/>\n",
              "    <path d=\"M18.56 5.44l.94 2.06.94-2.06 2.06-.94-2.06-.94-.94-2.06-.94 2.06-2.06.94zm-11 1L8.5 8.5l.94-2.06 2.06-.94-2.06-.94L8.5 2.5l-.94 2.06-2.06.94zm10 10l.94 2.06.94-2.06 2.06-.94-2.06-.94-.94-2.06-.94 2.06-2.06.94z\"/><path d=\"M17.41 7.96l-1.37-1.37c-.4-.4-.92-.59-1.43-.59-.52 0-1.04.2-1.43.59L10.3 9.45l-7.72 7.72c-.78.78-.78 2.05 0 2.83L4 21.41c.39.39.9.59 1.41.59.51 0 1.02-.2 1.41-.59l7.78-7.78 2.81-2.81c.8-.78.8-2.07 0-2.86zM5.41 20L4 18.59l7.72-7.72 1.47 1.35L5.41 20z\"/>\n",
              "  </svg>\n",
              "      </button>\n",
              "      \n",
              "  <style>\n",
              "    .colab-df-container {\n",
              "      display:flex;\n",
              "      flex-wrap:wrap;\n",
              "      gap: 12px;\n",
              "    }\n",
              "\n",
              "    .colab-df-convert {\n",
              "      background-color: #E8F0FE;\n",
              "      border: none;\n",
              "      border-radius: 50%;\n",
              "      cursor: pointer;\n",
              "      display: none;\n",
              "      fill: #1967D2;\n",
              "      height: 32px;\n",
              "      padding: 0 0 0 0;\n",
              "      width: 32px;\n",
              "    }\n",
              "\n",
              "    .colab-df-convert:hover {\n",
              "      background-color: #E2EBFA;\n",
              "      box-shadow: 0px 1px 2px rgba(60, 64, 67, 0.3), 0px 1px 3px 1px rgba(60, 64, 67, 0.15);\n",
              "      fill: #174EA6;\n",
              "    }\n",
              "\n",
              "    [theme=dark] .colab-df-convert {\n",
              "      background-color: #3B4455;\n",
              "      fill: #D2E3FC;\n",
              "    }\n",
              "\n",
              "    [theme=dark] .colab-df-convert:hover {\n",
              "      background-color: #434B5C;\n",
              "      box-shadow: 0px 1px 3px 1px rgba(0, 0, 0, 0.15);\n",
              "      filter: drop-shadow(0px 1px 2px rgba(0, 0, 0, 0.3));\n",
              "      fill: #FFFFFF;\n",
              "    }\n",
              "  </style>\n",
              "\n",
              "      <script>\n",
              "        const buttonEl =\n",
              "          document.querySelector('#df-1d779fad-d7df-4048-a7f8-df1803b5792c button.colab-df-convert');\n",
              "        buttonEl.style.display =\n",
              "          google.colab.kernel.accessAllowed ? 'block' : 'none';\n",
              "\n",
              "        async function convertToInteractive(key) {\n",
              "          const element = document.querySelector('#df-1d779fad-d7df-4048-a7f8-df1803b5792c');\n",
              "          const dataTable =\n",
              "            await google.colab.kernel.invokeFunction('convertToInteractive',\n",
              "                                                     [key], {});\n",
              "          if (!dataTable) return;\n",
              "\n",
              "          const docLinkHtml = 'Like what you see? Visit the ' +\n",
              "            '<a target=\"_blank\" href=https://colab.research.google.com/notebooks/data_table.ipynb>data table notebook</a>'\n",
              "            + ' to learn more about interactive tables.';\n",
              "          element.innerHTML = '';\n",
              "          dataTable['output_type'] = 'display_data';\n",
              "          await google.colab.output.renderOutput(dataTable, element);\n",
              "          const docLink = document.createElement('div');\n",
              "          docLink.innerHTML = docLinkHtml;\n",
              "          element.appendChild(docLink);\n",
              "        }\n",
              "      </script>\n",
              "    </div>\n",
              "  </div>\n",
              "  "
            ]
          },
          "metadata": {},
          "execution_count": 14
        }
      ]
    },
    {
      "cell_type": "markdown",
      "source": [
        "- There is a weak positive correlation between recommend and helpful. Reviews that were voted helpful tend to be about alcohol that reviewers recommend to others.\n",
        "- There is a strong positive correlation between recommend and rating. The higher the rating/quality of the alcohol, then then the more likely that the reviewer would recommend it.\n",
        "- There is a very weak positive correlation between helpful and rating. Alcohol that was voted helpful tend to have slightly higher ratings than reviews not considered helpful."
      ],
      "metadata": {
        "id": "hJSUEBotcmi0"
      }
    },
    {
      "cell_type": "code",
      "source": [
        "# check for duplicated reviews\n",
        "df['Review'].duplicated().sum()"
      ],
      "metadata": {
        "id": "Y4Ggih8XF42P",
        "colab": {
          "base_uri": "https://localhost:8080/"
        },
        "outputId": "cfe0aa3a-ed4e-44ef-e4ee-56bf491d7120"
      },
      "execution_count": 15,
      "outputs": [
        {
          "output_type": "execute_result",
          "data": {
            "text/plain": [
              "13"
            ]
          },
          "metadata": {},
          "execution_count": 15
        }
      ]
    },
    {
      "cell_type": "code",
      "source": [
        "# remove duplicated reviews\n",
        "df['Review'].drop_duplicates()"
      ],
      "metadata": {
        "id": "U1QKOX4uF-UU",
        "colab": {
          "base_uri": "https://localhost:8080/"
        },
        "outputId": "9015e180-0c11-4eb9-cce6-acee006e812f"
      },
      "execution_count": 16,
      "outputs": [
        {
          "output_type": "execute_result",
          "data": {
            "text/plain": [
              "0           This a fantastic white wine for any occasion!\n",
              "1        Tart, not sweet...very refreshing and delicious!\n",
              "2       I was given this wine so it was a delightful s...\n",
              "3       This is a phenomenal wine and my new favorite ...\n",
              "4       4 750ml bottles for the price of two With way ...\n",
              "                              ...                        \n",
              "2811    My kids love them. So no complaints but I'm su...\n",
              "2812    Easy and quick to serve, brings a smile to the...\n",
              "2813                         Worked great kids loved them\n",
              "2814    Walmart used to carry a Swiss water decaf coff...\n",
              "2815    Great decaf coffee using Swiss water process. ...\n",
              "Name: Review, Length: 1735, dtype: object"
            ]
          },
          "metadata": {},
          "execution_count": 16
        }
      ]
    },
    {
      "cell_type": "code",
      "source": [
        "# clean text in reviews with natural language toolkit\n",
        "!pip install nltk\n",
        "import nltk\n",
        "\n",
        "# define stopwords to remove\n",
        "from nltk.corpus import stopwords\n",
        "nltk.download('punkt')\n",
        "nltk.download('stopwords')\n",
        "stopwords = set(stopwords.words(\"english\"))"
      ],
      "metadata": {
        "id": "PupCwDbIoOpi",
        "colab": {
          "base_uri": "https://localhost:8080/"
        },
        "outputId": "a163ee97-e6de-4a0f-933e-ecdac4ec9595"
      },
      "execution_count": 17,
      "outputs": [
        {
          "output_type": "stream",
          "name": "stdout",
          "text": [
            "Looking in indexes: https://pypi.org/simple, https://us-python.pkg.dev/colab-wheels/public/simple/\n",
            "Requirement already satisfied: nltk in /usr/local/lib/python3.8/dist-packages (3.7)\n",
            "Requirement already satisfied: joblib in /usr/local/lib/python3.8/dist-packages (from nltk) (1.2.0)\n",
            "Requirement already satisfied: tqdm in /usr/local/lib/python3.8/dist-packages (from nltk) (4.64.1)\n",
            "Requirement already satisfied: click in /usr/local/lib/python3.8/dist-packages (from nltk) (7.1.2)\n",
            "Requirement already satisfied: regex>=2021.8.3 in /usr/local/lib/python3.8/dist-packages (from nltk) (2022.6.2)\n"
          ]
        },
        {
          "output_type": "stream",
          "name": "stderr",
          "text": [
            "[nltk_data] Downloading package punkt to /root/nltk_data...\n",
            "[nltk_data]   Unzipping tokenizers/punkt.zip.\n",
            "[nltk_data] Downloading package stopwords to /root/nltk_data...\n",
            "[nltk_data]   Unzipping corpora/stopwords.zip.\n"
          ]
        }
      ]
    },
    {
      "cell_type": "code",
      "source": [
        "# tokenize text with regex before cleaning\n",
        "from nltk import word_tokenize\n",
        "from nltk.tokenize.treebank import TreebankWordDetokenizer\n",
        "token = TreebankWordDetokenizer()\n",
        "\n",
        "def clean(w):\n",
        "    w = word_tokenize(w.lower()) # turn all token words lowercase\n",
        "    w = [token for token in w if token not in stopwords and token.isalpha()] # remove stopwords and non-words (punctuation, numbers, etc.)\n",
        "    return token.detokenize(w)\n",
        "\n",
        "df[\"Clean_Reviews\"] = df[\"Review\"].apply(clean)"
      ],
      "metadata": {
        "id": "NzYNfnTejmJV"
      },
      "execution_count": 18,
      "outputs": []
    },
    {
      "cell_type": "code",
      "source": [
        "# check to make sure the reviews were cleaned correctly\n",
        "df[\"Clean_Reviews\"].sample(10)"
      ],
      "metadata": {
        "id": "-Yj3GOHztCI7",
        "colab": {
          "base_uri": "https://localhost:8080/"
        },
        "outputId": "c002bb10-7cc2-417b-d7bf-8ddffe5d50cc"
      },
      "execution_count": 19,
      "outputs": [
        {
          "output_type": "execute_result",
          "data": {
            "text/plain": [
              "1596    prefer purchase store individually whatever ne...\n",
              "477                             best bloody mary mix ever\n",
              "2364    started using carmex cna brand count heal supp...\n",
              "2061    using carmex yrs still always keep jar purse t...\n",
              "2226    started applying four times day honestly great...\n",
              "2373    buy carmex tub becuase mother always wood open...\n",
              "829                                              favorite\n",
              "1980    use many year really work dry lips light burn ...\n",
              "1994    always go back carmex original lip balm jar li...\n",
              "2585    using carmex original lip balm jar since child...\n",
              "Name: Clean_Reviews, dtype: object"
            ]
          },
          "metadata": {},
          "execution_count": 19
        }
      ]
    },
    {
      "cell_type": "markdown",
      "source": [
        "# Neural Network Algorithm - Deep Model"
      ],
      "metadata": {
        "id": "eyTXVRRGf-t8"
      }
    },
    {
      "cell_type": "markdown",
      "source": [
        "### Preprocessing"
      ],
      "metadata": {
        "id": "UST9kQW_f-t9"
      }
    },
    {
      "cell_type": "code",
      "source": [
        "# split dataset 40% test, 60% train\n",
        "y = df[\"Rating\"].values\n",
        "words = df[\"Clean_Reviews\"].values\n",
        "\n",
        "x_train, x_test, y_train, y_test = train_test_split(words, y, test_size=0.4, shuffle=True, random_state=42)"
      ],
      "metadata": {
        "id": "77iLLy7jf-t9"
      },
      "execution_count": 39,
      "outputs": []
    },
    {
      "cell_type": "code",
      "source": [
        "# examine a random dictionary entry\n",
        "print(\"Review:\", x_train[2])\n",
        "print(\"Rating:\", y_train[2])"
      ],
      "metadata": {
        "colab": {
          "base_uri": "https://localhost:8080/"
        },
        "outputId": "d02049a4-d334-4429-a0fe-8687580f6473",
        "id": "LICtu_WMf-t9"
      },
      "execution_count": 40,
      "outputs": [
        {
          "output_type": "stream",
          "name": "stdout",
          "text": [
            "Review: price incredible delivery service better could hoped\n",
            "Rating: 5\n"
          ]
        }
      ]
    },
    {
      "cell_type": "code",
      "source": [
        "# tokenize the reviews to vectorize each word as an integer\n",
        "from keras.preprocessing.text import Tokenizer\n",
        "\n",
        "# limit vocabularly index to the most common 5000 words\n",
        "tokenizer = Tokenizer(num_words=5000)\n",
        "# create vocab index based on word frequency\n",
        "tokenizer.fit_on_texts(x_train)\n",
        "# apply limited vocab to train and test\n",
        "x_train = tokenizer.texts_to_sequences(x_train)\n",
        "x_test = tokenizer.texts_to_sequences(x_test)"
      ],
      "metadata": {
        "id": "qT9XBoq9f-t9"
      },
      "execution_count": 41,
      "outputs": []
    },
    {
      "cell_type": "code",
      "source": [
        "# examine a random dictionary entry\n",
        "print(\"Encoded Review:\", x_train[2])\n",
        "print(\"Rating:\", y_train[2])"
      ],
      "metadata": {
        "colab": {
          "base_uri": "https://localhost:8080/"
        },
        "outputId": "be589811-9350-4432-beec-37ed66596ca2",
        "id": "jPQjl2bFf-t9"
      },
      "execution_count": 42,
      "outputs": [
        {
          "output_type": "stream",
          "name": "stdout",
          "text": [
            "Encoded Review: [50, 717, 427, 953, 58, 90, 954]\n",
            "Rating: 5\n"
          ]
        }
      ]
    },
    {
      "cell_type": "code",
      "source": [
        "# re-vectorize reviews into sparse 2D nummpy array, with many zeros in the data\n",
        "# convert the reviews into a matrix, one review per row and one column per word\n",
        "def vectorize_sequences(sequences, dimension=10000):\n",
        "    results = np.zeros((len(sequences), dimension))\n",
        "    for i, sequence in enumerate(sequences):\n",
        "        results[i, sequence] = 1.\n",
        "    return results\n",
        "\n",
        "num_words=5000\n",
        "x_train = vectorize_sequences(x_train, dimension=num_words)\n",
        "x_test = vectorize_sequences(x_test, dimension=num_words)\n",
        "\n",
        "print(x_train.shape)\n",
        "print(x_test.shape)"
      ],
      "metadata": {
        "colab": {
          "base_uri": "https://localhost:8080/"
        },
        "outputId": "a39886ea-d56e-45a7-91d9-6be0854b7cc4",
        "id": "fv22yQfNf-t9"
      },
      "execution_count": 43,
      "outputs": [
        {
          "output_type": "stream",
          "name": "stdout",
          "text": [
            "(1048, 5000)\n",
            "(700, 5000)\n"
          ]
        }
      ]
    },
    {
      "cell_type": "code",
      "source": [
        "print(y_train[:15])\n",
        "print(y_test[:15])"
      ],
      "metadata": {
        "colab": {
          "base_uri": "https://localhost:8080/"
        },
        "outputId": "61b83dad-3f8f-428f-f959-290f4caedd38",
        "id": "IODJZEVXf-t9"
      },
      "execution_count": 44,
      "outputs": [
        {
          "output_type": "stream",
          "name": "stdout",
          "text": [
            "[5 5 5 5 5 5 1 5 5 5 5 5 5 5 5]\n",
            "[4 5 4 5 4 5 4 4 5 5 5 5 5 5 5]\n"
          ]
        }
      ]
    },
    {
      "cell_type": "code",
      "source": [
        "from collections import Counter\n",
        "cnt = Counter(list(y_train))\n",
        "num_classes = 5\n",
        "cnt.most_common(num_classes)"
      ],
      "metadata": {
        "colab": {
          "base_uri": "https://localhost:8080/"
        },
        "outputId": "9c87ebff-b8e6-42f0-ec3b-0662162d7291",
        "id": "dTivtGxJf-t9"
      },
      "execution_count": 45,
      "outputs": [
        {
          "output_type": "execute_result",
          "data": {
            "text/plain": [
              "[(5, 900), (4, 90), (3, 24), (1, 23), (2, 11)]"
            ]
          },
          "metadata": {},
          "execution_count": 45
        }
      ]
    },
    {
      "cell_type": "code",
      "source": [
        "selected_labels = sorted(set([i[0] for i in cnt.most_common(num_classes)]))\n",
        "selected_labels"
      ],
      "metadata": {
        "colab": {
          "base_uri": "https://localhost:8080/"
        },
        "outputId": "db3cbf6c-199a-4769-cd20-27ff558de43b",
        "id": "M45nAzhkf-t-"
      },
      "execution_count": 46,
      "outputs": [
        {
          "output_type": "execute_result",
          "data": {
            "text/plain": [
              "[1, 2, 3, 4, 5]"
            ]
          },
          "metadata": {},
          "execution_count": 46
        }
      ]
    },
    {
      "cell_type": "code",
      "source": [
        "train_mask = [True if l in selected_labels else False for l in y_train]\n",
        "x_train = x_train[train_mask, :]\n",
        "y_train = y_train[train_mask]\n",
        "y_train = np.array([selected_labels.index(i) for i in y_train]) # reindex\n",
        "\n",
        "test_mask = [True if l in selected_labels else False for l in y_test]\n",
        "x_test= x_test[test_mask, :]\n",
        "y_test = y_test[test_mask]\n",
        "y_test = np.array([selected_labels.index(i) for i in y_test]) # reindex\n",
        "\n",
        "print(x_train.shape)\n",
        "print(x_test.shape)\n",
        "print(y_train.shape)\n",
        "print(y_test.shape)"
      ],
      "metadata": {
        "colab": {
          "base_uri": "https://localhost:8080/"
        },
        "outputId": "b38efbdc-b2b5-4edc-f631-df6a6c30f9b2",
        "id": "r5u5Z66Pf-t-"
      },
      "execution_count": 47,
      "outputs": [
        {
          "output_type": "stream",
          "name": "stdout",
          "text": [
            "(1048, 5000)\n",
            "(700, 5000)\n",
            "(1048,)\n",
            "(700,)\n"
          ]
        }
      ]
    },
    {
      "cell_type": "code",
      "source": [
        "# split training data into 40% train and 60% dev\n",
        "x_train, x_dev, y_train, y_dev = train_test_split(x_train, y_train, test_size=0.4, random_state=42)\n",
        "print(y_train.shape)\n",
        "print(x_train.shape)\n",
        "print(x_dev.shape)\n",
        "print(y_dev.shape)"
      ],
      "metadata": {
        "colab": {
          "base_uri": "https://localhost:8080/"
        },
        "outputId": "1505dd07-453a-415c-d3ea-dbc28f52905d",
        "id": "7x-audOvf-t-"
      },
      "execution_count": 48,
      "outputs": [
        {
          "output_type": "stream",
          "name": "stdout",
          "text": [
            "(628,)\n",
            "(628, 5000)\n",
            "(420, 5000)\n",
            "(420,)\n"
          ]
        }
      ]
    },
    {
      "cell_type": "code",
      "source": [
        "# convert numpy array into PyTorch format\n",
        "\n",
        "# 1) define function\n",
        "def np2iter(x, y, shuffle=True):\n",
        "  x = torch.tensor(x, dtype=torch.float)\n",
        "  y = torch.tensor(y, dtype=torch.long)\n",
        "  print(x.shape)\n",
        "  print(y.shape)\n",
        "  print(\"----------------------\")\n",
        "\n",
        "  ds = torch.utils.data.TensorDataset(x, y)\n",
        "  return torch.utils.data.DataLoader(ds, batch_size=32, shuffle=shuffle)\n",
        "\n",
        "# 2) convert data\n",
        "train_iter = np2iter(x_train, y_train, shuffle=True) # DO shuffle train\n",
        "dev_iter =  np2iter(x_dev, y_dev, shuffle=False) # do NOT shuffle dev or test\n",
        "test_iter =  np2iter(x_test, y_test, shuffle=False)"
      ],
      "metadata": {
        "colab": {
          "base_uri": "https://localhost:8080/"
        },
        "outputId": "018aff8c-19ac-4245-9ab8-e3c12be5cf7d",
        "id": "qZTbVwmtf-t-"
      },
      "execution_count": 49,
      "outputs": [
        {
          "output_type": "stream",
          "name": "stdout",
          "text": [
            "torch.Size([628, 5000])\n",
            "torch.Size([628])\n",
            "----------------------\n",
            "torch.Size([420, 5000])\n",
            "torch.Size([420])\n",
            "----------------------\n",
            "torch.Size([700, 5000])\n",
            "torch.Size([700])\n",
            "----------------------\n"
          ]
        }
      ]
    },
    {
      "cell_type": "code",
      "source": [
        "# defining accuracy\n",
        "def val_acc(y_pred, y_test): # define accuracy\n",
        "  y_pred = np.argmax(y_pred, axis=1)\n",
        "  return accuracy_score(y_pred=y_pred, y_true=y_test)"
      ],
      "metadata": {
        "id": "Uy56nWszf-t-"
      },
      "execution_count": 50,
      "outputs": []
    },
    {
      "cell_type": "markdown",
      "source": [
        "## Model"
      ],
      "metadata": {
        "id": "RySLkWAMLnbE"
      }
    },
    {
      "cell_type": "code",
      "source": [
        "# define deep model\n",
        "num_words = 5000\n",
        "\n",
        "class DeepModel(nn.Module):\n",
        "  def __init__(self):\n",
        "    super(DeepModel, self).__init__()\n",
        "    # nn.sequential executes the following layers one by one, from linear layer to rectified layer unit\n",
        "    self.layer = nn.Sequential(nn.Linear(in_features=num_words, out_features=30), \n",
        "                                nn.Dropout(p=0.33),\n",
        "                                nn.ReLU(),\n",
        "                                nn.Linear(in_features=30, out_features=30),\n",
        "                                nn.Dropout(p=0.33),\n",
        "                                nn.ReLU(),\n",
        "                                nn.Linear(in_features=30, out_features=5))\n",
        "\n",
        "    \n",
        "  # feed the model the input and apply the linear layer to get the output\n",
        "  def forward(self, x):\n",
        "    return self.layer(x)"
      ],
      "metadata": {
        "id": "YKDbXb4-g3tH"
      },
      "execution_count": 289,
      "outputs": []
    },
    {
      "cell_type": "code",
      "source": [
        "classification_model = DeepModel()\n",
        "classification_model = classification_model.cuda()"
      ],
      "metadata": {
        "id": "5U5BYKJAhFYC"
      },
      "execution_count": 290,
      "outputs": []
    },
    {
      "cell_type": "code",
      "source": [
        "history = utils.train(model=classification_model,\n",
        "                            loss=nn.CrossEntropyLoss(),\n",
        "                            val_metrics={\"cls\": nn.CrossEntropyLoss(), \"acc\": val_acc}, \n",
        "                            optimizer=torch.optim.SGD(classification_model.parameters(), lr=0.01),\n",
        "                            train_ds=train_iter, \n",
        "                            dev_ds=dev_iter,\n",
        "                            num_epochs=200,\n",
        "                            early_stopper=utils.EarlyStopper(metric_name=\"cls\", patience=5))"
      ],
      "metadata": {
        "id": "2l319rxEL8aY",
        "colab": {
          "base_uri": "https://localhost:8080/"
        },
        "outputId": "b107f7bf-4b4b-4fc7-d7fa-6f610afcc8b2"
      },
      "execution_count": 291,
      "outputs": [
        {
          "output_type": "stream",
          "name": "stdout",
          "text": [
            "=========\n",
            "epoch 1 train loss: 1.6034 val_cls: 1.5146 val_acc: 0.0262\n",
            "tensor(1.5146) None\n",
            "=========\n",
            "epoch 2 train loss: 1.4575 val_cls: 1.3704 val_acc: 0.8810\n",
            "tensor(1.3704) tensor(1.5146)\n",
            "=========\n",
            "epoch 3 train loss: 1.3275 val_cls: 1.2400 val_acc: 0.8810\n",
            "tensor(1.2400) tensor(1.3704)\n",
            "=========\n",
            "epoch 4 train loss: 1.2085 val_cls: 1.1209 val_acc: 0.8810\n",
            "tensor(1.1209) tensor(1.2400)\n",
            "=========\n",
            "epoch 5 train loss: 1.1060 val_cls: 1.0160 val_acc: 0.8810\n",
            "tensor(1.0160) tensor(1.1209)\n",
            "=========\n",
            "epoch 6 train loss: 1.0186 val_cls: 0.9244 val_acc: 0.8810\n",
            "tensor(0.9244) tensor(1.0160)\n",
            "=========\n",
            "epoch 7 train loss: 0.9436 val_cls: 0.8454 val_acc: 0.8810\n",
            "tensor(0.8454) tensor(0.9244)\n",
            "=========\n",
            "epoch 8 train loss: 0.8788 val_cls: 0.7795 val_acc: 0.8810\n",
            "tensor(0.7795) tensor(0.8454)\n",
            "=========\n",
            "epoch 9 train loss: 0.8186 val_cls: 0.7243 val_acc: 0.8810\n",
            "tensor(0.7243) tensor(0.7795)\n",
            "=========\n",
            "epoch 10 train loss: 0.7705 val_cls: 0.6806 val_acc: 0.8810\n",
            "tensor(0.6806) tensor(0.7243)\n",
            "=========\n",
            "epoch 11 train loss: 0.7474 val_cls: 0.6461 val_acc: 0.8810\n",
            "tensor(0.6461) tensor(0.6806)\n",
            "=========\n",
            "epoch 12 train loss: 0.7127 val_cls: 0.6192 val_acc: 0.8810\n",
            "tensor(0.6192) tensor(0.6461)\n",
            "=========\n",
            "epoch 13 train loss: 0.6994 val_cls: 0.5979 val_acc: 0.8810\n",
            "tensor(0.5979) tensor(0.6192)\n",
            "=========\n",
            "epoch 14 train loss: 0.6914 val_cls: 0.5814 val_acc: 0.8810\n",
            "tensor(0.5814) tensor(0.5979)\n",
            "=========\n",
            "epoch 15 train loss: 0.6749 val_cls: 0.5687 val_acc: 0.8810\n",
            "tensor(0.5687) tensor(0.5814)\n",
            "=========\n",
            "epoch 16 train loss: 0.6508 val_cls: 0.5573 val_acc: 0.8810\n",
            "tensor(0.5573) tensor(0.5687)\n",
            "=========\n",
            "epoch 17 train loss: 0.6556 val_cls: 0.5478 val_acc: 0.8810\n",
            "tensor(0.5478) tensor(0.5573)\n",
            "=========\n",
            "epoch 18 train loss: 0.6412 val_cls: 0.5403 val_acc: 0.8810\n",
            "tensor(0.5403) tensor(0.5478)\n",
            "=========\n",
            "epoch 19 train loss: 0.6512 val_cls: 0.5343 val_acc: 0.8810\n",
            "tensor(0.5343) tensor(0.5403)\n",
            "=========\n",
            "epoch 20 train loss: 0.6288 val_cls: 0.5292 val_acc: 0.8810\n",
            "tensor(0.5292) tensor(0.5343)\n",
            "=========\n",
            "epoch 21 train loss: 0.6409 val_cls: 0.5256 val_acc: 0.8810\n",
            "tensor(0.5256) tensor(0.5292)\n",
            "=========\n",
            "epoch 22 train loss: 0.6361 val_cls: 0.5224 val_acc: 0.8810\n",
            "tensor(0.5224) tensor(0.5256)\n",
            "=========\n",
            "epoch 23 train loss: 0.6391 val_cls: 0.5200 val_acc: 0.8810\n",
            "tensor(0.5200) tensor(0.5224)\n",
            "=========\n",
            "epoch 24 train loss: 0.6332 val_cls: 0.5172 val_acc: 0.8810\n",
            "tensor(0.5172) tensor(0.5200)\n",
            "=========\n",
            "epoch 25 train loss: 0.6329 val_cls: 0.5148 val_acc: 0.8810\n",
            "tensor(0.5148) tensor(0.5172)\n",
            "=========\n",
            "epoch 26 train loss: 0.6386 val_cls: 0.5127 val_acc: 0.8810\n",
            "tensor(0.5127) tensor(0.5148)\n",
            "=========\n",
            "epoch 27 train loss: 0.6197 val_cls: 0.5104 val_acc: 0.8810\n",
            "tensor(0.5104) tensor(0.5127)\n",
            "=========\n",
            "epoch 28 train loss: 0.6226 val_cls: 0.5086 val_acc: 0.8810\n",
            "tensor(0.5086) tensor(0.5104)\n",
            "=========\n",
            "epoch 29 train loss: 0.6225 val_cls: 0.5069 val_acc: 0.8810\n",
            "tensor(0.5069) tensor(0.5086)\n",
            "=========\n",
            "epoch 30 train loss: 0.6251 val_cls: 0.5056 val_acc: 0.8810\n",
            "tensor(0.5056) tensor(0.5069)\n",
            "=========\n",
            "epoch 31 train loss: 0.6245 val_cls: 0.5040 val_acc: 0.8810\n",
            "tensor(0.5040) tensor(0.5056)\n",
            "=========\n",
            "epoch 32 train loss: 0.6217 val_cls: 0.5027 val_acc: 0.8810\n",
            "tensor(0.5027) tensor(0.5040)\n",
            "=========\n",
            "epoch 33 train loss: 0.6167 val_cls: 0.5014 val_acc: 0.8810\n",
            "tensor(0.5014) tensor(0.5027)\n",
            "=========\n",
            "epoch 34 train loss: 0.6104 val_cls: 0.5000 val_acc: 0.8810\n",
            "tensor(0.5000) tensor(0.5014)\n",
            "=========\n",
            "epoch 35 train loss: 0.6127 val_cls: 0.4988 val_acc: 0.8810\n",
            "tensor(0.4988) tensor(0.5000)\n",
            "=========\n",
            "epoch 36 train loss: 0.6246 val_cls: 0.4978 val_acc: 0.8810\n",
            "tensor(0.4978) tensor(0.4988)\n",
            "=========\n",
            "epoch 37 train loss: 0.6084 val_cls: 0.4965 val_acc: 0.8810\n",
            "tensor(0.4965) tensor(0.4978)\n",
            "=========\n",
            "epoch 38 train loss: 0.6080 val_cls: 0.4957 val_acc: 0.8810\n",
            "tensor(0.4957) tensor(0.4965)\n",
            "=========\n",
            "epoch 39 train loss: 0.5994 val_cls: 0.4943 val_acc: 0.8810\n",
            "tensor(0.4943) tensor(0.4957)\n",
            "=========\n",
            "epoch 40 train loss: 0.5972 val_cls: 0.4933 val_acc: 0.8810\n",
            "tensor(0.4933) tensor(0.4943)\n",
            "=========\n",
            "epoch 41 train loss: 0.6044 val_cls: 0.4927 val_acc: 0.8810\n",
            "tensor(0.4927) tensor(0.4933)\n",
            "=========\n",
            "epoch 42 train loss: 0.6013 val_cls: 0.4918 val_acc: 0.8810\n",
            "tensor(0.4918) tensor(0.4927)\n",
            "=========\n",
            "epoch 43 train loss: 0.5883 val_cls: 0.4906 val_acc: 0.8810\n",
            "tensor(0.4906) tensor(0.4918)\n",
            "=========\n",
            "epoch 44 train loss: 0.5904 val_cls: 0.4894 val_acc: 0.8810\n",
            "tensor(0.4894) tensor(0.4906)\n",
            "=========\n",
            "epoch 45 train loss: 0.5853 val_cls: 0.4888 val_acc: 0.8810\n",
            "tensor(0.4888) tensor(0.4894)\n",
            "=========\n",
            "epoch 46 train loss: 0.5930 val_cls: 0.4881 val_acc: 0.8810\n",
            "tensor(0.4881) tensor(0.4888)\n",
            "=========\n",
            "epoch 47 train loss: 0.5903 val_cls: 0.4871 val_acc: 0.8810\n",
            "tensor(0.4871) tensor(0.4881)\n",
            "=========\n",
            "epoch 48 train loss: 0.5933 val_cls: 0.4865 val_acc: 0.8810\n",
            "tensor(0.4865) tensor(0.4871)\n",
            "=========\n",
            "epoch 49 train loss: 0.5960 val_cls: 0.4858 val_acc: 0.8810\n",
            "tensor(0.4858) tensor(0.4865)\n",
            "=========\n",
            "epoch 50 train loss: 0.5931 val_cls: 0.4853 val_acc: 0.8810\n",
            "tensor(0.4853) tensor(0.4858)\n",
            "=========\n",
            "epoch 51 train loss: 0.5929 val_cls: 0.4847 val_acc: 0.8810\n",
            "tensor(0.4847) tensor(0.4853)\n",
            "=========\n",
            "epoch 52 train loss: 0.5874 val_cls: 0.4841 val_acc: 0.8810\n",
            "tensor(0.4841) tensor(0.4847)\n",
            "=========\n",
            "epoch 53 train loss: 0.5853 val_cls: 0.4834 val_acc: 0.8810\n",
            "tensor(0.4834) tensor(0.4841)\n",
            "=========\n",
            "epoch 54 train loss: 0.5820 val_cls: 0.4825 val_acc: 0.8810\n",
            "tensor(0.4825) tensor(0.4834)\n",
            "=========\n",
            "epoch 55 train loss: 0.5729 val_cls: 0.4818 val_acc: 0.8810\n",
            "tensor(0.4818) tensor(0.4825)\n",
            "=========\n",
            "epoch 56 train loss: 0.5869 val_cls: 0.4812 val_acc: 0.8810\n",
            "tensor(0.4812) tensor(0.4818)\n",
            "=========\n",
            "epoch 57 train loss: 0.5794 val_cls: 0.4803 val_acc: 0.8810\n",
            "tensor(0.4803) tensor(0.4812)\n",
            "=========\n",
            "epoch 58 train loss: 0.5815 val_cls: 0.4796 val_acc: 0.8810\n",
            "tensor(0.4796) tensor(0.4803)\n",
            "=========\n",
            "epoch 59 train loss: 0.5693 val_cls: 0.4786 val_acc: 0.8810\n",
            "tensor(0.4786) tensor(0.4796)\n",
            "=========\n",
            "epoch 60 train loss: 0.5781 val_cls: 0.4780 val_acc: 0.8810\n",
            "tensor(0.4780) tensor(0.4786)\n",
            "=========\n",
            "epoch 61 train loss: 0.5863 val_cls: 0.4776 val_acc: 0.8810\n",
            "tensor(0.4776) tensor(0.4780)\n",
            "=========\n",
            "epoch 62 train loss: 0.5818 val_cls: 0.4771 val_acc: 0.8810\n",
            "tensor(0.4771) tensor(0.4776)\n",
            "=========\n",
            "epoch 63 train loss: 0.5766 val_cls: 0.4770 val_acc: 0.8810\n",
            "tensor(0.4770) tensor(0.4771)\n",
            "=========\n",
            "epoch 64 train loss: 0.5769 val_cls: 0.4766 val_acc: 0.8810\n",
            "tensor(0.4766) tensor(0.4770)\n",
            "=========\n",
            "epoch 65 train loss: 0.5768 val_cls: 0.4756 val_acc: 0.8810\n",
            "tensor(0.4756) tensor(0.4766)\n",
            "=========\n",
            "epoch 66 train loss: 0.5664 val_cls: 0.4749 val_acc: 0.8810\n",
            "tensor(0.4749) tensor(0.4756)\n",
            "=========\n",
            "epoch 67 train loss: 0.5760 val_cls: 0.4746 val_acc: 0.8810\n",
            "tensor(0.4746) tensor(0.4749)\n",
            "=========\n",
            "epoch 68 train loss: 0.5716 val_cls: 0.4739 val_acc: 0.8810\n",
            "tensor(0.4739) tensor(0.4746)\n",
            "=========\n",
            "epoch 69 train loss: 0.5711 val_cls: 0.4737 val_acc: 0.8810\n",
            "tensor(0.4737) tensor(0.4739)\n",
            "=========\n",
            "epoch 70 train loss: 0.5666 val_cls: 0.4730 val_acc: 0.8810\n",
            "tensor(0.4730) tensor(0.4737)\n",
            "=========\n",
            "epoch 71 train loss: 0.5672 val_cls: 0.4727 val_acc: 0.8810\n",
            "tensor(0.4727) tensor(0.4730)\n",
            "=========\n",
            "epoch 72 train loss: 0.5597 val_cls: 0.4722 val_acc: 0.8810\n",
            "tensor(0.4722) tensor(0.4727)\n",
            "=========\n",
            "epoch 73 train loss: 0.5731 val_cls: 0.4719 val_acc: 0.8810\n",
            "tensor(0.4719) tensor(0.4722)\n",
            "=========\n",
            "epoch 74 train loss: 0.5686 val_cls: 0.4713 val_acc: 0.8810\n",
            "tensor(0.4713) tensor(0.4719)\n",
            "=========\n",
            "epoch 75 train loss: 0.5832 val_cls: 0.4710 val_acc: 0.8810\n",
            "tensor(0.4710) tensor(0.4713)\n",
            "=========\n",
            "epoch 76 train loss: 0.5608 val_cls: 0.4706 val_acc: 0.8810\n",
            "tensor(0.4706) tensor(0.4710)\n",
            "=========\n",
            "epoch 77 train loss: 0.5632 val_cls: 0.4701 val_acc: 0.8810\n",
            "tensor(0.4701) tensor(0.4706)\n",
            "=========\n",
            "epoch 78 train loss: 0.5638 val_cls: 0.4695 val_acc: 0.8810\n",
            "tensor(0.4695) tensor(0.4701)\n",
            "=========\n",
            "epoch 79 train loss: 0.5617 val_cls: 0.4689 val_acc: 0.8810\n",
            "tensor(0.4689) tensor(0.4695)\n",
            "=========\n",
            "epoch 80 train loss: 0.5556 val_cls: 0.4683 val_acc: 0.8810\n",
            "tensor(0.4683) tensor(0.4689)\n",
            "=========\n",
            "epoch 81 train loss: 0.5515 val_cls: 0.4677 val_acc: 0.8810\n",
            "tensor(0.4677) tensor(0.4683)\n",
            "=========\n",
            "epoch 82 train loss: 0.5533 val_cls: 0.4672 val_acc: 0.8810\n",
            "tensor(0.4672) tensor(0.4677)\n",
            "=========\n",
            "epoch 83 train loss: 0.5530 val_cls: 0.4666 val_acc: 0.8810\n",
            "tensor(0.4666) tensor(0.4672)\n",
            "=========\n",
            "epoch 84 train loss: 0.5511 val_cls: 0.4661 val_acc: 0.8810\n",
            "tensor(0.4661) tensor(0.4666)\n",
            "=========\n",
            "epoch 85 train loss: 0.5586 val_cls: 0.4657 val_acc: 0.8810\n",
            "tensor(0.4657) tensor(0.4661)\n",
            "=========\n",
            "epoch 86 train loss: 0.5431 val_cls: 0.4651 val_acc: 0.8810\n",
            "tensor(0.4651) tensor(0.4657)\n",
            "=========\n",
            "epoch 87 train loss: 0.5558 val_cls: 0.4649 val_acc: 0.8810\n",
            "tensor(0.4649) tensor(0.4651)\n",
            "=========\n",
            "epoch 88 train loss: 0.5404 val_cls: 0.4641 val_acc: 0.8810\n",
            "tensor(0.4641) tensor(0.4649)\n",
            "=========\n",
            "epoch 89 train loss: 0.5391 val_cls: 0.4637 val_acc: 0.8810\n",
            "tensor(0.4637) tensor(0.4641)\n",
            "=========\n",
            "epoch 90 train loss: 0.5437 val_cls: 0.4632 val_acc: 0.8810\n",
            "tensor(0.4632) tensor(0.4637)\n",
            "=========\n",
            "epoch 91 train loss: 0.5395 val_cls: 0.4626 val_acc: 0.8810\n",
            "tensor(0.4626) tensor(0.4632)\n",
            "=========\n",
            "epoch 92 train loss: 0.5473 val_cls: 0.4621 val_acc: 0.8810\n",
            "tensor(0.4621) tensor(0.4626)\n",
            "=========\n",
            "epoch 93 train loss: 0.5443 val_cls: 0.4618 val_acc: 0.8810\n",
            "tensor(0.4618) tensor(0.4621)\n",
            "=========\n",
            "epoch 94 train loss: 0.5451 val_cls: 0.4614 val_acc: 0.8810\n",
            "tensor(0.4614) tensor(0.4618)\n",
            "=========\n",
            "epoch 95 train loss: 0.5432 val_cls: 0.4610 val_acc: 0.8810\n",
            "tensor(0.4610) tensor(0.4614)\n",
            "=========\n",
            "epoch 96 train loss: 0.5311 val_cls: 0.4603 val_acc: 0.8810\n",
            "tensor(0.4603) tensor(0.4610)\n",
            "=========\n",
            "epoch 97 train loss: 0.5381 val_cls: 0.4598 val_acc: 0.8810\n",
            "tensor(0.4598) tensor(0.4603)\n",
            "=========\n",
            "epoch 98 train loss: 0.5357 val_cls: 0.4594 val_acc: 0.8810\n",
            "tensor(0.4594) tensor(0.4598)\n",
            "=========\n",
            "epoch 99 train loss: 0.5295 val_cls: 0.4589 val_acc: 0.8810\n",
            "tensor(0.4589) tensor(0.4594)\n",
            "=========\n",
            "epoch 100 train loss: 0.5253 val_cls: 0.4583 val_acc: 0.8810\n",
            "tensor(0.4583) tensor(0.4589)\n",
            "=========\n",
            "epoch 101 train loss: 0.5244 val_cls: 0.4578 val_acc: 0.8810\n",
            "tensor(0.4578) tensor(0.4583)\n",
            "=========\n",
            "epoch 102 train loss: 0.5329 val_cls: 0.4573 val_acc: 0.8810\n",
            "tensor(0.4573) tensor(0.4578)\n",
            "=========\n",
            "epoch 103 train loss: 0.5314 val_cls: 0.4570 val_acc: 0.8810\n",
            "tensor(0.4570) tensor(0.4573)\n",
            "=========\n",
            "epoch 104 train loss: 0.5328 val_cls: 0.4566 val_acc: 0.8810\n",
            "tensor(0.4566) tensor(0.4570)\n",
            "=========\n",
            "epoch 105 train loss: 0.5308 val_cls: 0.4562 val_acc: 0.8810\n",
            "tensor(0.4562) tensor(0.4566)\n",
            "=========\n",
            "epoch 106 train loss: 0.5225 val_cls: 0.4559 val_acc: 0.8810\n",
            "tensor(0.4559) tensor(0.4562)\n",
            "=========\n",
            "epoch 107 train loss: 0.5285 val_cls: 0.4555 val_acc: 0.8810\n",
            "tensor(0.4555) tensor(0.4559)\n",
            "=========\n",
            "epoch 108 train loss: 0.5201 val_cls: 0.4549 val_acc: 0.8810\n",
            "tensor(0.4549) tensor(0.4555)\n",
            "=========\n",
            "epoch 109 train loss: 0.5132 val_cls: 0.4541 val_acc: 0.8810\n",
            "tensor(0.4541) tensor(0.4549)\n",
            "=========\n",
            "epoch 110 train loss: 0.5161 val_cls: 0.4537 val_acc: 0.8810\n",
            "tensor(0.4537) tensor(0.4541)\n",
            "=========\n",
            "epoch 111 train loss: 0.5128 val_cls: 0.4531 val_acc: 0.8810\n",
            "tensor(0.4531) tensor(0.4537)\n",
            "=========\n",
            "epoch 112 train loss: 0.5132 val_cls: 0.4528 val_acc: 0.8810\n",
            "tensor(0.4528) tensor(0.4531)\n",
            "=========\n",
            "epoch 113 train loss: 0.5096 val_cls: 0.4524 val_acc: 0.8810\n",
            "tensor(0.4524) tensor(0.4528)\n",
            "=========\n",
            "epoch 114 train loss: 0.5080 val_cls: 0.4520 val_acc: 0.8810\n",
            "tensor(0.4520) tensor(0.4524)\n",
            "=========\n",
            "epoch 115 train loss: 0.5068 val_cls: 0.4516 val_acc: 0.8810\n",
            "tensor(0.4516) tensor(0.4520)\n",
            "=========\n",
            "epoch 116 train loss: 0.5032 val_cls: 0.4510 val_acc: 0.8810\n",
            "tensor(0.4510) tensor(0.4516)\n",
            "=========\n",
            "epoch 117 train loss: 0.5029 val_cls: 0.4507 val_acc: 0.8810\n",
            "tensor(0.4507) tensor(0.4510)\n",
            "=========\n",
            "epoch 118 train loss: 0.5061 val_cls: 0.4502 val_acc: 0.8810\n",
            "tensor(0.4502) tensor(0.4507)\n",
            "=========\n",
            "epoch 119 train loss: 0.4953 val_cls: 0.4497 val_acc: 0.8810\n",
            "tensor(0.4497) tensor(0.4502)\n",
            "=========\n",
            "epoch 120 train loss: 0.4979 val_cls: 0.4494 val_acc: 0.8810\n",
            "tensor(0.4494) tensor(0.4497)\n",
            "=========\n",
            "epoch 121 train loss: 0.4959 val_cls: 0.4491 val_acc: 0.8810\n",
            "tensor(0.4491) tensor(0.4494)\n",
            "=========\n",
            "epoch 122 train loss: 0.5002 val_cls: 0.4487 val_acc: 0.8810\n",
            "tensor(0.4487) tensor(0.4491)\n",
            "=========\n",
            "epoch 123 train loss: 0.4847 val_cls: 0.4480 val_acc: 0.8810\n",
            "tensor(0.4480) tensor(0.4487)\n",
            "=========\n",
            "epoch 124 train loss: 0.4977 val_cls: 0.4478 val_acc: 0.8810\n",
            "tensor(0.4478) tensor(0.4480)\n",
            "=========\n",
            "epoch 125 train loss: 0.4874 val_cls: 0.4473 val_acc: 0.8810\n",
            "tensor(0.4473) tensor(0.4478)\n",
            "=========\n",
            "epoch 126 train loss: 0.4840 val_cls: 0.4470 val_acc: 0.8810\n",
            "tensor(0.4470) tensor(0.4473)\n",
            "=========\n",
            "epoch 127 train loss: 0.4927 val_cls: 0.4468 val_acc: 0.8810\n",
            "tensor(0.4468) tensor(0.4470)\n",
            "=========\n",
            "epoch 128 train loss: 0.4856 val_cls: 0.4464 val_acc: 0.8810\n",
            "tensor(0.4464) tensor(0.4468)\n",
            "=========\n",
            "epoch 129 train loss: 0.4944 val_cls: 0.4462 val_acc: 0.8810\n",
            "tensor(0.4462) tensor(0.4464)\n",
            "=========\n",
            "epoch 130 train loss: 0.4836 val_cls: 0.4458 val_acc: 0.8810\n",
            "tensor(0.4458) tensor(0.4462)\n",
            "=========\n",
            "epoch 131 train loss: 0.4777 val_cls: 0.4453 val_acc: 0.8810\n",
            "tensor(0.4453) tensor(0.4458)\n",
            "=========\n",
            "epoch 132 train loss: 0.4823 val_cls: 0.4450 val_acc: 0.8810\n",
            "tensor(0.4450) tensor(0.4453)\n",
            "=========\n",
            "epoch 133 train loss: 0.4774 val_cls: 0.4446 val_acc: 0.8810\n",
            "tensor(0.4446) tensor(0.4450)\n",
            "=========\n",
            "epoch 134 train loss: 0.4779 val_cls: 0.4443 val_acc: 0.8810\n",
            "tensor(0.4443) tensor(0.4446)\n",
            "=========\n",
            "epoch 135 train loss: 0.4687 val_cls: 0.4440 val_acc: 0.8810\n",
            "tensor(0.4440) tensor(0.4443)\n",
            "=========\n",
            "epoch 136 train loss: 0.4817 val_cls: 0.4438 val_acc: 0.8810\n",
            "tensor(0.4438) tensor(0.4440)\n",
            "=========\n",
            "epoch 137 train loss: 0.4756 val_cls: 0.4434 val_acc: 0.8810\n",
            "tensor(0.4434) tensor(0.4438)\n",
            "=========\n",
            "epoch 138 train loss: 0.4793 val_cls: 0.4432 val_acc: 0.8810\n",
            "tensor(0.4432) tensor(0.4434)\n",
            "=========\n",
            "epoch 139 train loss: 0.4589 val_cls: 0.4429 val_acc: 0.8810\n",
            "tensor(0.4429) tensor(0.4432)\n",
            "=========\n",
            "epoch 140 train loss: 0.4699 val_cls: 0.4426 val_acc: 0.8810\n",
            "tensor(0.4426) tensor(0.4429)\n",
            "=========\n",
            "epoch 141 train loss: 0.4632 val_cls: 0.4423 val_acc: 0.8810\n",
            "tensor(0.4423) tensor(0.4426)\n",
            "=========\n",
            "epoch 142 train loss: 0.4753 val_cls: 0.4421 val_acc: 0.8810\n",
            "tensor(0.4421) tensor(0.4423)\n",
            "=========\n",
            "epoch 143 train loss: 0.4600 val_cls: 0.4419 val_acc: 0.8810\n",
            "tensor(0.4419) tensor(0.4421)\n",
            "=========\n",
            "epoch 144 train loss: 0.4602 val_cls: 0.4417 val_acc: 0.8810\n",
            "tensor(0.4417) tensor(0.4419)\n",
            "=========\n",
            "epoch 145 train loss: 0.4617 val_cls: 0.4416 val_acc: 0.8810\n",
            "tensor(0.4416) tensor(0.4417)\n",
            "=========\n",
            "epoch 146 train loss: 0.4532 val_cls: 0.4416 val_acc: 0.8810\n",
            "tensor(0.4416) tensor(0.4416)\n",
            "=========\n",
            "epoch 147 train loss: 0.4500 val_cls: 0.4415 val_acc: 0.8810\n",
            "tensor(0.4415) tensor(0.4416)\n",
            "=========\n",
            "epoch 148 train loss: 0.4440 val_cls: 0.4414 val_acc: 0.8810\n",
            "tensor(0.4414) tensor(0.4415)\n",
            "=========\n",
            "epoch 149 train loss: 0.4539 val_cls: 0.4412 val_acc: 0.8810\n",
            "tensor(0.4412) tensor(0.4414)\n",
            "=========\n",
            "epoch 150 train loss: 0.4493 val_cls: 0.4411 val_acc: 0.8810\n",
            "tensor(0.4411) tensor(0.4412)\n",
            "=========\n",
            "epoch 151 train loss: 0.4410 val_cls: 0.4410 val_acc: 0.8810\n",
            "tensor(0.4410) tensor(0.4411)\n",
            "=========\n",
            "epoch 152 train loss: 0.4429 val_cls: 0.4409 val_acc: 0.8810\n",
            "tensor(0.4409) tensor(0.4410)\n",
            "=========\n",
            "epoch 153 train loss: 0.4336 val_cls: 0.4408 val_acc: 0.8810\n",
            "tensor(0.4408) tensor(0.4409)\n",
            "=========\n",
            "epoch 154 train loss: 0.4406 val_cls: 0.4408 val_acc: 0.8810\n",
            "tensor(0.4408) tensor(0.4408)\n",
            "=========\n",
            "epoch 155 train loss: 0.4378 val_cls: 0.4408 val_acc: 0.8810\n",
            "tensor(0.4408) tensor(0.4408)\n",
            "=========\n",
            "epoch 156 train loss: 0.4471 val_cls: 0.4408 val_acc: 0.8810\n",
            "tensor(0.4408) tensor(0.4408)\n",
            "=========\n",
            "epoch 157 train loss: 0.4356 val_cls: 0.4408 val_acc: 0.8810\n",
            "tensor(0.4408) tensor(0.4408)\n",
            "=========\n",
            "epoch 158 train loss: 0.4355 val_cls: 0.4408 val_acc: 0.8810\n",
            "tensor(0.4408) tensor(0.4408)\n",
            "=========\n",
            "epoch 159 train loss: 0.4293 val_cls: 0.4407 val_acc: 0.8810\n",
            "tensor(0.4407) tensor(0.4408)\n",
            "=========\n",
            "epoch 160 train loss: 0.4272 val_cls: 0.4408 val_acc: 0.8810\n",
            "tensor(0.4408) tensor(0.4407)\n",
            "=========\n",
            "epoch 161 train loss: 0.4177 val_cls: 0.4408 val_acc: 0.8810\n",
            "tensor(0.4408) tensor(0.4407)\n",
            "=========\n",
            "epoch 162 train loss: 0.4294 val_cls: 0.4411 val_acc: 0.8810\n",
            "tensor(0.4411) tensor(0.4407)\n",
            "=========\n",
            "epoch 163 train loss: 0.4256 val_cls: 0.4410 val_acc: 0.8810\n",
            "tensor(0.4410) tensor(0.4407)\n",
            "=========\n",
            "epoch 164 train loss: 0.4243 val_cls: 0.4410 val_acc: 0.8810\n",
            "tensor(0.4410) tensor(0.4407)\n",
            "EARLY STOPPING \n"
          ]
        }
      ]
    },
    {
      "cell_type": "markdown",
      "source": [
        "## Model Evaluation"
      ],
      "metadata": {
        "id": "qO0xooOmL_3D"
      }
    },
    {
      "cell_type": "code",
      "source": [
        "plt.plot(history[\"train_loss\"], label='train');\n",
        "plt.plot(history[\"val_cls\"], label='val');\n",
        "plt.title('Loss')\n",
        "plt.xlabel('Epochs')\n",
        "plt.ylabel('MSE')\n",
        "plt.legend()"
      ],
      "metadata": {
        "id": "YIp9yuw_1KsA",
        "colab": {
          "base_uri": "https://localhost:8080/",
          "height": 312
        },
        "outputId": "d0297188-5a5e-4717-c747-4a24af90c493"
      },
      "execution_count": 292,
      "outputs": [
        {
          "output_type": "execute_result",
          "data": {
            "text/plain": [
              "<matplotlib.legend.Legend at 0x7f475087baf0>"
            ]
          },
          "metadata": {},
          "execution_count": 292
        },
        {
          "output_type": "display_data",
          "data": {
            "text/plain": [
              "<Figure size 432x288 with 1 Axes>"
            ],
            "image/png": "[encoded data removed]"
          },
          "metadata": {
            "needs_background": "light"
          }
        }
      ]
    },
    {
      "cell_type": "code",
      "source": [
        "plt.plot(history[\"val_acc\"]);\n",
        "plt.title('Accuracy')\n",
        "plt.xlabel('Epochs')\n",
        "plt.ylabel('ACC');"
      ],
      "metadata": {
        "id": "LpiIB4WwKK2S",
        "colab": {
          "base_uri": "https://localhost:8080/",
          "height": 295
        },
        "outputId": "b2d35a01-10e3-472d-b4c1-6e9c8304fbda"
      },
      "execution_count": 293,
      "outputs": [
        {
          "output_type": "display_data",
          "data": {
            "text/plain": [
              "<Figure size 432x288 with 1 Axes>"
            ],
            "image/png": "[encoded data removed]"
          },
          "metadata": {
            "needs_background": "light"
          }
        }
      ]
    },
    {
      "cell_type": "code",
      "source": [
        "# evaluate model\n",
        "from sklearn.metrics import mean_squared_error as mse\n",
        "from sklearn.metrics import mean_absolute_error as mae\n",
        "from sklearn.metrics import accuracy_score\n",
        "\n",
        "predictions = utils.test(classification_model, test_iter)\n",
        "predictions = np.argmax(predictions, axis=1)\n",
        "\n",
        "print(\"Accuracy:\", accuracy_score(y_true = y_test, y_pred = predictions))\n",
        "print(\"MSE:\", mse(y_true = y_test, y_pred = predictions))\n",
        "print(\"MAE:\", mae(y_true = y_test, y_pred = predictions))"
      ],
      "metadata": {
        "id": "d_iaeA9ce5GM",
        "colab": {
          "base_uri": "https://localhost:8080/"
        },
        "outputId": "716013c1-5441-4f29-d2a3-8cf069ca3fec"
      },
      "execution_count": 297,
      "outputs": [
        {
          "output_type": "stream",
          "name": "stdout",
          "text": [
            "Accuracy: 0.8585714285714285\n",
            "MSE: 0.5714285714285714\n",
            "MAE: 0.24\n"
          ]
        }
      ]
    },
    {
      "cell_type": "code",
      "source": [
        "# examine accuracy of predictions for test set\n",
        "pred = utils.test(classification_model, test_iter)\n",
        "# find the most likely rating for the specific review by finding the column with the highest score in each row of the matrix\n",
        "conv_pred = np.argmax(pred, axis=1)\n",
        "\n",
        "# print classification report\n",
        "print(classification_report(y_pred=conv_pred, y_true=y_test))"
      ],
      "metadata": {
        "id": "lIL_BJZgKXmm",
        "colab": {
          "base_uri": "https://localhost:8080/"
        },
        "outputId": "fdf09282-fe66-4ea1-aae2-3ddfa00b03d8"
      },
      "execution_count": 295,
      "outputs": [
        {
          "output_type": "stream",
          "name": "stdout",
          "text": [
            "              precision    recall  f1-score   support\n",
            "\n",
            "           0       0.00      0.00      0.00        13\n",
            "           1       0.00      0.00      0.00         8\n",
            "           2       0.00      0.00      0.00        14\n",
            "           3       0.00      0.00      0.00        64\n",
            "           4       0.86      1.00      0.92       601\n",
            "\n",
            "    accuracy                           0.86       700\n",
            "   macro avg       0.17      0.20      0.18       700\n",
            "weighted avg       0.74      0.86      0.79       700\n",
            "\n"
          ]
        },
        {
          "output_type": "stream",
          "name": "stderr",
          "text": [
            "/usr/local/lib/python3.8/dist-packages/sklearn/metrics/_classification.py:1318: UndefinedMetricWarning: Precision and F-score are ill-defined and being set to 0.0 in labels with no predicted samples. Use `zero_division` parameter to control this behavior.\n",
            "  _warn_prf(average, modifier, msg_start, len(result))\n",
            "/usr/local/lib/python3.8/dist-packages/sklearn/metrics/_classification.py:1318: UndefinedMetricWarning: Precision and F-score are ill-defined and being set to 0.0 in labels with no predicted samples. Use `zero_division` parameter to control this behavior.\n",
            "  _warn_prf(average, modifier, msg_start, len(result))\n",
            "/usr/local/lib/python3.8/dist-packages/sklearn/metrics/_classification.py:1318: UndefinedMetricWarning: Precision and F-score are ill-defined and being set to 0.0 in labels with no predicted samples. Use `zero_division` parameter to control this behavior.\n",
            "  _warn_prf(average, modifier, msg_start, len(result))\n"
          ]
        }
      ]
    },
    {
      "cell_type": "code",
      "source": [
        "ConfusionMatrixDisplay.from_predictions(y_test, conv_pred);"
      ],
      "metadata": {
        "colab": {
          "base_uri": "https://localhost:8080/",
          "height": 283
        },
        "id": "D6MiVGlR_Hct",
        "outputId": "5272b906-94da-4b84-8b23-758c6f665cec"
      },
      "execution_count": 301,
      "outputs": [
        {
          "output_type": "display_data",
          "data": {
            "text/plain": [
              "<Figure size 432x288 with 2 Axes>"
            ],
            "image/png": "[encoded data removed]"
          },
          "metadata": {
            "needs_background": "light"
          }
        }
      ]
    }
  ]
}