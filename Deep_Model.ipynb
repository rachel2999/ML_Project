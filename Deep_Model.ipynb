{
  "nbformat": 4,
  "nbformat_minor": 0,
  "metadata": {
    "colab": {
      "provenance": [],
      "toc_visible": true
    },
    "kernelspec": {
      "name": "python3",
      "display_name": "Python 3"
    },
    "language_info": {
      "name": "python"
    },
    "accelerator": "GPU",
    "gpuClass": "standard"
  },
  "cells": [
    {
      "cell_type": "markdown",
      "source": [
        "# Drink Quality by Reviews"
      ],
      "metadata": {
        "id": "WTkQ8n1FsVJL"
      }
    },
    {
      "cell_type": "markdown",
      "source": [
        "Examine the correlation between \"Rating\" and \"Review\" to determine if the quality of a drink can be predicted based on it's reviews."
      ],
      "metadata": {
        "id": "3QLwH_X0TL_-"
      }
    },
    {
      "cell_type": "code",
      "execution_count": 1,
      "metadata": {
        "colab": {
          "base_uri": "https://localhost:8080/"
        },
        "id": "M1THLhLXDOmz",
        "outputId": "cae7d386-6365-4d9b-881c-8d13d093df6c"
      },
      "outputs": [
        {
          "output_type": "stream",
          "name": "stdout",
          "text": [
            "Looking in indexes: https://pypi.org/simple, https://us-python.pkg.dev/colab-wheels/public/simple/\n",
            "Collecting import-ipynb\n",
            "  Downloading import_ipynb-0.1.4-py3-none-any.whl (4.1 kB)\n",
            "Requirement already satisfied: IPython in /usr/local/lib/python3.8/dist-packages (from import-ipynb) (7.9.0)\n",
            "Requirement already satisfied: nbformat in /usr/local/lib/python3.8/dist-packages (from import-ipynb) (5.7.1)\n",
            "Collecting jedi>=0.10\n",
            "  Downloading jedi-0.18.2-py2.py3-none-any.whl (1.6 MB)\n",
            "\u001b[2K     \u001b[90m━━━━━━━━━━━━━━━━━━━━━━━━━━━━━━━━━━━━━━━━\u001b[0m \u001b[32m1.6/1.6 MB\u001b[0m \u001b[31m19.5 MB/s\u001b[0m eta \u001b[36m0:00:00\u001b[0m\n",
            "\u001b[?25hRequirement already satisfied: backcall in /usr/local/lib/python3.8/dist-packages (from IPython->import-ipynb) (0.2.0)\n",
            "Requirement already satisfied: decorator in /usr/local/lib/python3.8/dist-packages (from IPython->import-ipynb) (4.4.2)\n",
            "Requirement already satisfied: traitlets>=4.2 in /usr/local/lib/python3.8/dist-packages (from IPython->import-ipynb) (5.7.1)\n",
            "Requirement already satisfied: pygments in /usr/local/lib/python3.8/dist-packages (from IPython->import-ipynb) (2.6.1)\n",
            "Requirement already satisfied: setuptools>=18.5 in /usr/local/lib/python3.8/dist-packages (from IPython->import-ipynb) (57.4.0)\n",
            "Requirement already satisfied: pexpect in /usr/local/lib/python3.8/dist-packages (from IPython->import-ipynb) (4.8.0)\n",
            "Requirement already satisfied: prompt-toolkit<2.1.0,>=2.0.0 in /usr/local/lib/python3.8/dist-packages (from IPython->import-ipynb) (2.0.10)\n",
            "Requirement already satisfied: pickleshare in /usr/local/lib/python3.8/dist-packages (from IPython->import-ipynb) (0.7.5)\n",
            "Requirement already satisfied: jupyter-core in /usr/local/lib/python3.8/dist-packages (from nbformat->import-ipynb) (5.1.3)\n",
            "Requirement already satisfied: fastjsonschema in /usr/local/lib/python3.8/dist-packages (from nbformat->import-ipynb) (2.16.2)\n",
            "Requirement already satisfied: jsonschema>=2.6 in /usr/local/lib/python3.8/dist-packages (from nbformat->import-ipynb) (4.3.3)\n",
            "Requirement already satisfied: parso<0.9.0,>=0.8.0 in /usr/local/lib/python3.8/dist-packages (from jedi>=0.10->IPython->import-ipynb) (0.8.3)\n",
            "Requirement already satisfied: attrs>=17.4.0 in /usr/local/lib/python3.8/dist-packages (from jsonschema>=2.6->nbformat->import-ipynb) (22.2.0)\n",
            "Requirement already satisfied: pyrsistent!=0.17.0,!=0.17.1,!=0.17.2,>=0.14.0 in /usr/local/lib/python3.8/dist-packages (from jsonschema>=2.6->nbformat->import-ipynb) (0.19.3)\n",
            "Requirement already satisfied: importlib-resources>=1.4.0 in /usr/local/lib/python3.8/dist-packages (from jsonschema>=2.6->nbformat->import-ipynb) (5.10.2)\n",
            "Requirement already satisfied: wcwidth in /usr/local/lib/python3.8/dist-packages (from prompt-toolkit<2.1.0,>=2.0.0->IPython->import-ipynb) (0.2.5)\n",
            "Requirement already satisfied: six>=1.9.0 in /usr/local/lib/python3.8/dist-packages (from prompt-toolkit<2.1.0,>=2.0.0->IPython->import-ipynb) (1.15.0)\n",
            "Requirement already satisfied: platformdirs>=2.5 in /usr/local/lib/python3.8/dist-packages (from jupyter-core->nbformat->import-ipynb) (2.6.2)\n",
            "Requirement already satisfied: ptyprocess>=0.5 in /usr/local/lib/python3.8/dist-packages (from pexpect->IPython->import-ipynb) (0.7.0)\n",
            "Requirement already satisfied: zipp>=3.1.0 in /usr/local/lib/python3.8/dist-packages (from importlib-resources>=1.4.0->jsonschema>=2.6->nbformat->import-ipynb) (3.11.0)\n",
            "Installing collected packages: jedi, import-ipynb\n",
            "Successfully installed import-ipynb-0.1.4 jedi-0.18.2\n"
          ]
        }
      ],
      "source": [
        "!pip install import-ipynb"
      ]
    },
    {
      "cell_type": "code",
      "source": [
        "from google.colab import drive\n",
        "drive.mount('/content/gdrive')\n",
        "%cd gdrive/MyDrive/ML-Project"
      ],
      "metadata": {
        "colab": {
          "base_uri": "https://localhost:8080/"
        },
        "id": "2XZesjC4DUcU",
        "outputId": "88195687-b1aa-4610-d64f-b6a47070f2a4"
      },
      "execution_count": 2,
      "outputs": [
        {
          "output_type": "stream",
          "name": "stdout",
          "text": [
            "Mounted at /content/gdrive\n",
            "/content/gdrive/MyDrive/ML-Project\n"
          ]
        }
      ]
    },
    {
      "cell_type": "code",
      "source": [
        "import tensorflow.keras as keras\n",
        "import matplotlib.pyplot as plt\n",
        "import numpy as np\n",
        "import seaborn as sns\n",
        "import matplotlib.pyplot as plt\n",
        "import numpy as np\n",
        "import seaborn as sns\n",
        "import torch\n",
        "from torch import nn\n",
        "import pandas as pd\n",
        "import random\n",
        "import import_ipynb\n",
        "import utils\n",
        "\n",
        "\n",
        "# to get reproducible results:\n",
        "torch.manual_seed(1234)\n",
        "np.random.seed(1234)"
      ],
      "metadata": {
        "colab": {
          "base_uri": "https://localhost:8080/"
        },
        "id": "cC_ZMjWvDYoj",
        "outputId": "153fc0bb-32aa-4239-b784-5a6cdada09c0"
      },
      "execution_count": 3,
      "outputs": [
        {
          "output_type": "stream",
          "name": "stdout",
          "text": [
            "importing Jupyter notebook from utils.ipynb\n"
          ]
        }
      ]
    },
    {
      "cell_type": "code",
      "source": [
        "import sklearn\n",
        "import matplotlib.pyplot as plt\n",
        "from sklearn.model_selection import train_test_split\n",
        "from sklearn.pipeline import make_pipeline\n",
        "from sklearn.impute import KNNImputer\n",
        "from sklearn.preprocessing import StandardScaler\n",
        "from sklearn.linear_model import LogisticRegression, SGDClassifier\n",
        "from sklearn.neighbors import KNeighborsClassifier\n",
        "from sklearn.preprocessing import MaxAbsScaler\n",
        "from sklearn.svm import SVC\n",
        "from sklearn.model_selection import GridSearchCV\n",
        "from sklearn.tree import DecisionTreeClassifier\n",
        "from sklearn.metrics import accuracy_score, f1_score, classification_report, ConfusionMatrixDisplay\n",
        "from sklearn.feature_extraction.text import CountVectorizer, TfidfVectorizer\n",
        "from sklearn.compose import make_column_transformer\n",
        "from sklearn.preprocessing import OneHotEncoder, OrdinalEncoder\n",
        "from sklearn.impute import SimpleImputer"
      ],
      "metadata": {
        "id": "CoLyV47NLEas"
      },
      "execution_count": 4,
      "outputs": []
    },
    {
      "cell_type": "markdown",
      "source": [
        "### Preprocessing the Dataset"
      ],
      "metadata": {
        "id": "kJTb2CCVK6Gw"
      }
    },
    {
      "cell_type": "code",
      "source": [
        "# read dataset file\n",
        "df = pd.read_csv('dataset.csv', sep=',')"
      ],
      "metadata": {
        "id": "KKBmGAx6Dn7_"
      },
      "execution_count": 5,
      "outputs": []
    },
    {
      "cell_type": "code",
      "source": [
        "# replace column names with shorter, more readable names\n",
        "df.columns = ['Num', 'Brand', 'Name', 'Date', 'Recommend', 'Helpful', 'Rating', 'Weight', 'Review Title', 'Review']\n",
        "df.sample(5)"
      ],
      "metadata": {
        "colab": {
          "base_uri": "https://localhost:8080/",
          "height": 337
        },
        "id": "mg_ZwGcTEClT",
        "outputId": "b684e906-7180-42cb-b60e-d6c7597e74b2"
      },
      "execution_count": 6,
      "outputs": [
        {
          "output_type": "execute_result",
          "data": {
            "text/plain": [
              "       Num        Brand                                       Name  \\\n",
              "1263  1264         Gmax     Gmax g144105 gm44 full face red wine m   \n",
              "227    228     Heineken     Heineken174 Lager - 6pk / 12oz Bottles   \n",
              "2142  2143       Carmex  Carmex Lip Balm Original Jar - 12 PK, 12.   \n",
              "450    451     Jim Beam      Jim Beam Black Bourbon Whiskey, 50 mL   \n",
              "1403  1404  Great Value  Great Value Original Crescent Rolls, 8 oz   \n",
              "\n",
              "                      Date Recommend  Helpful  Rating   Weight  \\\n",
              "1263  2017-01-09T22:25:24Z       NaN      NaN     4.0      NaN   \n",
              "227   2017-09-20T01:18:35Z      True      NaN     5.0  1.0 lbs   \n",
              "2142  2017-09-23T02:53:08Z      True      NaN     5.0      NaN   \n",
              "450   2017-09-20T01:18:35Z       NaN      NaN     5.0      NaN   \n",
              "1403  2017-09-02T07:55:36Z      True      0.0     5.0      NaN   \n",
              "\n",
              "                   Review Title  \\\n",
              "1263                        NaN   \n",
              "227                 Great beer!   \n",
              "2142         Small and compact!   \n",
              "450        My favorite bourbon!   \n",
              "1403  Just as good as Pillsbury   \n",
              "\n",
              "                                                 Review  \n",
              "1263                                       easy process  \n",
              "227   I bought this, best price and great convenienc...  \n",
              "2142  The lip balm is so smooth, doesn't have a weir...  \n",
              "450                          Exceptionally good flavor!  \n",
              "1403         Just as good as Pillsbury but better price  "
            ],
            "text/html": [
              "\n",
              "  <div id=\"df-fbcab693-5582-407b-918f-b0350fd97d15\">\n",
              "    <div class=\"colab-df-container\">\n",
              "      <div>\n",
              "<style scoped>\n",
              "    .dataframe tbody tr th:only-of-type {\n",
              "        vertical-align: middle;\n",
              "    }\n",
              "\n",
              "    .dataframe tbody tr th {\n",
              "        vertical-align: top;\n",
              "    }\n",
              "\n",
              "    .dataframe thead th {\n",
              "        text-align: right;\n",
              "    }\n",
              "</style>\n",
              "<table border=\"1\" class=\"dataframe\">\n",
              "  <thead>\n",
              "    <tr style=\"text-align: right;\">\n",
              "      <th></th>\n",
              "      <th>Num</th>\n",
              "      <th>Brand</th>\n",
              "      <th>Name</th>\n",
              "      <th>Date</th>\n",
              "      <th>Recommend</th>\n",
              "      <th>Helpful</th>\n",
              "      <th>Rating</th>\n",
              "      <th>Weight</th>\n",
              "      <th>Review Title</th>\n",
              "      <th>Review</th>\n",
              "    </tr>\n",
              "  </thead>\n",
              "  <tbody>\n",
              "    <tr>\n",
              "      <th>1263</th>\n",
              "      <td>1264</td>\n",
              "      <td>Gmax</td>\n",
              "      <td>Gmax g144105 gm44 full face red wine m</td>\n",
              "      <td>2017-01-09T22:25:24Z</td>\n",
              "      <td>NaN</td>\n",
              "      <td>NaN</td>\n",
              "      <td>4.0</td>\n",
              "      <td>NaN</td>\n",
              "      <td>NaN</td>\n",
              "      <td>easy process</td>\n",
              "    </tr>\n",
              "    <tr>\n",
              "      <th>227</th>\n",
              "      <td>228</td>\n",
              "      <td>Heineken</td>\n",
              "      <td>Heineken174 Lager - 6pk / 12oz Bottles</td>\n",
              "      <td>2017-09-20T01:18:35Z</td>\n",
              "      <td>True</td>\n",
              "      <td>NaN</td>\n",
              "      <td>5.0</td>\n",
              "      <td>1.0 lbs</td>\n",
              "      <td>Great beer!</td>\n",
              "      <td>I bought this, best price and great convenienc...</td>\n",
              "    </tr>\n",
              "    <tr>\n",
              "      <th>2142</th>\n",
              "      <td>2143</td>\n",
              "      <td>Carmex</td>\n",
              "      <td>Carmex Lip Balm Original Jar - 12 PK, 12.</td>\n",
              "      <td>2017-09-23T02:53:08Z</td>\n",
              "      <td>True</td>\n",
              "      <td>NaN</td>\n",
              "      <td>5.0</td>\n",
              "      <td>NaN</td>\n",
              "      <td>Small and compact!</td>\n",
              "      <td>The lip balm is so smooth, doesn't have a weir...</td>\n",
              "    </tr>\n",
              "    <tr>\n",
              "      <th>450</th>\n",
              "      <td>451</td>\n",
              "      <td>Jim Beam</td>\n",
              "      <td>Jim Beam Black Bourbon Whiskey, 50 mL</td>\n",
              "      <td>2017-09-20T01:18:35Z</td>\n",
              "      <td>NaN</td>\n",
              "      <td>NaN</td>\n",
              "      <td>5.0</td>\n",
              "      <td>NaN</td>\n",
              "      <td>My favorite bourbon!</td>\n",
              "      <td>Exceptionally good flavor!</td>\n",
              "    </tr>\n",
              "    <tr>\n",
              "      <th>1403</th>\n",
              "      <td>1404</td>\n",
              "      <td>Great Value</td>\n",
              "      <td>Great Value Original Crescent Rolls, 8 oz</td>\n",
              "      <td>2017-09-02T07:55:36Z</td>\n",
              "      <td>True</td>\n",
              "      <td>0.0</td>\n",
              "      <td>5.0</td>\n",
              "      <td>NaN</td>\n",
              "      <td>Just as good as Pillsbury</td>\n",
              "      <td>Just as good as Pillsbury but better price</td>\n",
              "    </tr>\n",
              "  </tbody>\n",
              "</table>\n",
              "</div>\n",
              "      <button class=\"colab-df-convert\" onclick=\"convertToInteractive('df-fbcab693-5582-407b-918f-b0350fd97d15')\"\n",
              "              title=\"Convert this dataframe to an interactive table.\"\n",
              "              style=\"display:none;\">\n",
              "        \n",
              "  <svg xmlns=\"http://www.w3.org/2000/svg\" height=\"24px\"viewBox=\"0 0 24 24\"\n",
              "       width=\"24px\">\n",
              "    <path d=\"M0 0h24v24H0V0z\" fill=\"none\"/>\n",
              "    <path d=\"M18.56 5.44l.94 2.06.94-2.06 2.06-.94-2.06-.94-.94-2.06-.94 2.06-2.06.94zm-11 1L8.5 8.5l.94-2.06 2.06-.94-2.06-.94L8.5 2.5l-.94 2.06-2.06.94zm10 10l.94 2.06.94-2.06 2.06-.94-2.06-.94-.94-2.06-.94 2.06-2.06.94z\"/><path d=\"M17.41 7.96l-1.37-1.37c-.4-.4-.92-.59-1.43-.59-.52 0-1.04.2-1.43.59L10.3 9.45l-7.72 7.72c-.78.78-.78 2.05 0 2.83L4 21.41c.39.39.9.59 1.41.59.51 0 1.02-.2 1.41-.59l7.78-7.78 2.81-2.81c.8-.78.8-2.07 0-2.86zM5.41 20L4 18.59l7.72-7.72 1.47 1.35L5.41 20z\"/>\n",
              "  </svg>\n",
              "      </button>\n",
              "      \n",
              "  <style>\n",
              "    .colab-df-container {\n",
              "      display:flex;\n",
              "      flex-wrap:wrap;\n",
              "      gap: 12px;\n",
              "    }\n",
              "\n",
              "    .colab-df-convert {\n",
              "      background-color: #E8F0FE;\n",
              "      border: none;\n",
              "      border-radius: 50%;\n",
              "      cursor: pointer;\n",
              "      display: none;\n",
              "      fill: #1967D2;\n",
              "      height: 32px;\n",
              "      padding: 0 0 0 0;\n",
              "      width: 32px;\n",
              "    }\n",
              "\n",
              "    .colab-df-convert:hover {\n",
              "      background-color: #E2EBFA;\n",
              "      box-shadow: 0px 1px 2px rgba(60, 64, 67, 0.3), 0px 1px 3px 1px rgba(60, 64, 67, 0.15);\n",
              "      fill: #174EA6;\n",
              "    }\n",
              "\n",
              "    [theme=dark] .colab-df-convert {\n",
              "      background-color: #3B4455;\n",
              "      fill: #D2E3FC;\n",
              "    }\n",
              "\n",
              "    [theme=dark] .colab-df-convert:hover {\n",
              "      background-color: #434B5C;\n",
              "      box-shadow: 0px 1px 3px 1px rgba(0, 0, 0, 0.15);\n",
              "      filter: drop-shadow(0px 1px 2px rgba(0, 0, 0, 0.3));\n",
              "      fill: #FFFFFF;\n",
              "    }\n",
              "  </style>\n",
              "\n",
              "      <script>\n",
              "        const buttonEl =\n",
              "          document.querySelector('#df-fbcab693-5582-407b-918f-b0350fd97d15 button.colab-df-convert');\n",
              "        buttonEl.style.display =\n",
              "          google.colab.kernel.accessAllowed ? 'block' : 'none';\n",
              "\n",
              "        async function convertToInteractive(key) {\n",
              "          const element = document.querySelector('#df-fbcab693-5582-407b-918f-b0350fd97d15');\n",
              "          const dataTable =\n",
              "            await google.colab.kernel.invokeFunction('convertToInteractive',\n",
              "                                                     [key], {});\n",
              "          if (!dataTable) return;\n",
              "\n",
              "          const docLinkHtml = 'Like what you see? Visit the ' +\n",
              "            '<a target=\"_blank\" href=https://colab.research.google.com/notebooks/data_table.ipynb>data table notebook</a>'\n",
              "            + ' to learn more about interactive tables.';\n",
              "          element.innerHTML = '';\n",
              "          dataTable['output_type'] = 'display_data';\n",
              "          await google.colab.output.renderOutput(dataTable, element);\n",
              "          const docLink = document.createElement('div');\n",
              "          docLink.innerHTML = docLinkHtml;\n",
              "          element.appendChild(docLink);\n",
              "        }\n",
              "      </script>\n",
              "    </div>\n",
              "  </div>\n",
              "  "
            ]
          },
          "metadata": {},
          "execution_count": 6
        }
      ]
    },
    {
      "cell_type": "code",
      "source": [
        "# remove useless columns\n",
        "df.drop(\"Num\", axis=1, inplace=True)\n",
        "df.drop(\"Date\", axis=1, inplace=True)"
      ],
      "metadata": {
        "id": "2AiS9linDA-b"
      },
      "execution_count": 7,
      "outputs": []
    },
    {
      "cell_type": "code",
      "source": [
        "# reindex rows\n",
        "df.reset_index(drop=True, inplace=True)\n",
        "df.head(10)"
      ],
      "metadata": {
        "id": "5H4vyxXCbgt2",
        "colab": {
          "base_uri": "https://localhost:8080/",
          "height": 580
        },
        "outputId": "bfb8cccf-11e3-4ddf-bc8a-cde7e619c4f1"
      },
      "execution_count": 8,
      "outputs": [
        {
          "output_type": "execute_result",
          "data": {
            "text/plain": [
              "              Brand                                               Name  \\\n",
              "0             Gallo         Ecco Domani174 Pinot Grigio - 750ml Bottle   \n",
              "1   Fresh Craft Co.   Fresh Craft174 Mango Citrus - 4pk / 250ml Bottle   \n",
              "2      1000 Stories           1000 Stories174 Zinfandel - 750ml Bottle   \n",
              "3      1000 Stories           1000 Stories174 Zinfandel - 750ml Bottle   \n",
              "4      Wine Cube153            Pink Moscato - 3l Bottle - Wine Cube153   \n",
              "5         Beck's Na  Beck's174 Non Alcoholic Beer - 6pk / 12oz Bottles   \n",
              "6             Gallo                Apothic174 Red Blend - 750ml Bottle   \n",
              "7             Gallo                Apothic174 Red Blend - 750ml Bottle   \n",
              "8  California Roots        California Roots Moscato White Wine - 750ml   \n",
              "9   Charles Charles        Charles Charles174 Red Blend - 750ml Bottle   \n",
              "\n",
              "  Recommend  Helpful  Rating    Weight                          Review Title  \\\n",
              "0      True      1.0     5.0   1.0 lbs                My Favorite White Wine   \n",
              "1      True      NaN     5.0  2.45 lbs                                 Yum!!   \n",
              "2      True      NaN     5.0  3.09 lbs                       A New Favorite!   \n",
              "3      True      NaN     5.0  3.09 lbs  Bold, Flavorful, Aromatic, Delicious   \n",
              "4      True      1.0     5.0   1.0 lbs  Yum! Plus, Environmentally Friendly!   \n",
              "5      True      NaN     5.0   1.0 lbs                           Great Taste   \n",
              "6       NaN      1.0     3.0   1.0 lbs                      Simply Wonderful   \n",
              "7       NaN      1.0     2.0   1.0 lbs                          A Sweet Red.   \n",
              "8      True      0.0     5.0  2.65 lbs                                   NaN   \n",
              "9      True      NaN     5.0   1.0 lbs           Charles & Charles Red Blend   \n",
              "\n",
              "                                              Review  \n",
              "0      This a fantastic white wine for any occasion!  \n",
              "1   Tart, not sweet...very refreshing and delicious!  \n",
              "2  I was given this wine so it was a delightful s...  \n",
              "3  This is a phenomenal wine and my new favorite ...  \n",
              "4  4 750ml bottles for the price of two With way ...  \n",
              "5  I LOVE Becks NA. It tastes just like a regular...  \n",
              "6  This wine has a wonderful but strong aroma its...  \n",
              "7  I would give one more star if it came clean on...  \n",
              "8                      Delicious and very affordable  \n",
              "9  This is a very smooth red with Aromas of cocoa...  "
            ],
            "text/html": [
              "\n",
              "  <div id=\"df-4d6c88d1-9b3b-45a7-a01b-81c8df0f7d10\">\n",
              "    <div class=\"colab-df-container\">\n",
              "      <div>\n",
              "<style scoped>\n",
              "    .dataframe tbody tr th:only-of-type {\n",
              "        vertical-align: middle;\n",
              "    }\n",
              "\n",
              "    .dataframe tbody tr th {\n",
              "        vertical-align: top;\n",
              "    }\n",
              "\n",
              "    .dataframe thead th {\n",
              "        text-align: right;\n",
              "    }\n",
              "</style>\n",
              "<table border=\"1\" class=\"dataframe\">\n",
              "  <thead>\n",
              "    <tr style=\"text-align: right;\">\n",
              "      <th></th>\n",
              "      <th>Brand</th>\n",
              "      <th>Name</th>\n",
              "      <th>Recommend</th>\n",
              "      <th>Helpful</th>\n",
              "      <th>Rating</th>\n",
              "      <th>Weight</th>\n",
              "      <th>Review Title</th>\n",
              "      <th>Review</th>\n",
              "    </tr>\n",
              "  </thead>\n",
              "  <tbody>\n",
              "    <tr>\n",
              "      <th>0</th>\n",
              "      <td>Gallo</td>\n",
              "      <td>Ecco Domani174 Pinot Grigio - 750ml Bottle</td>\n",
              "      <td>True</td>\n",
              "      <td>1.0</td>\n",
              "      <td>5.0</td>\n",
              "      <td>1.0 lbs</td>\n",
              "      <td>My Favorite White Wine</td>\n",
              "      <td>This a fantastic white wine for any occasion!</td>\n",
              "    </tr>\n",
              "    <tr>\n",
              "      <th>1</th>\n",
              "      <td>Fresh Craft Co.</td>\n",
              "      <td>Fresh Craft174 Mango Citrus - 4pk / 250ml Bottle</td>\n",
              "      <td>True</td>\n",
              "      <td>NaN</td>\n",
              "      <td>5.0</td>\n",
              "      <td>2.45 lbs</td>\n",
              "      <td>Yum!!</td>\n",
              "      <td>Tart, not sweet...very refreshing and delicious!</td>\n",
              "    </tr>\n",
              "    <tr>\n",
              "      <th>2</th>\n",
              "      <td>1000 Stories</td>\n",
              "      <td>1000 Stories174 Zinfandel - 750ml Bottle</td>\n",
              "      <td>True</td>\n",
              "      <td>NaN</td>\n",
              "      <td>5.0</td>\n",
              "      <td>3.09 lbs</td>\n",
              "      <td>A New Favorite!</td>\n",
              "      <td>I was given this wine so it was a delightful s...</td>\n",
              "    </tr>\n",
              "    <tr>\n",
              "      <th>3</th>\n",
              "      <td>1000 Stories</td>\n",
              "      <td>1000 Stories174 Zinfandel - 750ml Bottle</td>\n",
              "      <td>True</td>\n",
              "      <td>NaN</td>\n",
              "      <td>5.0</td>\n",
              "      <td>3.09 lbs</td>\n",
              "      <td>Bold, Flavorful, Aromatic, Delicious</td>\n",
              "      <td>This is a phenomenal wine and my new favorite ...</td>\n",
              "    </tr>\n",
              "    <tr>\n",
              "      <th>4</th>\n",
              "      <td>Wine Cube153</td>\n",
              "      <td>Pink Moscato - 3l Bottle - Wine Cube153</td>\n",
              "      <td>True</td>\n",
              "      <td>1.0</td>\n",
              "      <td>5.0</td>\n",
              "      <td>1.0 lbs</td>\n",
              "      <td>Yum! Plus, Environmentally Friendly!</td>\n",
              "      <td>4 750ml bottles for the price of two With way ...</td>\n",
              "    </tr>\n",
              "    <tr>\n",
              "      <th>5</th>\n",
              "      <td>Beck's Na</td>\n",
              "      <td>Beck's174 Non Alcoholic Beer - 6pk / 12oz Bottles</td>\n",
              "      <td>True</td>\n",
              "      <td>NaN</td>\n",
              "      <td>5.0</td>\n",
              "      <td>1.0 lbs</td>\n",
              "      <td>Great Taste</td>\n",
              "      <td>I LOVE Becks NA. It tastes just like a regular...</td>\n",
              "    </tr>\n",
              "    <tr>\n",
              "      <th>6</th>\n",
              "      <td>Gallo</td>\n",
              "      <td>Apothic174 Red Blend - 750ml Bottle</td>\n",
              "      <td>NaN</td>\n",
              "      <td>1.0</td>\n",
              "      <td>3.0</td>\n",
              "      <td>1.0 lbs</td>\n",
              "      <td>Simply Wonderful</td>\n",
              "      <td>This wine has a wonderful but strong aroma its...</td>\n",
              "    </tr>\n",
              "    <tr>\n",
              "      <th>7</th>\n",
              "      <td>Gallo</td>\n",
              "      <td>Apothic174 Red Blend - 750ml Bottle</td>\n",
              "      <td>NaN</td>\n",
              "      <td>1.0</td>\n",
              "      <td>2.0</td>\n",
              "      <td>1.0 lbs</td>\n",
              "      <td>A Sweet Red.</td>\n",
              "      <td>I would give one more star if it came clean on...</td>\n",
              "    </tr>\n",
              "    <tr>\n",
              "      <th>8</th>\n",
              "      <td>California Roots</td>\n",
              "      <td>California Roots Moscato White Wine - 750ml</td>\n",
              "      <td>True</td>\n",
              "      <td>0.0</td>\n",
              "      <td>5.0</td>\n",
              "      <td>2.65 lbs</td>\n",
              "      <td>NaN</td>\n",
              "      <td>Delicious and very affordable</td>\n",
              "    </tr>\n",
              "    <tr>\n",
              "      <th>9</th>\n",
              "      <td>Charles Charles</td>\n",
              "      <td>Charles Charles174 Red Blend - 750ml Bottle</td>\n",
              "      <td>True</td>\n",
              "      <td>NaN</td>\n",
              "      <td>5.0</td>\n",
              "      <td>1.0 lbs</td>\n",
              "      <td>Charles &amp; Charles Red Blend</td>\n",
              "      <td>This is a very smooth red with Aromas of cocoa...</td>\n",
              "    </tr>\n",
              "  </tbody>\n",
              "</table>\n",
              "</div>\n",
              "      <button class=\"colab-df-convert\" onclick=\"convertToInteractive('df-4d6c88d1-9b3b-45a7-a01b-81c8df0f7d10')\"\n",
              "              title=\"Convert this dataframe to an interactive table.\"\n",
              "              style=\"display:none;\">\n",
              "        \n",
              "  <svg xmlns=\"http://www.w3.org/2000/svg\" height=\"24px\"viewBox=\"0 0 24 24\"\n",
              "       width=\"24px\">\n",
              "    <path d=\"M0 0h24v24H0V0z\" fill=\"none\"/>\n",
              "    <path d=\"M18.56 5.44l.94 2.06.94-2.06 2.06-.94-2.06-.94-.94-2.06-.94 2.06-2.06.94zm-11 1L8.5 8.5l.94-2.06 2.06-.94-2.06-.94L8.5 2.5l-.94 2.06-2.06.94zm10 10l.94 2.06.94-2.06 2.06-.94-2.06-.94-.94-2.06-.94 2.06-2.06.94z\"/><path d=\"M17.41 7.96l-1.37-1.37c-.4-.4-.92-.59-1.43-.59-.52 0-1.04.2-1.43.59L10.3 9.45l-7.72 7.72c-.78.78-.78 2.05 0 2.83L4 21.41c.39.39.9.59 1.41.59.51 0 1.02-.2 1.41-.59l7.78-7.78 2.81-2.81c.8-.78.8-2.07 0-2.86zM5.41 20L4 18.59l7.72-7.72 1.47 1.35L5.41 20z\"/>\n",
              "  </svg>\n",
              "      </button>\n",
              "      \n",
              "  <style>\n",
              "    .colab-df-container {\n",
              "      display:flex;\n",
              "      flex-wrap:wrap;\n",
              "      gap: 12px;\n",
              "    }\n",
              "\n",
              "    .colab-df-convert {\n",
              "      background-color: #E8F0FE;\n",
              "      border: none;\n",
              "      border-radius: 50%;\n",
              "      cursor: pointer;\n",
              "      display: none;\n",
              "      fill: #1967D2;\n",
              "      height: 32px;\n",
              "      padding: 0 0 0 0;\n",
              "      width: 32px;\n",
              "    }\n",
              "\n",
              "    .colab-df-convert:hover {\n",
              "      background-color: #E2EBFA;\n",
              "      box-shadow: 0px 1px 2px rgba(60, 64, 67, 0.3), 0px 1px 3px 1px rgba(60, 64, 67, 0.15);\n",
              "      fill: #174EA6;\n",
              "    }\n",
              "\n",
              "    [theme=dark] .colab-df-convert {\n",
              "      background-color: #3B4455;\n",
              "      fill: #D2E3FC;\n",
              "    }\n",
              "\n",
              "    [theme=dark] .colab-df-convert:hover {\n",
              "      background-color: #434B5C;\n",
              "      box-shadow: 0px 1px 3px 1px rgba(0, 0, 0, 0.15);\n",
              "      filter: drop-shadow(0px 1px 2px rgba(0, 0, 0, 0.3));\n",
              "      fill: #FFFFFF;\n",
              "    }\n",
              "  </style>\n",
              "\n",
              "      <script>\n",
              "        const buttonEl =\n",
              "          document.querySelector('#df-4d6c88d1-9b3b-45a7-a01b-81c8df0f7d10 button.colab-df-convert');\n",
              "        buttonEl.style.display =\n",
              "          google.colab.kernel.accessAllowed ? 'block' : 'none';\n",
              "\n",
              "        async function convertToInteractive(key) {\n",
              "          const element = document.querySelector('#df-4d6c88d1-9b3b-45a7-a01b-81c8df0f7d10');\n",
              "          const dataTable =\n",
              "            await google.colab.kernel.invokeFunction('convertToInteractive',\n",
              "                                                     [key], {});\n",
              "          if (!dataTable) return;\n",
              "\n",
              "          const docLinkHtml = 'Like what you see? Visit the ' +\n",
              "            '<a target=\"_blank\" href=https://colab.research.google.com/notebooks/data_table.ipynb>data table notebook</a>'\n",
              "            + ' to learn more about interactive tables.';\n",
              "          element.innerHTML = '';\n",
              "          dataTable['output_type'] = 'display_data';\n",
              "          await google.colab.output.renderOutput(dataTable, element);\n",
              "          const docLink = document.createElement('div');\n",
              "          docLink.innerHTML = docLinkHtml;\n",
              "          element.appendChild(docLink);\n",
              "        }\n",
              "      </script>\n",
              "    </div>\n",
              "  </div>\n",
              "  "
            ]
          },
          "metadata": {},
          "execution_count": 8
        }
      ]
    },
    {
      "cell_type": "code",
      "source": [
        "# check for total amount of null values in each column\n",
        "print(df.isnull().sum())"
      ],
      "metadata": {
        "id": "Q7ZAX3-RGAOO",
        "colab": {
          "base_uri": "https://localhost:8080/"
        },
        "outputId": "66c021b9-3aee-41c6-91a7-e29fd3931132"
      },
      "execution_count": 9,
      "outputs": [
        {
          "output_type": "stream",
          "name": "stdout",
          "text": [
            "Brand             65\n",
            "Name               0\n",
            "Recommend        979\n",
            "Helpful         2264\n",
            "Rating           445\n",
            "Weight          1894\n",
            "Review Title      44\n",
            "Review             1\n",
            "dtype: int64\n"
          ]
        }
      ]
    },
    {
      "cell_type": "code",
      "source": [
        "# remove all rows that have no ratings or recommendations\n",
        "df = df.dropna(subset=['Rating'])\n",
        "df = df.dropna(subset=['Recommend'])\n",
        "df.isnull().sum()"
      ],
      "metadata": {
        "id": "E9Pkbdj-IVA_",
        "colab": {
          "base_uri": "https://localhost:8080/"
        },
        "outputId": "bca5921d-247c-4611-b1b9-73a1b120b8cc"
      },
      "execution_count": 10,
      "outputs": [
        {
          "output_type": "execute_result",
          "data": {
            "text/plain": [
              "Brand              0\n",
              "Name               0\n",
              "Recommend          0\n",
              "Helpful         1170\n",
              "Rating             0\n",
              "Weight          1392\n",
              "Review Title      10\n",
              "Review             0\n",
              "dtype: int64"
            ]
          },
          "metadata": {},
          "execution_count": 10
        }
      ]
    },
    {
      "cell_type": "code",
      "source": [
        "# check the all possible ratings from 1 to 5 are used\n",
        "np.unique(df['Rating'])"
      ],
      "metadata": {
        "id": "yJIJNlkkKqkV",
        "colab": {
          "base_uri": "https://localhost:8080/"
        },
        "outputId": "c2c73253-6a20-4324-8c5d-1f20fb991fce"
      },
      "execution_count": 11,
      "outputs": [
        {
          "output_type": "execute_result",
          "data": {
            "text/plain": [
              "array([1., 2., 3., 4., 5.])"
            ]
          },
          "metadata": {},
          "execution_count": 11
        }
      ]
    },
    {
      "cell_type": "code",
      "source": [
        "df.info()"
      ],
      "metadata": {
        "id": "FOC26UJ1BgCr",
        "colab": {
          "base_uri": "https://localhost:8080/"
        },
        "outputId": "34a7267b-1ce8-4468-cd7e-1c673044e661"
      },
      "execution_count": 12,
      "outputs": [
        {
          "output_type": "stream",
          "name": "stdout",
          "text": [
            "<class 'pandas.core.frame.DataFrame'>\n",
            "Int64Index: 1748 entries, 0 to 2815\n",
            "Data columns (total 8 columns):\n",
            " #   Column        Non-Null Count  Dtype  \n",
            "---  ------        --------------  -----  \n",
            " 0   Brand         1748 non-null   object \n",
            " 1   Name          1748 non-null   object \n",
            " 2   Recommend     1748 non-null   object \n",
            " 3   Helpful       578 non-null    float64\n",
            " 4   Rating        1748 non-null   float64\n",
            " 5   Weight        356 non-null    object \n",
            " 6   Review Title  1738 non-null   object \n",
            " 7   Review        1748 non-null   object \n",
            "dtypes: float64(2), object(6)\n",
            "memory usage: 122.9+ KB\n"
          ]
        }
      ]
    },
    {
      "cell_type": "code",
      "source": [
        "# change data type of \"Rating\" from float to integer\n",
        "df['Rating'] = df['Rating'].astype(int)\n",
        "\n",
        "# change data type of \"Recommend\" from object to integer\n",
        "# \"True\" = 1, \"False\" = 0\n",
        "df[\"Recommend\"] = df[\"Recommend\"].astype(int)\n",
        "\n",
        "# check data types again\n",
        "df.info()"
      ],
      "metadata": {
        "id": "55B7BhBBL4VK",
        "colab": {
          "base_uri": "https://localhost:8080/"
        },
        "outputId": "f823da0d-ab4f-400e-ab16-6f239567d398"
      },
      "execution_count": 13,
      "outputs": [
        {
          "output_type": "stream",
          "name": "stdout",
          "text": [
            "<class 'pandas.core.frame.DataFrame'>\n",
            "Int64Index: 1748 entries, 0 to 2815\n",
            "Data columns (total 8 columns):\n",
            " #   Column        Non-Null Count  Dtype  \n",
            "---  ------        --------------  -----  \n",
            " 0   Brand         1748 non-null   object \n",
            " 1   Name          1748 non-null   object \n",
            " 2   Recommend     1748 non-null   int64  \n",
            " 3   Helpful       578 non-null    float64\n",
            " 4   Rating        1748 non-null   int64  \n",
            " 5   Weight        356 non-null    object \n",
            " 6   Review Title  1738 non-null   object \n",
            " 7   Review        1748 non-null   object \n",
            "dtypes: float64(1), int64(2), object(5)\n",
            "memory usage: 122.9+ KB\n"
          ]
        }
      ]
    },
    {
      "cell_type": "code",
      "source": [
        "# inspect correlation between numeric features\n",
        "df.corr()"
      ],
      "metadata": {
        "id": "72OEXXdrb6EF",
        "colab": {
          "base_uri": "https://localhost:8080/",
          "height": 143
        },
        "outputId": "de056cbd-ecae-4650-c569-c54e488cdfb7"
      },
      "execution_count": 14,
      "outputs": [
        {
          "output_type": "execute_result",
          "data": {
            "text/plain": [
              "           Recommend   Helpful    Rating\n",
              "Recommend   1.000000  0.042670  0.767292\n",
              "Helpful     0.042670  1.000000  0.024891\n",
              "Rating      0.767292  0.024891  1.000000"
            ],
            "text/html": [
              "\n",
              "  <div id=\"df-de382b0e-c8ca-4468-8387-45c1b335f20e\">\n",
              "    <div class=\"colab-df-container\">\n",
              "      <div>\n",
              "<style scoped>\n",
              "    .dataframe tbody tr th:only-of-type {\n",
              "        vertical-align: middle;\n",
              "    }\n",
              "\n",
              "    .dataframe tbody tr th {\n",
              "        vertical-align: top;\n",
              "    }\n",
              "\n",
              "    .dataframe thead th {\n",
              "        text-align: right;\n",
              "    }\n",
              "</style>\n",
              "<table border=\"1\" class=\"dataframe\">\n",
              "  <thead>\n",
              "    <tr style=\"text-align: right;\">\n",
              "      <th></th>\n",
              "      <th>Recommend</th>\n",
              "      <th>Helpful</th>\n",
              "      <th>Rating</th>\n",
              "    </tr>\n",
              "  </thead>\n",
              "  <tbody>\n",
              "    <tr>\n",
              "      <th>Recommend</th>\n",
              "      <td>1.000000</td>\n",
              "      <td>0.042670</td>\n",
              "      <td>0.767292</td>\n",
              "    </tr>\n",
              "    <tr>\n",
              "      <th>Helpful</th>\n",
              "      <td>0.042670</td>\n",
              "      <td>1.000000</td>\n",
              "      <td>0.024891</td>\n",
              "    </tr>\n",
              "    <tr>\n",
              "      <th>Rating</th>\n",
              "      <td>0.767292</td>\n",
              "      <td>0.024891</td>\n",
              "      <td>1.000000</td>\n",
              "    </tr>\n",
              "  </tbody>\n",
              "</table>\n",
              "</div>\n",
              "      <button class=\"colab-df-convert\" onclick=\"convertToInteractive('df-de382b0e-c8ca-4468-8387-45c1b335f20e')\"\n",
              "              title=\"Convert this dataframe to an interactive table.\"\n",
              "              style=\"display:none;\">\n",
              "        \n",
              "  <svg xmlns=\"http://www.w3.org/2000/svg\" height=\"24px\"viewBox=\"0 0 24 24\"\n",
              "       width=\"24px\">\n",
              "    <path d=\"M0 0h24v24H0V0z\" fill=\"none\"/>\n",
              "    <path d=\"M18.56 5.44l.94 2.06.94-2.06 2.06-.94-2.06-.94-.94-2.06-.94 2.06-2.06.94zm-11 1L8.5 8.5l.94-2.06 2.06-.94-2.06-.94L8.5 2.5l-.94 2.06-2.06.94zm10 10l.94 2.06.94-2.06 2.06-.94-2.06-.94-.94-2.06-.94 2.06-2.06.94z\"/><path d=\"M17.41 7.96l-1.37-1.37c-.4-.4-.92-.59-1.43-.59-.52 0-1.04.2-1.43.59L10.3 9.45l-7.72 7.72c-.78.78-.78 2.05 0 2.83L4 21.41c.39.39.9.59 1.41.59.51 0 1.02-.2 1.41-.59l7.78-7.78 2.81-2.81c.8-.78.8-2.07 0-2.86zM5.41 20L4 18.59l7.72-7.72 1.47 1.35L5.41 20z\"/>\n",
              "  </svg>\n",
              "      </button>\n",
              "      \n",
              "  <style>\n",
              "    .colab-df-container {\n",
              "      display:flex;\n",
              "      flex-wrap:wrap;\n",
              "      gap: 12px;\n",
              "    }\n",
              "\n",
              "    .colab-df-convert {\n",
              "      background-color: #E8F0FE;\n",
              "      border: none;\n",
              "      border-radius: 50%;\n",
              "      cursor: pointer;\n",
              "      display: none;\n",
              "      fill: #1967D2;\n",
              "      height: 32px;\n",
              "      padding: 0 0 0 0;\n",
              "      width: 32px;\n",
              "    }\n",
              "\n",
              "    .colab-df-convert:hover {\n",
              "      background-color: #E2EBFA;\n",
              "      box-shadow: 0px 1px 2px rgba(60, 64, 67, 0.3), 0px 1px 3px 1px rgba(60, 64, 67, 0.15);\n",
              "      fill: #174EA6;\n",
              "    }\n",
              "\n",
              "    [theme=dark] .colab-df-convert {\n",
              "      background-color: #3B4455;\n",
              "      fill: #D2E3FC;\n",
              "    }\n",
              "\n",
              "    [theme=dark] .colab-df-convert:hover {\n",
              "      background-color: #434B5C;\n",
              "      box-shadow: 0px 1px 3px 1px rgba(0, 0, 0, 0.15);\n",
              "      filter: drop-shadow(0px 1px 2px rgba(0, 0, 0, 0.3));\n",
              "      fill: #FFFFFF;\n",
              "    }\n",
              "  </style>\n",
              "\n",
              "      <script>\n",
              "        const buttonEl =\n",
              "          document.querySelector('#df-de382b0e-c8ca-4468-8387-45c1b335f20e button.colab-df-convert');\n",
              "        buttonEl.style.display =\n",
              "          google.colab.kernel.accessAllowed ? 'block' : 'none';\n",
              "\n",
              "        async function convertToInteractive(key) {\n",
              "          const element = document.querySelector('#df-de382b0e-c8ca-4468-8387-45c1b335f20e');\n",
              "          const dataTable =\n",
              "            await google.colab.kernel.invokeFunction('convertToInteractive',\n",
              "                                                     [key], {});\n",
              "          if (!dataTable) return;\n",
              "\n",
              "          const docLinkHtml = 'Like what you see? Visit the ' +\n",
              "            '<a target=\"_blank\" href=https://colab.research.google.com/notebooks/data_table.ipynb>data table notebook</a>'\n",
              "            + ' to learn more about interactive tables.';\n",
              "          element.innerHTML = '';\n",
              "          dataTable['output_type'] = 'display_data';\n",
              "          await google.colab.output.renderOutput(dataTable, element);\n",
              "          const docLink = document.createElement('div');\n",
              "          docLink.innerHTML = docLinkHtml;\n",
              "          element.appendChild(docLink);\n",
              "        }\n",
              "      </script>\n",
              "    </div>\n",
              "  </div>\n",
              "  "
            ]
          },
          "metadata": {},
          "execution_count": 14
        }
      ]
    },
    {
      "cell_type": "markdown",
      "source": [
        "- There is a weak positive correlation between recommend and helpful. Reviews that were voted helpful tend to be about alcohol that reviewers recommend to others.\n",
        "- There is a strong positive correlation between recommend and rating. The higher the rating/quality of the alcohol, then then the more likely that the reviewer would recommend it.\n",
        "- There is a very weak positive correlation between helpful and rating. Alcohol that was voted helpful tend to have slightly higher ratings than reviews not considered helpful."
      ],
      "metadata": {
        "id": "hJSUEBotcmi0"
      }
    },
    {
      "cell_type": "code",
      "source": [
        "# check for duplicated reviews\n",
        "df['Review'].duplicated().sum()"
      ],
      "metadata": {
        "id": "Y4Ggih8XF42P",
        "colab": {
          "base_uri": "https://localhost:8080/"
        },
        "outputId": "7471f033-2db9-4bfd-88a8-5a0adef0ff3e"
      },
      "execution_count": 15,
      "outputs": [
        {
          "output_type": "execute_result",
          "data": {
            "text/plain": [
              "13"
            ]
          },
          "metadata": {},
          "execution_count": 15
        }
      ]
    },
    {
      "cell_type": "code",
      "source": [
        "# remove duplicated reviews\n",
        "df['Review'].drop_duplicates()"
      ],
      "metadata": {
        "id": "U1QKOX4uF-UU",
        "colab": {
          "base_uri": "https://localhost:8080/"
        },
        "outputId": "f313a600-4920-4e8a-c74b-28a2d31fc1ec"
      },
      "execution_count": 16,
      "outputs": [
        {
          "output_type": "execute_result",
          "data": {
            "text/plain": [
              "0           This a fantastic white wine for any occasion!\n",
              "1        Tart, not sweet...very refreshing and delicious!\n",
              "2       I was given this wine so it was a delightful s...\n",
              "3       This is a phenomenal wine and my new favorite ...\n",
              "4       4 750ml bottles for the price of two With way ...\n",
              "                              ...                        \n",
              "2811    My kids love them. So no complaints but I'm su...\n",
              "2812    Easy and quick to serve, brings a smile to the...\n",
              "2813                         Worked great kids loved them\n",
              "2814    Walmart used to carry a Swiss water decaf coff...\n",
              "2815    Great decaf coffee using Swiss water process. ...\n",
              "Name: Review, Length: 1735, dtype: object"
            ]
          },
          "metadata": {},
          "execution_count": 16
        }
      ]
    },
    {
      "cell_type": "code",
      "source": [
        "# clean text in reviews with natural language toolkit\n",
        "!pip install nltk\n",
        "import nltk\n",
        "\n",
        "# define stopwords to remove\n",
        "from nltk.corpus import stopwords\n",
        "nltk.download('punkt')\n",
        "nltk.download('stopwords')\n",
        "stopwords = set(stopwords.words(\"english\"))"
      ],
      "metadata": {
        "id": "PupCwDbIoOpi",
        "colab": {
          "base_uri": "https://localhost:8080/"
        },
        "outputId": "a201a133-2488-4ae7-9b99-e581b01f929b"
      },
      "execution_count": 17,
      "outputs": [
        {
          "output_type": "stream",
          "name": "stdout",
          "text": [
            "Looking in indexes: https://pypi.org/simple, https://us-python.pkg.dev/colab-wheels/public/simple/\n",
            "Requirement already satisfied: nltk in /usr/local/lib/python3.8/dist-packages (3.7)\n",
            "Requirement already satisfied: tqdm in /usr/local/lib/python3.8/dist-packages (from nltk) (4.64.1)\n",
            "Requirement already satisfied: regex>=2021.8.3 in /usr/local/lib/python3.8/dist-packages (from nltk) (2022.6.2)\n",
            "Requirement already satisfied: joblib in /usr/local/lib/python3.8/dist-packages (from nltk) (1.2.0)\n",
            "Requirement already satisfied: click in /usr/local/lib/python3.8/dist-packages (from nltk) (7.1.2)\n"
          ]
        },
        {
          "output_type": "stream",
          "name": "stderr",
          "text": [
            "[nltk_data] Downloading package punkt to /root/nltk_data...\n",
            "[nltk_data]   Unzipping tokenizers/punkt.zip.\n",
            "[nltk_data] Downloading package stopwords to /root/nltk_data...\n",
            "[nltk_data]   Unzipping corpora/stopwords.zip.\n"
          ]
        }
      ]
    },
    {
      "cell_type": "code",
      "source": [
        "# tokenize text with regex before cleaning\n",
        "from nltk import word_tokenize\n",
        "from nltk.tokenize.treebank import TreebankWordDetokenizer\n",
        "token = TreebankWordDetokenizer()\n",
        "\n",
        "def clean(w):\n",
        "    w = word_tokenize(w.lower()) # turn all token words lowercase\n",
        "    w = [token for token in w if token not in stopwords and token.isalpha()] # remove stopwords and non-words (punctuation, numbers, etc.)\n",
        "    return token.detokenize(w)\n",
        "\n",
        "df[\"Clean_Reviews\"] = df[\"Review\"].apply(clean)"
      ],
      "metadata": {
        "id": "NzYNfnTejmJV"
      },
      "execution_count": 18,
      "outputs": []
    },
    {
      "cell_type": "code",
      "source": [
        "# check to make sure the reviews were cleaned correctly\n",
        "df[\"Clean_Reviews\"].sample(10)"
      ],
      "metadata": {
        "id": "-Yj3GOHztCI7",
        "colab": {
          "base_uri": "https://localhost:8080/"
        },
        "outputId": "e7b8cc98-a5e0-4af0-e80a-f6e3fa345da4"
      },
      "execution_count": 19,
      "outputs": [
        {
          "output_type": "execute_result",
          "data": {
            "text/plain": [
              "1596    prefer purchase store individually whatever ne...\n",
              "477                             best bloody mary mix ever\n",
              "2364    started using carmex cna brand count heal supp...\n",
              "2061    using carmex yrs still always keep jar purse t...\n",
              "2226    started applying four times day honestly great...\n",
              "2373    buy carmex tub becuase mother always wood open...\n",
              "829                                              favorite\n",
              "1980    use many year really work dry lips light burn ...\n",
              "1994    always go back carmex original lip balm jar li...\n",
              "2585    using carmex original lip balm jar since child...\n",
              "Name: Clean_Reviews, dtype: object"
            ]
          },
          "metadata": {},
          "execution_count": 19
        }
      ]
    },
    {
      "cell_type": "markdown",
      "source": [
        "# Neural Network Algorithm - Deep Model"
      ],
      "metadata": {
        "id": "eyTXVRRGf-t8"
      }
    },
    {
      "cell_type": "markdown",
      "source": [
        "### Preprocessing"
      ],
      "metadata": {
        "id": "UST9kQW_f-t9"
      }
    },
    {
      "cell_type": "code",
      "source": [
        "# split dataset 40% test, 60% train\n",
        "y = df[\"Rating\"].values\n",
        "words = df[\"Clean_Reviews\"].values\n",
        "\n",
        "x_train, x_test, y_train, y_test = train_test_split(words, y, test_size=0.4, shuffle=True, random_state=42)"
      ],
      "metadata": {
        "id": "77iLLy7jf-t9"
      },
      "execution_count": 20,
      "outputs": []
    },
    {
      "cell_type": "code",
      "source": [
        "# examine a random dictionary entry\n",
        "print(\"Review:\", x_train[2])\n",
        "print(\"Rating:\", y_train[2])"
      ],
      "metadata": {
        "colab": {
          "base_uri": "https://localhost:8080/"
        },
        "outputId": "50c69333-edb0-405e-8f87-57b8de8c3dfa",
        "id": "LICtu_WMf-t9"
      },
      "execution_count": 21,
      "outputs": [
        {
          "output_type": "stream",
          "name": "stdout",
          "text": [
            "Review: price incredible delivery service better could hoped\n",
            "Rating: 5\n"
          ]
        }
      ]
    },
    {
      "cell_type": "code",
      "source": [
        "# tokenize the reviews to vectorize each word as an integer\n",
        "from keras.preprocessing.text import Tokenizer\n",
        "\n",
        "# limit vocabularly index to the most common 5000 words\n",
        "tokenizer = Tokenizer(num_words=5000)\n",
        "# create vocab index based on word frequency\n",
        "tokenizer.fit_on_texts(x_train)\n",
        "# apply limited vocab to train and test\n",
        "x_train = tokenizer.texts_to_sequences(x_train)\n",
        "x_test = tokenizer.texts_to_sequences(x_test)"
      ],
      "metadata": {
        "id": "qT9XBoq9f-t9"
      },
      "execution_count": 22,
      "outputs": []
    },
    {
      "cell_type": "code",
      "source": [
        "# examine a random dictionary entry\n",
        "print(\"Encoded Review:\", x_train[2])\n",
        "print(\"Rating:\", y_train[2])"
      ],
      "metadata": {
        "colab": {
          "base_uri": "https://localhost:8080/"
        },
        "outputId": "299aa5d2-f378-46d7-831b-bbfe40d5646f",
        "id": "jPQjl2bFf-t9"
      },
      "execution_count": 23,
      "outputs": [
        {
          "output_type": "stream",
          "name": "stdout",
          "text": [
            "Encoded Review: [50, 717, 427, 953, 58, 90, 954]\n",
            "Rating: 5\n"
          ]
        }
      ]
    },
    {
      "cell_type": "code",
      "source": [
        "# re-vectorize reviews into sparse 2D nummpy array, with many zeros in the data\n",
        "# convert the reviews into a matrix, one review per row and one column per word\n",
        "def vectorize_sequences(sequences, dimension=10000):\n",
        "    results = np.zeros((len(sequences), dimension))\n",
        "    for i, sequence in enumerate(sequences):\n",
        "        results[i, sequence] = 1.\n",
        "    return results\n",
        "\n",
        "num_words=5000\n",
        "x_train = vectorize_sequences(x_train, dimension=num_words)\n",
        "x_test = vectorize_sequences(x_test, dimension=num_words)\n",
        "\n",
        "print(x_train.shape)\n",
        "print(x_test.shape)"
      ],
      "metadata": {
        "colab": {
          "base_uri": "https://localhost:8080/"
        },
        "outputId": "d7a3dbba-fbc4-4050-a60c-56ca708b34c3",
        "id": "fv22yQfNf-t9"
      },
      "execution_count": 24,
      "outputs": [
        {
          "output_type": "stream",
          "name": "stdout",
          "text": [
            "(1048, 5000)\n",
            "(700, 5000)\n"
          ]
        }
      ]
    },
    {
      "cell_type": "code",
      "source": [
        "print(y_train[:15])\n",
        "print(y_test[:15])"
      ],
      "metadata": {
        "colab": {
          "base_uri": "https://localhost:8080/"
        },
        "outputId": "eeb7b4da-fca3-4edb-9537-7fdf0fa9c31e",
        "id": "IODJZEVXf-t9"
      },
      "execution_count": 25,
      "outputs": [
        {
          "output_type": "stream",
          "name": "stdout",
          "text": [
            "[5 5 5 5 5 5 1 5 5 5 5 5 5 5 5]\n",
            "[4 5 4 5 4 5 4 4 5 5 5 5 5 5 5]\n"
          ]
        }
      ]
    },
    {
      "cell_type": "code",
      "source": [
        "from collections import Counter\n",
        "cnt = Counter(list(y_train))\n",
        "num_classes = 5\n",
        "cnt.most_common(num_classes)"
      ],
      "metadata": {
        "colab": {
          "base_uri": "https://localhost:8080/"
        },
        "outputId": "e5e7e514-05e0-4a01-9f42-4e0a6b20fb01",
        "id": "dTivtGxJf-t9"
      },
      "execution_count": 26,
      "outputs": [
        {
          "output_type": "execute_result",
          "data": {
            "text/plain": [
              "[(5, 900), (4, 90), (3, 24), (1, 23), (2, 11)]"
            ]
          },
          "metadata": {},
          "execution_count": 26
        }
      ]
    },
    {
      "cell_type": "code",
      "source": [
        "selected_labels = sorted(set([i[0] for i in cnt.most_common(num_classes)]))\n",
        "selected_labels"
      ],
      "metadata": {
        "colab": {
          "base_uri": "https://localhost:8080/"
        },
        "outputId": "67e06745-a73e-43f9-a335-6bf9b8dcdda5",
        "id": "M45nAzhkf-t-"
      },
      "execution_count": 27,
      "outputs": [
        {
          "output_type": "execute_result",
          "data": {
            "text/plain": [
              "[1, 2, 3, 4, 5]"
            ]
          },
          "metadata": {},
          "execution_count": 27
        }
      ]
    },
    {
      "cell_type": "code",
      "source": [
        "train_mask = [True if l in selected_labels else False for l in y_train]\n",
        "x_train = x_train[train_mask, :]\n",
        "y_train = y_train[train_mask]\n",
        "y_train = np.array([selected_labels.index(i) for i in y_train]) # reindex\n",
        "\n",
        "test_mask = [True if l in selected_labels else False for l in y_test]\n",
        "x_test= x_test[test_mask, :]\n",
        "y_test = y_test[test_mask]\n",
        "y_test = np.array([selected_labels.index(i) for i in y_test]) # reindex\n",
        "\n",
        "print(x_train.shape)\n",
        "print(x_test.shape)\n",
        "print(y_train.shape)\n",
        "print(y_test.shape)"
      ],
      "metadata": {
        "colab": {
          "base_uri": "https://localhost:8080/"
        },
        "outputId": "393dc01c-72fd-4997-f857-2c5e35ac5fc4",
        "id": "r5u5Z66Pf-t-"
      },
      "execution_count": 28,
      "outputs": [
        {
          "output_type": "stream",
          "name": "stdout",
          "text": [
            "(1048, 5000)\n",
            "(700, 5000)\n",
            "(1048,)\n",
            "(700,)\n"
          ]
        }
      ]
    },
    {
      "cell_type": "code",
      "source": [
        "# split training data into 40% train and 60% dev\n",
        "x_train, x_dev, y_train, y_dev = train_test_split(x_train, y_train, test_size=0.4, random_state=42)\n",
        "print(y_train.shape)\n",
        "print(x_train.shape)\n",
        "print(x_dev.shape)\n",
        "print(y_dev.shape)"
      ],
      "metadata": {
        "colab": {
          "base_uri": "https://localhost:8080/"
        },
        "outputId": "354ff338-ec4b-4f6e-809b-66f6045bda10",
        "id": "7x-audOvf-t-"
      },
      "execution_count": 29,
      "outputs": [
        {
          "output_type": "stream",
          "name": "stdout",
          "text": [
            "(628,)\n",
            "(628, 5000)\n",
            "(420, 5000)\n",
            "(420,)\n"
          ]
        }
      ]
    },
    {
      "cell_type": "code",
      "source": [
        "# convert numpy array into PyTorch format\n",
        "\n",
        "# 1) define function\n",
        "def np2iter(x, y, shuffle=True):\n",
        "  x = torch.tensor(x, dtype=torch.float)\n",
        "  y = torch.tensor(y, dtype=torch.long)\n",
        "  print(x.shape)\n",
        "  print(y.shape)\n",
        "  print(\"----------------------\")\n",
        "\n",
        "  ds = torch.utils.data.TensorDataset(x, y)\n",
        "  return torch.utils.data.DataLoader(ds, batch_size=32, shuffle=shuffle)\n",
        "\n",
        "# 2) convert data\n",
        "train_iter = np2iter(x_train, y_train, shuffle=True) # DO shuffle train\n",
        "dev_iter =  np2iter(x_dev, y_dev, shuffle=False) # do NOT shuffle dev or test\n",
        "test_iter =  np2iter(x_test, y_test, shuffle=False)"
      ],
      "metadata": {
        "colab": {
          "base_uri": "https://localhost:8080/"
        },
        "outputId": "4796d28e-c53f-4cc5-f88f-8f655fb5ef2c",
        "id": "qZTbVwmtf-t-"
      },
      "execution_count": 30,
      "outputs": [
        {
          "output_type": "stream",
          "name": "stdout",
          "text": [
            "torch.Size([628, 5000])\n",
            "torch.Size([628])\n",
            "----------------------\n",
            "torch.Size([420, 5000])\n",
            "torch.Size([420])\n",
            "----------------------\n",
            "torch.Size([700, 5000])\n",
            "torch.Size([700])\n",
            "----------------------\n"
          ]
        }
      ]
    },
    {
      "cell_type": "code",
      "source": [
        "# defining accuracy\n",
        "def val_acc(y_pred, y_test): # define accuracy\n",
        "  y_pred = np.argmax(y_pred, axis=1)\n",
        "  return accuracy_score(y_pred=y_pred, y_true=y_test)"
      ],
      "metadata": {
        "id": "Uy56nWszf-t-"
      },
      "execution_count": 31,
      "outputs": []
    },
    {
      "cell_type": "markdown",
      "source": [
        "## Model"
      ],
      "metadata": {
        "id": "RySLkWAMLnbE"
      }
    },
    {
      "cell_type": "code",
      "source": [
        "# define deep model\n",
        "num_words = 5000\n",
        "\n",
        "class DeepModel(nn.Module):\n",
        "  def __init__(self):\n",
        "    super(DeepModel, self).__init__()\n",
        "    # nn.sequential executes the following layers one by one, from linear layer to rectified layer unit\n",
        "    self.layer = nn.Sequential(nn.Linear(in_features=num_words, out_features=30), \n",
        "                                nn.Dropout(p=0.33),\n",
        "                                nn.ReLU(),\n",
        "                                nn.Linear(in_features=30, out_features=30),\n",
        "                                nn.Dropout(p=0.33),\n",
        "                                nn.ReLU(),\n",
        "                                nn.Linear(in_features=30, out_features=5))\n",
        "\n",
        "    \n",
        "  # feed the model the input and apply the linear layer to get the output\n",
        "  def forward(self, x):\n",
        "    return self.layer(x)"
      ],
      "metadata": {
        "id": "YKDbXb4-g3tH"
      },
      "execution_count": 32,
      "outputs": []
    },
    {
      "cell_type": "code",
      "source": [
        "classification_model = DeepModel()\n",
        "classification_model = classification_model.cuda()"
      ],
      "metadata": {
        "id": "5U5BYKJAhFYC"
      },
      "execution_count": 33,
      "outputs": []
    },
    {
      "cell_type": "code",
      "source": [
        "history = utils.train(model=classification_model,\n",
        "                            loss=nn.CrossEntropyLoss(),\n",
        "                            val_metrics={\"cls\": nn.CrossEntropyLoss(), \"acc\": val_acc}, \n",
        "                            optimizer=torch.optim.SGD(classification_model.parameters(), lr=0.01),\n",
        "                            train_ds=train_iter, \n",
        "                            dev_ds=dev_iter,\n",
        "                            num_epochs=200,\n",
        "                            early_stopper=utils.EarlyStopper(metric_name=\"cls\", patience=5))"
      ],
      "metadata": {
        "id": "2l319rxEL8aY",
        "colab": {
          "base_uri": "https://localhost:8080/"
        },
        "outputId": "3a0e5fb9-6349-4dc2-b342-eb57f1e5bfba"
      },
      "execution_count": 34,
      "outputs": [
        {
          "output_type": "stream",
          "name": "stdout",
          "text": [
            "=========\n",
            "epoch 1 train loss: 1.6326 val_cls: 1.5648 val_acc: 0.0119\n",
            "tensor(1.5648) None\n",
            "=========\n",
            "epoch 2 train loss: 1.5123 val_cls: 1.4429 val_acc: 0.8810\n",
            "tensor(1.4429) tensor(1.5648)\n",
            "=========\n",
            "epoch 3 train loss: 1.4016 val_cls: 1.3294 val_acc: 0.8810\n",
            "tensor(1.3294) tensor(1.4429)\n",
            "=========\n",
            "epoch 4 train loss: 1.2990 val_cls: 1.2266 val_acc: 0.8810\n",
            "tensor(1.2266) tensor(1.3294)\n",
            "=========\n",
            "epoch 5 train loss: 1.2064 val_cls: 1.1323 val_acc: 0.8810\n",
            "tensor(1.1323) tensor(1.2266)\n",
            "=========\n",
            "epoch 6 train loss: 1.1217 val_cls: 1.0467 val_acc: 0.8810\n",
            "tensor(1.0467) tensor(1.1323)\n",
            "=========\n",
            "epoch 7 train loss: 1.0450 val_cls: 0.9695 val_acc: 0.8810\n",
            "tensor(0.9695) tensor(1.0467)\n",
            "=========\n",
            "epoch 8 train loss: 0.9803 val_cls: 0.9008 val_acc: 0.8810\n",
            "tensor(0.9008) tensor(0.9695)\n",
            "=========\n",
            "epoch 9 train loss: 0.9244 val_cls: 0.8411 val_acc: 0.8810\n",
            "tensor(0.8411) tensor(0.9008)\n",
            "=========\n",
            "epoch 10 train loss: 0.8674 val_cls: 0.7876 val_acc: 0.8810\n",
            "tensor(0.7876) tensor(0.8411)\n",
            "=========\n",
            "epoch 11 train loss: 0.8271 val_cls: 0.7417 val_acc: 0.8810\n",
            "tensor(0.7417) tensor(0.7876)\n",
            "=========\n",
            "epoch 12 train loss: 0.7927 val_cls: 0.7030 val_acc: 0.8810\n",
            "tensor(0.7030) tensor(0.7417)\n",
            "=========\n",
            "epoch 13 train loss: 0.7593 val_cls: 0.6704 val_acc: 0.8810\n",
            "tensor(0.6704) tensor(0.7030)\n",
            "=========\n",
            "epoch 14 train loss: 0.7364 val_cls: 0.6430 val_acc: 0.8810\n",
            "tensor(0.6430) tensor(0.6704)\n",
            "=========\n",
            "epoch 15 train loss: 0.7068 val_cls: 0.6199 val_acc: 0.8810\n",
            "tensor(0.6199) tensor(0.6430)\n",
            "=========\n",
            "epoch 16 train loss: 0.6924 val_cls: 0.6013 val_acc: 0.8810\n",
            "tensor(0.6013) tensor(0.6199)\n",
            "=========\n",
            "epoch 17 train loss: 0.6895 val_cls: 0.5867 val_acc: 0.8810\n",
            "tensor(0.5867) tensor(0.6013)\n",
            "=========\n",
            "epoch 18 train loss: 0.6694 val_cls: 0.5740 val_acc: 0.8810\n",
            "tensor(0.5740) tensor(0.5867)\n",
            "=========\n",
            "epoch 19 train loss: 0.6575 val_cls: 0.5630 val_acc: 0.8810\n",
            "tensor(0.5630) tensor(0.5740)\n",
            "=========\n",
            "epoch 20 train loss: 0.6489 val_cls: 0.5541 val_acc: 0.8810\n",
            "tensor(0.5541) tensor(0.5630)\n",
            "=========\n",
            "epoch 21 train loss: 0.6408 val_cls: 0.5461 val_acc: 0.8810\n",
            "tensor(0.5461) tensor(0.5541)\n",
            "=========\n",
            "epoch 22 train loss: 0.6447 val_cls: 0.5404 val_acc: 0.8810\n",
            "tensor(0.5404) tensor(0.5461)\n",
            "=========\n",
            "epoch 23 train loss: 0.6468 val_cls: 0.5362 val_acc: 0.8810\n",
            "tensor(0.5362) tensor(0.5404)\n",
            "=========\n",
            "epoch 24 train loss: 0.6380 val_cls: 0.5316 val_acc: 0.8810\n",
            "tensor(0.5316) tensor(0.5362)\n",
            "=========\n",
            "epoch 25 train loss: 0.6349 val_cls: 0.5279 val_acc: 0.8810\n",
            "tensor(0.5279) tensor(0.5316)\n",
            "=========\n",
            "epoch 26 train loss: 0.6211 val_cls: 0.5240 val_acc: 0.8810\n",
            "tensor(0.5240) tensor(0.5279)\n",
            "=========\n",
            "epoch 27 train loss: 0.6262 val_cls: 0.5210 val_acc: 0.8810\n",
            "tensor(0.5210) tensor(0.5240)\n",
            "=========\n",
            "epoch 28 train loss: 0.6241 val_cls: 0.5185 val_acc: 0.8810\n",
            "tensor(0.5185) tensor(0.5210)\n",
            "=========\n",
            "epoch 29 train loss: 0.6221 val_cls: 0.5163 val_acc: 0.8810\n",
            "tensor(0.5163) tensor(0.5185)\n",
            "=========\n",
            "epoch 30 train loss: 0.6304 val_cls: 0.5143 val_acc: 0.8810\n",
            "tensor(0.5143) tensor(0.5163)\n",
            "=========\n",
            "epoch 31 train loss: 0.6244 val_cls: 0.5127 val_acc: 0.8810\n",
            "tensor(0.5127) tensor(0.5143)\n",
            "=========\n",
            "epoch 32 train loss: 0.6168 val_cls: 0.5109 val_acc: 0.8810\n",
            "tensor(0.5109) tensor(0.5127)\n",
            "=========\n",
            "epoch 33 train loss: 0.6184 val_cls: 0.5093 val_acc: 0.8810\n",
            "tensor(0.5093) tensor(0.5109)\n",
            "=========\n",
            "epoch 34 train loss: 0.6146 val_cls: 0.5077 val_acc: 0.8810\n",
            "tensor(0.5077) tensor(0.5093)\n",
            "=========\n",
            "epoch 35 train loss: 0.6210 val_cls: 0.5063 val_acc: 0.8810\n",
            "tensor(0.5063) tensor(0.5077)\n",
            "=========\n",
            "epoch 36 train loss: 0.6096 val_cls: 0.5049 val_acc: 0.8810\n",
            "tensor(0.5049) tensor(0.5063)\n",
            "=========\n",
            "epoch 37 train loss: 0.6229 val_cls: 0.5038 val_acc: 0.8810\n",
            "tensor(0.5038) tensor(0.5049)\n",
            "=========\n",
            "epoch 38 train loss: 0.6176 val_cls: 0.5029 val_acc: 0.8810\n",
            "tensor(0.5029) tensor(0.5038)\n",
            "=========\n",
            "epoch 39 train loss: 0.6149 val_cls: 0.5018 val_acc: 0.8810\n",
            "tensor(0.5018) tensor(0.5029)\n",
            "=========\n",
            "epoch 40 train loss: 0.6064 val_cls: 0.5008 val_acc: 0.8810\n",
            "tensor(0.5008) tensor(0.5018)\n",
            "=========\n",
            "epoch 41 train loss: 0.6055 val_cls: 0.4998 val_acc: 0.8810\n",
            "tensor(0.4998) tensor(0.5008)\n",
            "=========\n",
            "epoch 42 train loss: 0.6064 val_cls: 0.4990 val_acc: 0.8810\n",
            "tensor(0.4990) tensor(0.4998)\n",
            "=========\n",
            "epoch 43 train loss: 0.6023 val_cls: 0.4979 val_acc: 0.8810\n",
            "tensor(0.4979) tensor(0.4990)\n",
            "=========\n",
            "epoch 44 train loss: 0.6005 val_cls: 0.4971 val_acc: 0.8810\n",
            "tensor(0.4971) tensor(0.4979)\n",
            "=========\n",
            "epoch 45 train loss: 0.5983 val_cls: 0.4963 val_acc: 0.8810\n",
            "tensor(0.4963) tensor(0.4971)\n",
            "=========\n",
            "epoch 46 train loss: 0.6031 val_cls: 0.4956 val_acc: 0.8810\n",
            "tensor(0.4956) tensor(0.4963)\n",
            "=========\n",
            "epoch 47 train loss: 0.6078 val_cls: 0.4947 val_acc: 0.8810\n",
            "tensor(0.4947) tensor(0.4956)\n",
            "=========\n",
            "epoch 48 train loss: 0.6026 val_cls: 0.4940 val_acc: 0.8810\n",
            "tensor(0.4940) tensor(0.4947)\n",
            "=========\n",
            "epoch 49 train loss: 0.6034 val_cls: 0.4933 val_acc: 0.8810\n",
            "tensor(0.4933) tensor(0.4940)\n",
            "=========\n",
            "epoch 50 train loss: 0.5966 val_cls: 0.4926 val_acc: 0.8810\n",
            "tensor(0.4926) tensor(0.4933)\n",
            "=========\n",
            "epoch 51 train loss: 0.6028 val_cls: 0.4919 val_acc: 0.8810\n",
            "tensor(0.4919) tensor(0.4926)\n",
            "=========\n",
            "epoch 52 train loss: 0.5968 val_cls: 0.4913 val_acc: 0.8810\n",
            "tensor(0.4913) tensor(0.4919)\n",
            "=========\n",
            "epoch 53 train loss: 0.6048 val_cls: 0.4909 val_acc: 0.8810\n",
            "tensor(0.4909) tensor(0.4913)\n",
            "=========\n",
            "epoch 54 train loss: 0.5925 val_cls: 0.4905 val_acc: 0.8810\n",
            "tensor(0.4905) tensor(0.4909)\n",
            "=========\n",
            "epoch 55 train loss: 0.5885 val_cls: 0.4897 val_acc: 0.8810\n",
            "tensor(0.4897) tensor(0.4905)\n",
            "=========\n",
            "epoch 56 train loss: 0.5962 val_cls: 0.4892 val_acc: 0.8810\n",
            "tensor(0.4892) tensor(0.4897)\n",
            "=========\n",
            "epoch 57 train loss: 0.5827 val_cls: 0.4885 val_acc: 0.8810\n",
            "tensor(0.4885) tensor(0.4892)\n",
            "=========\n",
            "epoch 58 train loss: 0.5987 val_cls: 0.4878 val_acc: 0.8810\n",
            "tensor(0.4878) tensor(0.4885)\n",
            "=========\n",
            "epoch 59 train loss: 0.5996 val_cls: 0.4876 val_acc: 0.8810\n",
            "tensor(0.4876) tensor(0.4878)\n",
            "=========\n",
            "epoch 60 train loss: 0.5972 val_cls: 0.4873 val_acc: 0.8810\n",
            "tensor(0.4873) tensor(0.4876)\n",
            "=========\n",
            "epoch 61 train loss: 0.5793 val_cls: 0.4865 val_acc: 0.8810\n",
            "tensor(0.4865) tensor(0.4873)\n",
            "=========\n",
            "epoch 62 train loss: 0.5842 val_cls: 0.4858 val_acc: 0.8810\n",
            "tensor(0.4858) tensor(0.4865)\n",
            "=========\n",
            "epoch 63 train loss: 0.5837 val_cls: 0.4851 val_acc: 0.8810\n",
            "tensor(0.4851) tensor(0.4858)\n",
            "=========\n",
            "epoch 64 train loss: 0.5880 val_cls: 0.4846 val_acc: 0.8810\n",
            "tensor(0.4846) tensor(0.4851)\n",
            "=========\n",
            "epoch 65 train loss: 0.5845 val_cls: 0.4841 val_acc: 0.8810\n",
            "tensor(0.4841) tensor(0.4846)\n",
            "=========\n",
            "epoch 66 train loss: 0.5779 val_cls: 0.4832 val_acc: 0.8810\n",
            "tensor(0.4832) tensor(0.4841)\n",
            "=========\n",
            "epoch 67 train loss: 0.5881 val_cls: 0.4830 val_acc: 0.8810\n",
            "tensor(0.4830) tensor(0.4832)\n",
            "=========\n",
            "epoch 68 train loss: 0.5791 val_cls: 0.4822 val_acc: 0.8810\n",
            "tensor(0.4822) tensor(0.4830)\n",
            "=========\n",
            "epoch 69 train loss: 0.5798 val_cls: 0.4817 val_acc: 0.8810\n",
            "tensor(0.4817) tensor(0.4822)\n",
            "=========\n",
            "epoch 70 train loss: 0.5743 val_cls: 0.4810 val_acc: 0.8810\n",
            "tensor(0.4810) tensor(0.4817)\n",
            "=========\n",
            "epoch 71 train loss: 0.5690 val_cls: 0.4802 val_acc: 0.8810\n",
            "tensor(0.4802) tensor(0.4810)\n",
            "=========\n",
            "epoch 72 train loss: 0.5697 val_cls: 0.4795 val_acc: 0.8810\n",
            "tensor(0.4795) tensor(0.4802)\n",
            "=========\n",
            "epoch 73 train loss: 0.5802 val_cls: 0.4790 val_acc: 0.8810\n",
            "tensor(0.4790) tensor(0.4795)\n",
            "=========\n",
            "epoch 74 train loss: 0.5825 val_cls: 0.4787 val_acc: 0.8810\n",
            "tensor(0.4787) tensor(0.4790)\n",
            "=========\n",
            "epoch 75 train loss: 0.5712 val_cls: 0.4781 val_acc: 0.8810\n",
            "tensor(0.4781) tensor(0.4787)\n",
            "=========\n",
            "epoch 76 train loss: 0.5774 val_cls: 0.4777 val_acc: 0.8810\n",
            "tensor(0.4777) tensor(0.4781)\n",
            "=========\n",
            "epoch 77 train loss: 0.5697 val_cls: 0.4773 val_acc: 0.8810\n",
            "tensor(0.4773) tensor(0.4777)\n",
            "=========\n",
            "epoch 78 train loss: 0.5716 val_cls: 0.4767 val_acc: 0.8810\n",
            "tensor(0.4767) tensor(0.4773)\n",
            "=========\n",
            "epoch 79 train loss: 0.5713 val_cls: 0.4763 val_acc: 0.8810\n",
            "tensor(0.4763) tensor(0.4767)\n",
            "=========\n",
            "epoch 80 train loss: 0.5720 val_cls: 0.4758 val_acc: 0.8810\n",
            "tensor(0.4758) tensor(0.4763)\n",
            "=========\n",
            "epoch 81 train loss: 0.5694 val_cls: 0.4756 val_acc: 0.8810\n",
            "tensor(0.4756) tensor(0.4758)\n",
            "=========\n",
            "epoch 82 train loss: 0.5731 val_cls: 0.4751 val_acc: 0.8810\n",
            "tensor(0.4751) tensor(0.4756)\n",
            "=========\n",
            "epoch 83 train loss: 0.5680 val_cls: 0.4747 val_acc: 0.8810\n",
            "tensor(0.4747) tensor(0.4751)\n",
            "=========\n",
            "epoch 84 train loss: 0.5677 val_cls: 0.4745 val_acc: 0.8810\n",
            "tensor(0.4745) tensor(0.4747)\n",
            "=========\n",
            "epoch 85 train loss: 0.5589 val_cls: 0.4736 val_acc: 0.8810\n",
            "tensor(0.4736) tensor(0.4745)\n",
            "=========\n",
            "epoch 86 train loss: 0.5641 val_cls: 0.4730 val_acc: 0.8810\n",
            "tensor(0.4730) tensor(0.4736)\n",
            "=========\n",
            "epoch 87 train loss: 0.5647 val_cls: 0.4725 val_acc: 0.8810\n",
            "tensor(0.4725) tensor(0.4730)\n",
            "=========\n",
            "epoch 88 train loss: 0.5706 val_cls: 0.4724 val_acc: 0.8810\n",
            "tensor(0.4724) tensor(0.4725)\n",
            "=========\n",
            "epoch 89 train loss: 0.5672 val_cls: 0.4721 val_acc: 0.8810\n",
            "tensor(0.4721) tensor(0.4724)\n",
            "=========\n",
            "epoch 90 train loss: 0.5638 val_cls: 0.4716 val_acc: 0.8810\n",
            "tensor(0.4716) tensor(0.4721)\n",
            "=========\n",
            "epoch 91 train loss: 0.5671 val_cls: 0.4712 val_acc: 0.8810\n",
            "tensor(0.4712) tensor(0.4716)\n",
            "=========\n",
            "epoch 92 train loss: 0.5604 val_cls: 0.4707 val_acc: 0.8810\n",
            "tensor(0.4707) tensor(0.4712)\n",
            "=========\n",
            "epoch 93 train loss: 0.5510 val_cls: 0.4700 val_acc: 0.8810\n",
            "tensor(0.4700) tensor(0.4707)\n",
            "=========\n",
            "epoch 94 train loss: 0.5655 val_cls: 0.4694 val_acc: 0.8810\n",
            "tensor(0.4694) tensor(0.4700)\n",
            "=========\n",
            "epoch 95 train loss: 0.5621 val_cls: 0.4691 val_acc: 0.8810\n",
            "tensor(0.4691) tensor(0.4694)\n",
            "=========\n",
            "epoch 96 train loss: 0.5578 val_cls: 0.4686 val_acc: 0.8810\n",
            "tensor(0.4686) tensor(0.4691)\n",
            "=========\n",
            "epoch 97 train loss: 0.5498 val_cls: 0.4679 val_acc: 0.8810\n",
            "tensor(0.4679) tensor(0.4686)\n",
            "=========\n",
            "epoch 98 train loss: 0.5597 val_cls: 0.4675 val_acc: 0.8810\n",
            "tensor(0.4675) tensor(0.4679)\n",
            "=========\n",
            "epoch 99 train loss: 0.5430 val_cls: 0.4666 val_acc: 0.8810\n",
            "tensor(0.4666) tensor(0.4675)\n",
            "=========\n",
            "epoch 100 train loss: 0.5485 val_cls: 0.4661 val_acc: 0.8810\n",
            "tensor(0.4661) tensor(0.4666)\n",
            "=========\n",
            "epoch 101 train loss: 0.5469 val_cls: 0.4656 val_acc: 0.8810\n",
            "tensor(0.4656) tensor(0.4661)\n",
            "=========\n",
            "epoch 102 train loss: 0.5508 val_cls: 0.4651 val_acc: 0.8810\n",
            "tensor(0.4651) tensor(0.4656)\n",
            "=========\n",
            "epoch 103 train loss: 0.5531 val_cls: 0.4647 val_acc: 0.8810\n",
            "tensor(0.4647) tensor(0.4651)\n",
            "=========\n",
            "epoch 104 train loss: 0.5436 val_cls: 0.4640 val_acc: 0.8810\n",
            "tensor(0.4640) tensor(0.4647)\n",
            "=========\n",
            "epoch 105 train loss: 0.5483 val_cls: 0.4636 val_acc: 0.8810\n",
            "tensor(0.4636) tensor(0.4640)\n",
            "=========\n",
            "epoch 106 train loss: 0.5346 val_cls: 0.4628 val_acc: 0.8810\n",
            "tensor(0.4628) tensor(0.4636)\n",
            "=========\n",
            "epoch 107 train loss: 0.5400 val_cls: 0.4624 val_acc: 0.8810\n",
            "tensor(0.4624) tensor(0.4628)\n",
            "=========\n",
            "epoch 108 train loss: 0.5367 val_cls: 0.4619 val_acc: 0.8810\n",
            "tensor(0.4619) tensor(0.4624)\n",
            "=========\n",
            "epoch 109 train loss: 0.5241 val_cls: 0.4611 val_acc: 0.8810\n",
            "tensor(0.4611) tensor(0.4619)\n",
            "=========\n",
            "epoch 110 train loss: 0.5346 val_cls: 0.4606 val_acc: 0.8810\n",
            "tensor(0.4606) tensor(0.4611)\n",
            "=========\n",
            "epoch 111 train loss: 0.5309 val_cls: 0.4601 val_acc: 0.8810\n",
            "tensor(0.4601) tensor(0.4606)\n",
            "=========\n",
            "epoch 112 train loss: 0.5335 val_cls: 0.4594 val_acc: 0.8810\n",
            "tensor(0.4594) tensor(0.4601)\n",
            "=========\n",
            "epoch 113 train loss: 0.5297 val_cls: 0.4590 val_acc: 0.8810\n",
            "tensor(0.4590) tensor(0.4594)\n",
            "=========\n",
            "epoch 114 train loss: 0.5259 val_cls: 0.4584 val_acc: 0.8810\n",
            "tensor(0.4584) tensor(0.4590)\n",
            "=========\n",
            "epoch 115 train loss: 0.5228 val_cls: 0.4578 val_acc: 0.8810\n",
            "tensor(0.4578) tensor(0.4584)\n",
            "=========\n",
            "epoch 116 train loss: 0.5253 val_cls: 0.4572 val_acc: 0.8810\n",
            "tensor(0.4572) tensor(0.4578)\n",
            "=========\n",
            "epoch 117 train loss: 0.5343 val_cls: 0.4570 val_acc: 0.8810\n",
            "tensor(0.4570) tensor(0.4572)\n",
            "=========\n",
            "epoch 118 train loss: 0.5205 val_cls: 0.4563 val_acc: 0.8810\n",
            "tensor(0.4563) tensor(0.4570)\n",
            "=========\n",
            "epoch 119 train loss: 0.5302 val_cls: 0.4560 val_acc: 0.8810\n",
            "tensor(0.4560) tensor(0.4563)\n",
            "=========\n",
            "epoch 120 train loss: 0.5151 val_cls: 0.4555 val_acc: 0.8810\n",
            "tensor(0.4555) tensor(0.4560)\n",
            "=========\n",
            "epoch 121 train loss: 0.5187 val_cls: 0.4551 val_acc: 0.8810\n",
            "tensor(0.4551) tensor(0.4555)\n",
            "=========\n",
            "epoch 122 train loss: 0.5153 val_cls: 0.4545 val_acc: 0.8810\n",
            "tensor(0.4545) tensor(0.4551)\n",
            "=========\n",
            "epoch 123 train loss: 0.5073 val_cls: 0.4539 val_acc: 0.8810\n",
            "tensor(0.4539) tensor(0.4545)\n",
            "=========\n",
            "epoch 124 train loss: 0.5065 val_cls: 0.4533 val_acc: 0.8810\n",
            "tensor(0.4533) tensor(0.4539)\n",
            "=========\n",
            "epoch 125 train loss: 0.5155 val_cls: 0.4529 val_acc: 0.8810\n",
            "tensor(0.4529) tensor(0.4533)\n",
            "=========\n",
            "epoch 126 train loss: 0.5180 val_cls: 0.4526 val_acc: 0.8810\n",
            "tensor(0.4526) tensor(0.4529)\n",
            "=========\n",
            "epoch 127 train loss: 0.5154 val_cls: 0.4522 val_acc: 0.8810\n",
            "tensor(0.4522) tensor(0.4526)\n",
            "=========\n",
            "epoch 128 train loss: 0.5151 val_cls: 0.4518 val_acc: 0.8810\n",
            "tensor(0.4518) tensor(0.4522)\n",
            "=========\n",
            "epoch 129 train loss: 0.5079 val_cls: 0.4515 val_acc: 0.8810\n",
            "tensor(0.4515) tensor(0.4518)\n",
            "=========\n",
            "epoch 130 train loss: 0.5047 val_cls: 0.4512 val_acc: 0.8810\n",
            "tensor(0.4512) tensor(0.4515)\n",
            "=========\n",
            "epoch 131 train loss: 0.5030 val_cls: 0.4506 val_acc: 0.8810\n",
            "tensor(0.4506) tensor(0.4512)\n",
            "=========\n",
            "epoch 132 train loss: 0.5013 val_cls: 0.4500 val_acc: 0.8810\n",
            "tensor(0.4500) tensor(0.4506)\n",
            "=========\n",
            "epoch 133 train loss: 0.4965 val_cls: 0.4496 val_acc: 0.8810\n",
            "tensor(0.4496) tensor(0.4500)\n",
            "=========\n",
            "epoch 134 train loss: 0.5015 val_cls: 0.4492 val_acc: 0.8810\n",
            "tensor(0.4492) tensor(0.4496)\n",
            "=========\n",
            "epoch 135 train loss: 0.4916 val_cls: 0.4489 val_acc: 0.8810\n",
            "tensor(0.4489) tensor(0.4492)\n",
            "=========\n",
            "epoch 136 train loss: 0.4969 val_cls: 0.4486 val_acc: 0.8810\n",
            "tensor(0.4486) tensor(0.4489)\n",
            "=========\n",
            "epoch 137 train loss: 0.4848 val_cls: 0.4481 val_acc: 0.8810\n",
            "tensor(0.4481) tensor(0.4486)\n",
            "=========\n",
            "epoch 138 train loss: 0.4893 val_cls: 0.4477 val_acc: 0.8810\n",
            "tensor(0.4477) tensor(0.4481)\n",
            "=========\n",
            "epoch 139 train loss: 0.4914 val_cls: 0.4473 val_acc: 0.8810\n",
            "tensor(0.4473) tensor(0.4477)\n",
            "=========\n",
            "epoch 140 train loss: 0.4885 val_cls: 0.4468 val_acc: 0.8810\n",
            "tensor(0.4468) tensor(0.4473)\n",
            "=========\n",
            "epoch 141 train loss: 0.4877 val_cls: 0.4467 val_acc: 0.8810\n",
            "tensor(0.4467) tensor(0.4468)\n",
            "=========\n",
            "epoch 142 train loss: 0.4776 val_cls: 0.4460 val_acc: 0.8810\n",
            "tensor(0.4460) tensor(0.4467)\n",
            "=========\n",
            "epoch 143 train loss: 0.4809 val_cls: 0.4457 val_acc: 0.8810\n",
            "tensor(0.4457) tensor(0.4460)\n",
            "=========\n",
            "epoch 144 train loss: 0.4825 val_cls: 0.4454 val_acc: 0.8810\n",
            "tensor(0.4454) tensor(0.4457)\n",
            "=========\n",
            "epoch 145 train loss: 0.4770 val_cls: 0.4451 val_acc: 0.8810\n",
            "tensor(0.4451) tensor(0.4454)\n",
            "=========\n",
            "epoch 146 train loss: 0.4720 val_cls: 0.4447 val_acc: 0.8810\n",
            "tensor(0.4447) tensor(0.4451)\n",
            "=========\n",
            "epoch 147 train loss: 0.4750 val_cls: 0.4445 val_acc: 0.8810\n",
            "tensor(0.4445) tensor(0.4447)\n",
            "=========\n",
            "epoch 148 train loss: 0.4689 val_cls: 0.4440 val_acc: 0.8810\n",
            "tensor(0.4440) tensor(0.4445)\n",
            "=========\n",
            "epoch 149 train loss: 0.4645 val_cls: 0.4437 val_acc: 0.8810\n",
            "tensor(0.4437) tensor(0.4440)\n",
            "=========\n",
            "epoch 150 train loss: 0.4660 val_cls: 0.4434 val_acc: 0.8810\n",
            "tensor(0.4434) tensor(0.4437)\n",
            "=========\n",
            "epoch 151 train loss: 0.4725 val_cls: 0.4431 val_acc: 0.8810\n",
            "tensor(0.4431) tensor(0.4434)\n",
            "=========\n",
            "epoch 152 train loss: 0.4651 val_cls: 0.4429 val_acc: 0.8810\n",
            "tensor(0.4429) tensor(0.4431)\n",
            "=========\n",
            "epoch 153 train loss: 0.4664 val_cls: 0.4426 val_acc: 0.8810\n",
            "tensor(0.4426) tensor(0.4429)\n",
            "=========\n",
            "epoch 154 train loss: 0.4616 val_cls: 0.4425 val_acc: 0.8810\n",
            "tensor(0.4425) tensor(0.4426)\n",
            "=========\n",
            "epoch 155 train loss: 0.4629 val_cls: 0.4423 val_acc: 0.8810\n",
            "tensor(0.4423) tensor(0.4425)\n",
            "=========\n",
            "epoch 156 train loss: 0.4582 val_cls: 0.4422 val_acc: 0.8810\n",
            "tensor(0.4422) tensor(0.4423)\n",
            "=========\n",
            "epoch 157 train loss: 0.4526 val_cls: 0.4419 val_acc: 0.8810\n",
            "tensor(0.4419) tensor(0.4422)\n",
            "=========\n",
            "epoch 158 train loss: 0.4517 val_cls: 0.4418 val_acc: 0.8810\n",
            "tensor(0.4418) tensor(0.4419)\n",
            "=========\n",
            "epoch 159 train loss: 0.4570 val_cls: 0.4417 val_acc: 0.8810\n",
            "tensor(0.4417) tensor(0.4418)\n",
            "=========\n",
            "epoch 160 train loss: 0.4525 val_cls: 0.4415 val_acc: 0.8810\n",
            "tensor(0.4415) tensor(0.4417)\n",
            "=========\n",
            "epoch 161 train loss: 0.4570 val_cls: 0.4413 val_acc: 0.8810\n",
            "tensor(0.4413) tensor(0.4415)\n",
            "=========\n",
            "epoch 162 train loss: 0.4480 val_cls: 0.4413 val_acc: 0.8810\n",
            "tensor(0.4413) tensor(0.4413)\n",
            "=========\n",
            "epoch 163 train loss: 0.4456 val_cls: 0.4412 val_acc: 0.8810\n",
            "tensor(0.4412) tensor(0.4413)\n",
            "=========\n",
            "epoch 164 train loss: 0.4416 val_cls: 0.4411 val_acc: 0.8810\n",
            "tensor(0.4411) tensor(0.4412)\n",
            "=========\n",
            "epoch 165 train loss: 0.4429 val_cls: 0.4410 val_acc: 0.8810\n",
            "tensor(0.4410) tensor(0.4411)\n",
            "=========\n",
            "epoch 166 train loss: 0.4349 val_cls: 0.4410 val_acc: 0.8810\n",
            "tensor(0.4410) tensor(0.4410)\n",
            "=========\n",
            "epoch 167 train loss: 0.4430 val_cls: 0.4408 val_acc: 0.8810\n",
            "tensor(0.4408) tensor(0.4410)\n",
            "=========\n",
            "epoch 168 train loss: 0.4382 val_cls: 0.4408 val_acc: 0.8810\n",
            "tensor(0.4408) tensor(0.4408)\n",
            "=========\n",
            "epoch 169 train loss: 0.4398 val_cls: 0.4406 val_acc: 0.8810\n",
            "tensor(0.4406) tensor(0.4408)\n",
            "=========\n",
            "epoch 170 train loss: 0.4318 val_cls: 0.4408 val_acc: 0.8810\n",
            "tensor(0.4408) tensor(0.4406)\n",
            "=========\n",
            "epoch 171 train loss: 0.4402 val_cls: 0.4408 val_acc: 0.8810\n",
            "tensor(0.4408) tensor(0.4406)\n",
            "=========\n",
            "epoch 172 train loss: 0.4326 val_cls: 0.4408 val_acc: 0.8810\n",
            "tensor(0.4408) tensor(0.4406)\n",
            "=========\n",
            "epoch 173 train loss: 0.4325 val_cls: 0.4406 val_acc: 0.8810\n",
            "tensor(0.4406) tensor(0.4406)\n",
            "=========\n",
            "epoch 174 train loss: 0.4321 val_cls: 0.4407 val_acc: 0.8810\n",
            "tensor(0.4407) tensor(0.4406)\n",
            "=========\n",
            "epoch 175 train loss: 0.4223 val_cls: 0.4408 val_acc: 0.8810\n",
            "tensor(0.4408) tensor(0.4406)\n",
            "=========\n",
            "epoch 176 train loss: 0.4357 val_cls: 0.4408 val_acc: 0.8810\n",
            "tensor(0.4408) tensor(0.4406)\n",
            "=========\n",
            "epoch 177 train loss: 0.4146 val_cls: 0.4409 val_acc: 0.8810\n",
            "tensor(0.4409) tensor(0.4406)\n",
            "=========\n",
            "epoch 178 train loss: 0.4236 val_cls: 0.4411 val_acc: 0.8810\n",
            "tensor(0.4411) tensor(0.4406)\n",
            "EARLY STOPPING \n"
          ]
        }
      ]
    },
    {
      "cell_type": "markdown",
      "source": [
        "## Model Evaluation"
      ],
      "metadata": {
        "id": "qO0xooOmL_3D"
      }
    },
    {
      "cell_type": "code",
      "source": [
        "plt.plot(history[\"train_loss\"], label='train');\n",
        "plt.plot(history[\"val_cls\"], label='val');\n",
        "plt.title('Loss')\n",
        "plt.xlabel('Epochs')\n",
        "plt.ylabel('MSE')\n",
        "plt.legend()"
      ],
      "metadata": {
        "id": "YIp9yuw_1KsA",
        "colab": {
          "base_uri": "https://localhost:8080/",
          "height": 312
        },
        "outputId": "60b0552f-ef48-4ce0-b1fe-4c0be78ffe49"
      },
      "execution_count": 35,
      "outputs": [
        {
          "output_type": "execute_result",
          "data": {
            "text/plain": [
              "<matplotlib.legend.Legend at 0x7fba2d42d6a0>"
            ]
          },
          "metadata": {},
          "execution_count": 35
        },
        {
          "output_type": "display_data",
          "data": {
            "text/plain": [
              "<Figure size 432x288 with 1 Axes>"
            ],
            "image/png": "[encoded data removed]"
          },
          "metadata": {
            "needs_background": "light"
          }
        }
      ]
    },
    {
      "cell_type": "code",
      "source": [
        "plt.plot(history[\"val_acc\"]);\n",
        "plt.title('Accuracy')\n",
        "plt.xlabel('Epochs')\n",
        "plt.ylabel('ACC');"
      ],
      "metadata": {
        "id": "LpiIB4WwKK2S",
        "colab": {
          "base_uri": "https://localhost:8080/",
          "height": 295
        },
        "outputId": "a3703c29-5544-4e43-ef04-c9653c829b8a"
      },
      "execution_count": 36,
      "outputs": [
        {
          "output_type": "display_data",
          "data": {
            "text/plain": [
              "<Figure size 432x288 with 1 Axes>"
            ],
            "image/png": "[encoded data removed]"
          },
          "metadata": {
            "needs_background": "light"
          }
        }
      ]
    },
    {
      "cell_type": "code",
      "source": [
        "# evaluate model\n",
        "from sklearn.metrics import mean_squared_error as mse\n",
        "from sklearn.metrics import mean_absolute_error as mae\n",
        "from sklearn.metrics import accuracy_score\n",
        "\n",
        "predictions = utils.test(classification_model, test_iter)\n",
        "predictions = np.argmax(predictions, axis=1)\n",
        "\n",
        "print(\"Accuracy:\", accuracy_score(y_true = y_test, y_pred = predictions))\n",
        "print(\"F1_Score:\", f1_score(y_pred=predictions, y_true=y_test, average='macro'))\n",
        "print(\" \")\n",
        "print(\"MSE:\", mse(y_true = y_test, y_pred = predictions))\n",
        "print(\"MAE:\", mae(y_true = y_test, y_pred = predictions))"
      ],
      "metadata": {
        "id": "d_iaeA9ce5GM",
        "colab": {
          "base_uri": "https://localhost:8080/"
        },
        "outputId": "b3ebc0b8-2cf1-4603-c989-07fd665a5144"
      },
      "execution_count": 37,
      "outputs": [
        {
          "output_type": "stream",
          "name": "stdout",
          "text": [
            "Accuracy: 0.8585714285714285\n",
            "F1_Score: 0.18478093774019982\n",
            " \n",
            "MSE: 0.5714285714285714\n",
            "MAE: 0.24\n"
          ]
        }
      ]
    },
    {
      "cell_type": "code",
      "source": [
        "# examine accuracy of predictions for test set\n",
        "pred = utils.test(classification_model, test_iter)\n",
        "# find the most likely rating for the specific review by finding the column with the highest score in each row of the matrix\n",
        "conv_pred = np.argmax(pred, axis=1)\n",
        "\n",
        "# print classification report\n",
        "print(classification_report(y_pred=conv_pred, y_true=y_test))"
      ],
      "metadata": {
        "id": "lIL_BJZgKXmm",
        "colab": {
          "base_uri": "https://localhost:8080/"
        },
        "outputId": "ece58c07-7754-42ef-e803-3ab3f94fa41d"
      },
      "execution_count": 38,
      "outputs": [
        {
          "output_type": "stream",
          "name": "stdout",
          "text": [
            "              precision    recall  f1-score   support\n",
            "\n",
            "           0       0.00      0.00      0.00        13\n",
            "           1       0.00      0.00      0.00         8\n",
            "           2       0.00      0.00      0.00        14\n",
            "           3       0.00      0.00      0.00        64\n",
            "           4       0.86      1.00      0.92       601\n",
            "\n",
            "    accuracy                           0.86       700\n",
            "   macro avg       0.17      0.20      0.18       700\n",
            "weighted avg       0.74      0.86      0.79       700\n",
            "\n"
          ]
        },
        {
          "output_type": "stream",
          "name": "stderr",
          "text": [
            "/usr/local/lib/python3.8/dist-packages/sklearn/metrics/_classification.py:1318: UndefinedMetricWarning: Precision and F-score are ill-defined and being set to 0.0 in labels with no predicted samples. Use `zero_division` parameter to control this behavior.\n",
            "  _warn_prf(average, modifier, msg_start, len(result))\n",
            "/usr/local/lib/python3.8/dist-packages/sklearn/metrics/_classification.py:1318: UndefinedMetricWarning: Precision and F-score are ill-defined and being set to 0.0 in labels with no predicted samples. Use `zero_division` parameter to control this behavior.\n",
            "  _warn_prf(average, modifier, msg_start, len(result))\n",
            "/usr/local/lib/python3.8/dist-packages/sklearn/metrics/_classification.py:1318: UndefinedMetricWarning: Precision and F-score are ill-defined and being set to 0.0 in labels with no predicted samples. Use `zero_division` parameter to control this behavior.\n",
            "  _warn_prf(average, modifier, msg_start, len(result))\n"
          ]
        }
      ]
    },
    {
      "cell_type": "code",
      "source": [
        "ConfusionMatrixDisplay.from_predictions(y_test, conv_pred);"
      ],
      "metadata": {
        "colab": {
          "base_uri": "https://localhost:8080/",
          "height": 283
        },
        "id": "D6MiVGlR_Hct",
        "outputId": "13546091-dd59-4a13-a7e8-28a33faba161"
      },
      "execution_count": 39,
      "outputs": [
        {
          "output_type": "display_data",
          "data": {
            "text/plain": [
              "<Figure size 432x288 with 2 Axes>"
            ],
            "image/png": "[encoded data removed]"
          },
          "metadata": {
            "needs_background": "light"
          }
        }
      ]
    },
    {
      "cell_type": "code",
      "source": [
        "# test if model is more accurate than a dummy model\n",
        "from sklearn.dummy import DummyClassifier\n",
        "dummy1 = DummyClassifier(strategy=\"most_frequent\")\n",
        "dummy2 = DummyClassifier(strategy=\"stratified\")"
      ],
      "metadata": {
        "id": "yI9P8aDb6F2u"
      },
      "execution_count": 40,
      "outputs": []
    },
    {
      "cell_type": "code",
      "source": [
        "# most_frequent - returns most frequent class label\n",
        "dummy1.fit(x_train, y_train)\n",
        "dummy1.score(x_train, y_train)"
      ],
      "metadata": {
        "id": "TPy0KjEq6IH1",
        "colab": {
          "base_uri": "https://localhost:8080/"
        },
        "outputId": "0f748716-35c3-4d10-c6f7-21ee84fe3b41"
      },
      "execution_count": 42,
      "outputs": [
        {
          "output_type": "execute_result",
          "data": {
            "text/plain": [
              "0.8439490445859873"
            ]
          },
          "metadata": {},
          "execution_count": 42
        }
      ]
    },
    {
      "cell_type": "code",
      "source": [
        "# stratified - returns random samples from a distribution based on prior probabilities\n",
        "dummy2.fit(x_train, y_train)\n",
        "dummy2.score(x_train, y_train)"
      ],
      "metadata": {
        "id": "jlU6d7MD6PPB",
        "colab": {
          "base_uri": "https://localhost:8080/"
        },
        "outputId": "91e7d74f-f63d-4e2e-fdaa-b6905bcd427a"
      },
      "execution_count": 44,
      "outputs": [
        {
          "output_type": "execute_result",
          "data": {
            "text/plain": [
              "0.7070063694267515"
            ]
          },
          "metadata": {},
          "execution_count": 44
        }
      ]
    }
  ]
}