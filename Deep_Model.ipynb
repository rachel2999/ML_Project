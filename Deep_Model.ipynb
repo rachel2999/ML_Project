{
  "nbformat": 4,
  "nbformat_minor": 0,
  "metadata": {
    "colab": {
      "provenance": [],
      "toc_visible": true
    },
    "kernelspec": {
      "name": "python3",
      "display_name": "Python 3"
    },
    "language_info": {
      "name": "python"
    },
    "accelerator": "GPU",
    "gpuClass": "standard"
  },
  "cells": [
    {
      "cell_type": "markdown",
      "source": [
        "# Drink Quality by Reviews"
      ],
      "metadata": {
        "id": "WTkQ8n1FsVJL"
      }
    },
    {
      "cell_type": "markdown",
      "source": [
        "Examine the correlation between \"Rating\" and \"Review\" to determine if the quality of a drink can be predicted based on it's reviews."
      ],
      "metadata": {
        "id": "3QLwH_X0TL_-"
      }
    },
    {
      "cell_type": "code",
      "execution_count": 1,
      "metadata": {
        "colab": {
          "base_uri": "https://localhost:8080/"
        },
        "id": "M1THLhLXDOmz",
        "outputId": "66557b5f-3881-41d6-837d-55ed123ad467"
      },
      "outputs": [
        {
          "output_type": "stream",
          "name": "stdout",
          "text": [
            "Looking in indexes: https://pypi.org/simple, https://us-python.pkg.dev/colab-wheels/public/simple/\n",
            "Collecting import-ipynb\n",
            "  Downloading import_ipynb-0.1.4-py3-none-any.whl (4.1 kB)\n",
            "Requirement already satisfied: IPython in /usr/local/lib/python3.8/dist-packages (from import-ipynb) (7.9.0)\n",
            "Requirement already satisfied: nbformat in /usr/local/lib/python3.8/dist-packages (from import-ipynb) (5.7.1)\n",
            "Requirement already satisfied: pygments in /usr/local/lib/python3.8/dist-packages (from IPython->import-ipynb) (2.6.1)\n",
            "Requirement already satisfied: backcall in /usr/local/lib/python3.8/dist-packages (from IPython->import-ipynb) (0.2.0)\n",
            "Requirement already satisfied: pickleshare in /usr/local/lib/python3.8/dist-packages (from IPython->import-ipynb) (0.7.5)\n",
            "Requirement already satisfied: traitlets>=4.2 in /usr/local/lib/python3.8/dist-packages (from IPython->import-ipynb) (5.7.1)\n",
            "Requirement already satisfied: setuptools>=18.5 in /usr/local/lib/python3.8/dist-packages (from IPython->import-ipynb) (57.4.0)\n",
            "Requirement already satisfied: decorator in /usr/local/lib/python3.8/dist-packages (from IPython->import-ipynb) (4.4.2)\n",
            "Collecting jedi>=0.10\n",
            "  Downloading jedi-0.18.2-py2.py3-none-any.whl (1.6 MB)\n",
            "\u001b[2K     \u001b[90m━━━━━━━━━━━━━━━━━━━━━━━━━━━━━━━━━━━━━━━━\u001b[0m \u001b[32m1.6/1.6 MB\u001b[0m \u001b[31m49.9 MB/s\u001b[0m eta \u001b[36m0:00:00\u001b[0m\n",
            "\u001b[?25hRequirement already satisfied: pexpect in /usr/local/lib/python3.8/dist-packages (from IPython->import-ipynb) (4.8.0)\n",
            "Requirement already satisfied: prompt-toolkit<2.1.0,>=2.0.0 in /usr/local/lib/python3.8/dist-packages (from IPython->import-ipynb) (2.0.10)\n",
            "Requirement already satisfied: jsonschema>=2.6 in /usr/local/lib/python3.8/dist-packages (from nbformat->import-ipynb) (4.3.3)\n",
            "Requirement already satisfied: fastjsonschema in /usr/local/lib/python3.8/dist-packages (from nbformat->import-ipynb) (2.16.2)\n",
            "Requirement already satisfied: jupyter-core in /usr/local/lib/python3.8/dist-packages (from nbformat->import-ipynb) (5.1.3)\n",
            "Requirement already satisfied: parso<0.9.0,>=0.8.0 in /usr/local/lib/python3.8/dist-packages (from jedi>=0.10->IPython->import-ipynb) (0.8.3)\n",
            "Requirement already satisfied: importlib-resources>=1.4.0 in /usr/local/lib/python3.8/dist-packages (from jsonschema>=2.6->nbformat->import-ipynb) (5.10.2)\n",
            "Requirement already satisfied: pyrsistent!=0.17.0,!=0.17.1,!=0.17.2,>=0.14.0 in /usr/local/lib/python3.8/dist-packages (from jsonschema>=2.6->nbformat->import-ipynb) (0.19.3)\n",
            "Requirement already satisfied: attrs>=17.4.0 in /usr/local/lib/python3.8/dist-packages (from jsonschema>=2.6->nbformat->import-ipynb) (22.2.0)\n",
            "Requirement already satisfied: six>=1.9.0 in /usr/local/lib/python3.8/dist-packages (from prompt-toolkit<2.1.0,>=2.0.0->IPython->import-ipynb) (1.15.0)\n",
            "Requirement already satisfied: wcwidth in /usr/local/lib/python3.8/dist-packages (from prompt-toolkit<2.1.0,>=2.0.0->IPython->import-ipynb) (0.2.5)\n",
            "Requirement already satisfied: platformdirs>=2.5 in /usr/local/lib/python3.8/dist-packages (from jupyter-core->nbformat->import-ipynb) (2.6.2)\n",
            "Requirement already satisfied: ptyprocess>=0.5 in /usr/local/lib/python3.8/dist-packages (from pexpect->IPython->import-ipynb) (0.7.0)\n",
            "Requirement already satisfied: zipp>=3.1.0 in /usr/local/lib/python3.8/dist-packages (from importlib-resources>=1.4.0->jsonschema>=2.6->nbformat->import-ipynb) (3.11.0)\n",
            "Installing collected packages: jedi, import-ipynb\n",
            "Successfully installed import-ipynb-0.1.4 jedi-0.18.2\n"
          ]
        }
      ],
      "source": [
        "!pip install import-ipynb"
      ]
    },
    {
      "cell_type": "code",
      "source": [
        "from google.colab import drive\n",
        "drive.mount('/content/gdrive')\n",
        "%cd gdrive/MyDrive/ML-Project"
      ],
      "metadata": {
        "colab": {
          "base_uri": "https://localhost:8080/"
        },
        "id": "2XZesjC4DUcU",
        "outputId": "f68f2d3d-97d2-4692-b1e7-6b1e09276794"
      },
      "execution_count": 2,
      "outputs": [
        {
          "output_type": "stream",
          "name": "stdout",
          "text": [
            "Mounted at /content/gdrive\n",
            "/content/gdrive/MyDrive/ML-Project\n"
          ]
        }
      ]
    },
    {
      "cell_type": "code",
      "source": [
        "import tensorflow.keras as keras\n",
        "import matplotlib.pyplot as plt\n",
        "import numpy as np\n",
        "import seaborn as sns\n",
        "import matplotlib.pyplot as plt\n",
        "import numpy as np\n",
        "import seaborn as sns\n",
        "import torch\n",
        "from torch import nn\n",
        "import pandas as pd\n",
        "import random\n",
        "import import_ipynb\n",
        "import utils\n",
        "\n",
        "\n",
        "# to get reproducible results:\n",
        "torch.manual_seed(1234)\n",
        "np.random.seed(1234)"
      ],
      "metadata": {
        "colab": {
          "base_uri": "https://localhost:8080/"
        },
        "id": "cC_ZMjWvDYoj",
        "outputId": "1319aea3-2ecc-4874-d38d-d41e07db1866"
      },
      "execution_count": 3,
      "outputs": [
        {
          "output_type": "stream",
          "name": "stdout",
          "text": [
            "importing Jupyter notebook from utils.ipynb\n"
          ]
        }
      ]
    },
    {
      "cell_type": "code",
      "source": [
        "import sklearn\n",
        "import matplotlib.pyplot as plt\n",
        "from sklearn.model_selection import train_test_split\n",
        "from sklearn.pipeline import make_pipeline\n",
        "from sklearn.impute import KNNImputer\n",
        "from sklearn.preprocessing import StandardScaler\n",
        "from sklearn.linear_model import LogisticRegression, SGDClassifier\n",
        "from sklearn.neighbors import KNeighborsClassifier\n",
        "from sklearn.preprocessing import MaxAbsScaler\n",
        "from sklearn.svm import SVC\n",
        "from sklearn.model_selection import GridSearchCV\n",
        "from sklearn.tree import DecisionTreeClassifier\n",
        "from sklearn.metrics import accuracy_score, f1_score, classification_report, ConfusionMatrixDisplay\n",
        "from sklearn.metrics import mean_squared_error as mse\n",
        "from sklearn.metrics import mean_absolute_error as mae\n",
        "from sklearn.feature_extraction.text import CountVectorizer, TfidfVectorizer\n",
        "from sklearn.compose import make_column_transformer\n",
        "from sklearn.preprocessing import OneHotEncoder, OrdinalEncoder\n",
        "from sklearn.impute import SimpleImputer"
      ],
      "metadata": {
        "id": "CoLyV47NLEas"
      },
      "execution_count": 4,
      "outputs": []
    },
    {
      "cell_type": "markdown",
      "source": [
        "### Preprocessing the Dataset"
      ],
      "metadata": {
        "id": "kJTb2CCVK6Gw"
      }
    },
    {
      "cell_type": "code",
      "source": [
        "# read dataset file\n",
        "df = pd.read_csv('dataset.csv', sep=',')"
      ],
      "metadata": {
        "id": "KKBmGAx6Dn7_"
      },
      "execution_count": 5,
      "outputs": []
    },
    {
      "cell_type": "code",
      "source": [
        "# replace column names with shorter, more readable names\n",
        "df.columns = ['Num', 'Brand', 'Name', 'Date', 'Recommend', 'Helpful', 'Rating', 'Weight', 'Review Title', 'Review']\n",
        "df.sample(5)"
      ],
      "metadata": {
        "colab": {
          "base_uri": "https://localhost:8080/",
          "height": 337
        },
        "id": "mg_ZwGcTEClT",
        "outputId": "1fc96013-c2d4-4a8f-c85e-5790748accf2"
      },
      "execution_count": 6,
      "outputs": [
        {
          "output_type": "execute_result",
          "data": {
            "text/plain": [
              "       Num        Brand                                       Name  \\\n",
              "1263  1264         Gmax     Gmax g144105 gm44 full face red wine m   \n",
              "227    228     Heineken     Heineken174 Lager - 6pk / 12oz Bottles   \n",
              "2142  2143       Carmex  Carmex Lip Balm Original Jar - 12 PK, 12.   \n",
              "450    451     Jim Beam      Jim Beam Black Bourbon Whiskey, 50 mL   \n",
              "1403  1404  Great Value  Great Value Original Crescent Rolls, 8 oz   \n",
              "\n",
              "                      Date Recommend  Helpful  Rating   Weight  \\\n",
              "1263  2017-01-09T22:25:24Z       NaN      NaN     4.0      NaN   \n",
              "227   2017-09-20T01:18:35Z      True      NaN     5.0  1.0 lbs   \n",
              "2142  2017-09-23T02:53:08Z      True      NaN     5.0      NaN   \n",
              "450   2017-09-20T01:18:35Z       NaN      NaN     5.0      NaN   \n",
              "1403  2017-09-02T07:55:36Z      True      0.0     5.0      NaN   \n",
              "\n",
              "                   Review Title  \\\n",
              "1263                        NaN   \n",
              "227                 Great beer!   \n",
              "2142         Small and compact!   \n",
              "450        My favorite bourbon!   \n",
              "1403  Just as good as Pillsbury   \n",
              "\n",
              "                                                 Review  \n",
              "1263                                       easy process  \n",
              "227   I bought this, best price and great convenienc...  \n",
              "2142  The lip balm is so smooth, doesn't have a weir...  \n",
              "450                          Exceptionally good flavor!  \n",
              "1403         Just as good as Pillsbury but better price  "
            ],
            "text/html": [
              "\n",
              "  <div id=\"df-20227fd1-b1a0-4eeb-915f-7289a38809b1\">\n",
              "    <div class=\"colab-df-container\">\n",
              "      <div>\n",
              "<style scoped>\n",
              "    .dataframe tbody tr th:only-of-type {\n",
              "        vertical-align: middle;\n",
              "    }\n",
              "\n",
              "    .dataframe tbody tr th {\n",
              "        vertical-align: top;\n",
              "    }\n",
              "\n",
              "    .dataframe thead th {\n",
              "        text-align: right;\n",
              "    }\n",
              "</style>\n",
              "<table border=\"1\" class=\"dataframe\">\n",
              "  <thead>\n",
              "    <tr style=\"text-align: right;\">\n",
              "      <th></th>\n",
              "      <th>Num</th>\n",
              "      <th>Brand</th>\n",
              "      <th>Name</th>\n",
              "      <th>Date</th>\n",
              "      <th>Recommend</th>\n",
              "      <th>Helpful</th>\n",
              "      <th>Rating</th>\n",
              "      <th>Weight</th>\n",
              "      <th>Review Title</th>\n",
              "      <th>Review</th>\n",
              "    </tr>\n",
              "  </thead>\n",
              "  <tbody>\n",
              "    <tr>\n",
              "      <th>1263</th>\n",
              "      <td>1264</td>\n",
              "      <td>Gmax</td>\n",
              "      <td>Gmax g144105 gm44 full face red wine m</td>\n",
              "      <td>2017-01-09T22:25:24Z</td>\n",
              "      <td>NaN</td>\n",
              "      <td>NaN</td>\n",
              "      <td>4.0</td>\n",
              "      <td>NaN</td>\n",
              "      <td>NaN</td>\n",
              "      <td>easy process</td>\n",
              "    </tr>\n",
              "    <tr>\n",
              "      <th>227</th>\n",
              "      <td>228</td>\n",
              "      <td>Heineken</td>\n",
              "      <td>Heineken174 Lager - 6pk / 12oz Bottles</td>\n",
              "      <td>2017-09-20T01:18:35Z</td>\n",
              "      <td>True</td>\n",
              "      <td>NaN</td>\n",
              "      <td>5.0</td>\n",
              "      <td>1.0 lbs</td>\n",
              "      <td>Great beer!</td>\n",
              "      <td>I bought this, best price and great convenienc...</td>\n",
              "    </tr>\n",
              "    <tr>\n",
              "      <th>2142</th>\n",
              "      <td>2143</td>\n",
              "      <td>Carmex</td>\n",
              "      <td>Carmex Lip Balm Original Jar - 12 PK, 12.</td>\n",
              "      <td>2017-09-23T02:53:08Z</td>\n",
              "      <td>True</td>\n",
              "      <td>NaN</td>\n",
              "      <td>5.0</td>\n",
              "      <td>NaN</td>\n",
              "      <td>Small and compact!</td>\n",
              "      <td>The lip balm is so smooth, doesn't have a weir...</td>\n",
              "    </tr>\n",
              "    <tr>\n",
              "      <th>450</th>\n",
              "      <td>451</td>\n",
              "      <td>Jim Beam</td>\n",
              "      <td>Jim Beam Black Bourbon Whiskey, 50 mL</td>\n",
              "      <td>2017-09-20T01:18:35Z</td>\n",
              "      <td>NaN</td>\n",
              "      <td>NaN</td>\n",
              "      <td>5.0</td>\n",
              "      <td>NaN</td>\n",
              "      <td>My favorite bourbon!</td>\n",
              "      <td>Exceptionally good flavor!</td>\n",
              "    </tr>\n",
              "    <tr>\n",
              "      <th>1403</th>\n",
              "      <td>1404</td>\n",
              "      <td>Great Value</td>\n",
              "      <td>Great Value Original Crescent Rolls, 8 oz</td>\n",
              "      <td>2017-09-02T07:55:36Z</td>\n",
              "      <td>True</td>\n",
              "      <td>0.0</td>\n",
              "      <td>5.0</td>\n",
              "      <td>NaN</td>\n",
              "      <td>Just as good as Pillsbury</td>\n",
              "      <td>Just as good as Pillsbury but better price</td>\n",
              "    </tr>\n",
              "  </tbody>\n",
              "</table>\n",
              "</div>\n",
              "      <button class=\"colab-df-convert\" onclick=\"convertToInteractive('df-20227fd1-b1a0-4eeb-915f-7289a38809b1')\"\n",
              "              title=\"Convert this dataframe to an interactive table.\"\n",
              "              style=\"display:none;\">\n",
              "        \n",
              "  <svg xmlns=\"http://www.w3.org/2000/svg\" height=\"24px\"viewBox=\"0 0 24 24\"\n",
              "       width=\"24px\">\n",
              "    <path d=\"M0 0h24v24H0V0z\" fill=\"none\"/>\n",
              "    <path d=\"M18.56 5.44l.94 2.06.94-2.06 2.06-.94-2.06-.94-.94-2.06-.94 2.06-2.06.94zm-11 1L8.5 8.5l.94-2.06 2.06-.94-2.06-.94L8.5 2.5l-.94 2.06-2.06.94zm10 10l.94 2.06.94-2.06 2.06-.94-2.06-.94-.94-2.06-.94 2.06-2.06.94z\"/><path d=\"M17.41 7.96l-1.37-1.37c-.4-.4-.92-.59-1.43-.59-.52 0-1.04.2-1.43.59L10.3 9.45l-7.72 7.72c-.78.78-.78 2.05 0 2.83L4 21.41c.39.39.9.59 1.41.59.51 0 1.02-.2 1.41-.59l7.78-7.78 2.81-2.81c.8-.78.8-2.07 0-2.86zM5.41 20L4 18.59l7.72-7.72 1.47 1.35L5.41 20z\"/>\n",
              "  </svg>\n",
              "      </button>\n",
              "      \n",
              "  <style>\n",
              "    .colab-df-container {\n",
              "      display:flex;\n",
              "      flex-wrap:wrap;\n",
              "      gap: 12px;\n",
              "    }\n",
              "\n",
              "    .colab-df-convert {\n",
              "      background-color: #E8F0FE;\n",
              "      border: none;\n",
              "      border-radius: 50%;\n",
              "      cursor: pointer;\n",
              "      display: none;\n",
              "      fill: #1967D2;\n",
              "      height: 32px;\n",
              "      padding: 0 0 0 0;\n",
              "      width: 32px;\n",
              "    }\n",
              "\n",
              "    .colab-df-convert:hover {\n",
              "      background-color: #E2EBFA;\n",
              "      box-shadow: 0px 1px 2px rgba(60, 64, 67, 0.3), 0px 1px 3px 1px rgba(60, 64, 67, 0.15);\n",
              "      fill: #174EA6;\n",
              "    }\n",
              "\n",
              "    [theme=dark] .colab-df-convert {\n",
              "      background-color: #3B4455;\n",
              "      fill: #D2E3FC;\n",
              "    }\n",
              "\n",
              "    [theme=dark] .colab-df-convert:hover {\n",
              "      background-color: #434B5C;\n",
              "      box-shadow: 0px 1px 3px 1px rgba(0, 0, 0, 0.15);\n",
              "      filter: drop-shadow(0px 1px 2px rgba(0, 0, 0, 0.3));\n",
              "      fill: #FFFFFF;\n",
              "    }\n",
              "  </style>\n",
              "\n",
              "      <script>\n",
              "        const buttonEl =\n",
              "          document.querySelector('#df-20227fd1-b1a0-4eeb-915f-7289a38809b1 button.colab-df-convert');\n",
              "        buttonEl.style.display =\n",
              "          google.colab.kernel.accessAllowed ? 'block' : 'none';\n",
              "\n",
              "        async function convertToInteractive(key) {\n",
              "          const element = document.querySelector('#df-20227fd1-b1a0-4eeb-915f-7289a38809b1');\n",
              "          const dataTable =\n",
              "            await google.colab.kernel.invokeFunction('convertToInteractive',\n",
              "                                                     [key], {});\n",
              "          if (!dataTable) return;\n",
              "\n",
              "          const docLinkHtml = 'Like what you see? Visit the ' +\n",
              "            '<a target=\"_blank\" href=https://colab.research.google.com/notebooks/data_table.ipynb>data table notebook</a>'\n",
              "            + ' to learn more about interactive tables.';\n",
              "          element.innerHTML = '';\n",
              "          dataTable['output_type'] = 'display_data';\n",
              "          await google.colab.output.renderOutput(dataTable, element);\n",
              "          const docLink = document.createElement('div');\n",
              "          docLink.innerHTML = docLinkHtml;\n",
              "          element.appendChild(docLink);\n",
              "        }\n",
              "      </script>\n",
              "    </div>\n",
              "  </div>\n",
              "  "
            ]
          },
          "metadata": {},
          "execution_count": 6
        }
      ]
    },
    {
      "cell_type": "code",
      "source": [
        "# remove useless columns\n",
        "df.drop(\"Num\", axis=1, inplace=True)\n",
        "df.drop(\"Date\", axis=1, inplace=True)"
      ],
      "metadata": {
        "id": "2AiS9linDA-b"
      },
      "execution_count": 7,
      "outputs": []
    },
    {
      "cell_type": "code",
      "source": [
        "# reindex rows\n",
        "df.reset_index(drop=True, inplace=True)\n",
        "df.head(10)"
      ],
      "metadata": {
        "id": "5H4vyxXCbgt2",
        "colab": {
          "base_uri": "https://localhost:8080/",
          "height": 580
        },
        "outputId": "58256621-2115-4744-ac46-fb307d098c62"
      },
      "execution_count": 8,
      "outputs": [
        {
          "output_type": "execute_result",
          "data": {
            "text/plain": [
              "              Brand                                               Name  \\\n",
              "0             Gallo         Ecco Domani174 Pinot Grigio - 750ml Bottle   \n",
              "1   Fresh Craft Co.   Fresh Craft174 Mango Citrus - 4pk / 250ml Bottle   \n",
              "2      1000 Stories           1000 Stories174 Zinfandel - 750ml Bottle   \n",
              "3      1000 Stories           1000 Stories174 Zinfandel - 750ml Bottle   \n",
              "4      Wine Cube153            Pink Moscato - 3l Bottle - Wine Cube153   \n",
              "5         Beck's Na  Beck's174 Non Alcoholic Beer - 6pk / 12oz Bottles   \n",
              "6             Gallo                Apothic174 Red Blend - 750ml Bottle   \n",
              "7             Gallo                Apothic174 Red Blend - 750ml Bottle   \n",
              "8  California Roots        California Roots Moscato White Wine - 750ml   \n",
              "9   Charles Charles        Charles Charles174 Red Blend - 750ml Bottle   \n",
              "\n",
              "  Recommend  Helpful  Rating    Weight                          Review Title  \\\n",
              "0      True      1.0     5.0   1.0 lbs                My Favorite White Wine   \n",
              "1      True      NaN     5.0  2.45 lbs                                 Yum!!   \n",
              "2      True      NaN     5.0  3.09 lbs                       A New Favorite!   \n",
              "3      True      NaN     5.0  3.09 lbs  Bold, Flavorful, Aromatic, Delicious   \n",
              "4      True      1.0     5.0   1.0 lbs  Yum! Plus, Environmentally Friendly!   \n",
              "5      True      NaN     5.0   1.0 lbs                           Great Taste   \n",
              "6       NaN      1.0     3.0   1.0 lbs                      Simply Wonderful   \n",
              "7       NaN      1.0     2.0   1.0 lbs                          A Sweet Red.   \n",
              "8      True      0.0     5.0  2.65 lbs                                   NaN   \n",
              "9      True      NaN     5.0   1.0 lbs           Charles & Charles Red Blend   \n",
              "\n",
              "                                              Review  \n",
              "0      This a fantastic white wine for any occasion!  \n",
              "1   Tart, not sweet...very refreshing and delicious!  \n",
              "2  I was given this wine so it was a delightful s...  \n",
              "3  This is a phenomenal wine and my new favorite ...  \n",
              "4  4 750ml bottles for the price of two With way ...  \n",
              "5  I LOVE Becks NA. It tastes just like a regular...  \n",
              "6  This wine has a wonderful but strong aroma its...  \n",
              "7  I would give one more star if it came clean on...  \n",
              "8                      Delicious and very affordable  \n",
              "9  This is a very smooth red with Aromas of cocoa...  "
            ],
            "text/html": [
              "\n",
              "  <div id=\"df-0a25c415-8327-4577-a04e-4bb40d292f2e\">\n",
              "    <div class=\"colab-df-container\">\n",
              "      <div>\n",
              "<style scoped>\n",
              "    .dataframe tbody tr th:only-of-type {\n",
              "        vertical-align: middle;\n",
              "    }\n",
              "\n",
              "    .dataframe tbody tr th {\n",
              "        vertical-align: top;\n",
              "    }\n",
              "\n",
              "    .dataframe thead th {\n",
              "        text-align: right;\n",
              "    }\n",
              "</style>\n",
              "<table border=\"1\" class=\"dataframe\">\n",
              "  <thead>\n",
              "    <tr style=\"text-align: right;\">\n",
              "      <th></th>\n",
              "      <th>Brand</th>\n",
              "      <th>Name</th>\n",
              "      <th>Recommend</th>\n",
              "      <th>Helpful</th>\n",
              "      <th>Rating</th>\n",
              "      <th>Weight</th>\n",
              "      <th>Review Title</th>\n",
              "      <th>Review</th>\n",
              "    </tr>\n",
              "  </thead>\n",
              "  <tbody>\n",
              "    <tr>\n",
              "      <th>0</th>\n",
              "      <td>Gallo</td>\n",
              "      <td>Ecco Domani174 Pinot Grigio - 750ml Bottle</td>\n",
              "      <td>True</td>\n",
              "      <td>1.0</td>\n",
              "      <td>5.0</td>\n",
              "      <td>1.0 lbs</td>\n",
              "      <td>My Favorite White Wine</td>\n",
              "      <td>This a fantastic white wine for any occasion!</td>\n",
              "    </tr>\n",
              "    <tr>\n",
              "      <th>1</th>\n",
              "      <td>Fresh Craft Co.</td>\n",
              "      <td>Fresh Craft174 Mango Citrus - 4pk / 250ml Bottle</td>\n",
              "      <td>True</td>\n",
              "      <td>NaN</td>\n",
              "      <td>5.0</td>\n",
              "      <td>2.45 lbs</td>\n",
              "      <td>Yum!!</td>\n",
              "      <td>Tart, not sweet...very refreshing and delicious!</td>\n",
              "    </tr>\n",
              "    <tr>\n",
              "      <th>2</th>\n",
              "      <td>1000 Stories</td>\n",
              "      <td>1000 Stories174 Zinfandel - 750ml Bottle</td>\n",
              "      <td>True</td>\n",
              "      <td>NaN</td>\n",
              "      <td>5.0</td>\n",
              "      <td>3.09 lbs</td>\n",
              "      <td>A New Favorite!</td>\n",
              "      <td>I was given this wine so it was a delightful s...</td>\n",
              "    </tr>\n",
              "    <tr>\n",
              "      <th>3</th>\n",
              "      <td>1000 Stories</td>\n",
              "      <td>1000 Stories174 Zinfandel - 750ml Bottle</td>\n",
              "      <td>True</td>\n",
              "      <td>NaN</td>\n",
              "      <td>5.0</td>\n",
              "      <td>3.09 lbs</td>\n",
              "      <td>Bold, Flavorful, Aromatic, Delicious</td>\n",
              "      <td>This is a phenomenal wine and my new favorite ...</td>\n",
              "    </tr>\n",
              "    <tr>\n",
              "      <th>4</th>\n",
              "      <td>Wine Cube153</td>\n",
              "      <td>Pink Moscato - 3l Bottle - Wine Cube153</td>\n",
              "      <td>True</td>\n",
              "      <td>1.0</td>\n",
              "      <td>5.0</td>\n",
              "      <td>1.0 lbs</td>\n",
              "      <td>Yum! Plus, Environmentally Friendly!</td>\n",
              "      <td>4 750ml bottles for the price of two With way ...</td>\n",
              "    </tr>\n",
              "    <tr>\n",
              "      <th>5</th>\n",
              "      <td>Beck's Na</td>\n",
              "      <td>Beck's174 Non Alcoholic Beer - 6pk / 12oz Bottles</td>\n",
              "      <td>True</td>\n",
              "      <td>NaN</td>\n",
              "      <td>5.0</td>\n",
              "      <td>1.0 lbs</td>\n",
              "      <td>Great Taste</td>\n",
              "      <td>I LOVE Becks NA. It tastes just like a regular...</td>\n",
              "    </tr>\n",
              "    <tr>\n",
              "      <th>6</th>\n",
              "      <td>Gallo</td>\n",
              "      <td>Apothic174 Red Blend - 750ml Bottle</td>\n",
              "      <td>NaN</td>\n",
              "      <td>1.0</td>\n",
              "      <td>3.0</td>\n",
              "      <td>1.0 lbs</td>\n",
              "      <td>Simply Wonderful</td>\n",
              "      <td>This wine has a wonderful but strong aroma its...</td>\n",
              "    </tr>\n",
              "    <tr>\n",
              "      <th>7</th>\n",
              "      <td>Gallo</td>\n",
              "      <td>Apothic174 Red Blend - 750ml Bottle</td>\n",
              "      <td>NaN</td>\n",
              "      <td>1.0</td>\n",
              "      <td>2.0</td>\n",
              "      <td>1.0 lbs</td>\n",
              "      <td>A Sweet Red.</td>\n",
              "      <td>I would give one more star if it came clean on...</td>\n",
              "    </tr>\n",
              "    <tr>\n",
              "      <th>8</th>\n",
              "      <td>California Roots</td>\n",
              "      <td>California Roots Moscato White Wine - 750ml</td>\n",
              "      <td>True</td>\n",
              "      <td>0.0</td>\n",
              "      <td>5.0</td>\n",
              "      <td>2.65 lbs</td>\n",
              "      <td>NaN</td>\n",
              "      <td>Delicious and very affordable</td>\n",
              "    </tr>\n",
              "    <tr>\n",
              "      <th>9</th>\n",
              "      <td>Charles Charles</td>\n",
              "      <td>Charles Charles174 Red Blend - 750ml Bottle</td>\n",
              "      <td>True</td>\n",
              "      <td>NaN</td>\n",
              "      <td>5.0</td>\n",
              "      <td>1.0 lbs</td>\n",
              "      <td>Charles &amp; Charles Red Blend</td>\n",
              "      <td>This is a very smooth red with Aromas of cocoa...</td>\n",
              "    </tr>\n",
              "  </tbody>\n",
              "</table>\n",
              "</div>\n",
              "      <button class=\"colab-df-convert\" onclick=\"convertToInteractive('df-0a25c415-8327-4577-a04e-4bb40d292f2e')\"\n",
              "              title=\"Convert this dataframe to an interactive table.\"\n",
              "              style=\"display:none;\">\n",
              "        \n",
              "  <svg xmlns=\"http://www.w3.org/2000/svg\" height=\"24px\"viewBox=\"0 0 24 24\"\n",
              "       width=\"24px\">\n",
              "    <path d=\"M0 0h24v24H0V0z\" fill=\"none\"/>\n",
              "    <path d=\"M18.56 5.44l.94 2.06.94-2.06 2.06-.94-2.06-.94-.94-2.06-.94 2.06-2.06.94zm-11 1L8.5 8.5l.94-2.06 2.06-.94-2.06-.94L8.5 2.5l-.94 2.06-2.06.94zm10 10l.94 2.06.94-2.06 2.06-.94-2.06-.94-.94-2.06-.94 2.06-2.06.94z\"/><path d=\"M17.41 7.96l-1.37-1.37c-.4-.4-.92-.59-1.43-.59-.52 0-1.04.2-1.43.59L10.3 9.45l-7.72 7.72c-.78.78-.78 2.05 0 2.83L4 21.41c.39.39.9.59 1.41.59.51 0 1.02-.2 1.41-.59l7.78-7.78 2.81-2.81c.8-.78.8-2.07 0-2.86zM5.41 20L4 18.59l7.72-7.72 1.47 1.35L5.41 20z\"/>\n",
              "  </svg>\n",
              "      </button>\n",
              "      \n",
              "  <style>\n",
              "    .colab-df-container {\n",
              "      display:flex;\n",
              "      flex-wrap:wrap;\n",
              "      gap: 12px;\n",
              "    }\n",
              "\n",
              "    .colab-df-convert {\n",
              "      background-color: #E8F0FE;\n",
              "      border: none;\n",
              "      border-radius: 50%;\n",
              "      cursor: pointer;\n",
              "      display: none;\n",
              "      fill: #1967D2;\n",
              "      height: 32px;\n",
              "      padding: 0 0 0 0;\n",
              "      width: 32px;\n",
              "    }\n",
              "\n",
              "    .colab-df-convert:hover {\n",
              "      background-color: #E2EBFA;\n",
              "      box-shadow: 0px 1px 2px rgba(60, 64, 67, 0.3), 0px 1px 3px 1px rgba(60, 64, 67, 0.15);\n",
              "      fill: #174EA6;\n",
              "    }\n",
              "\n",
              "    [theme=dark] .colab-df-convert {\n",
              "      background-color: #3B4455;\n",
              "      fill: #D2E3FC;\n",
              "    }\n",
              "\n",
              "    [theme=dark] .colab-df-convert:hover {\n",
              "      background-color: #434B5C;\n",
              "      box-shadow: 0px 1px 3px 1px rgba(0, 0, 0, 0.15);\n",
              "      filter: drop-shadow(0px 1px 2px rgba(0, 0, 0, 0.3));\n",
              "      fill: #FFFFFF;\n",
              "    }\n",
              "  </style>\n",
              "\n",
              "      <script>\n",
              "        const buttonEl =\n",
              "          document.querySelector('#df-0a25c415-8327-4577-a04e-4bb40d292f2e button.colab-df-convert');\n",
              "        buttonEl.style.display =\n",
              "          google.colab.kernel.accessAllowed ? 'block' : 'none';\n",
              "\n",
              "        async function convertToInteractive(key) {\n",
              "          const element = document.querySelector('#df-0a25c415-8327-4577-a04e-4bb40d292f2e');\n",
              "          const dataTable =\n",
              "            await google.colab.kernel.invokeFunction('convertToInteractive',\n",
              "                                                     [key], {});\n",
              "          if (!dataTable) return;\n",
              "\n",
              "          const docLinkHtml = 'Like what you see? Visit the ' +\n",
              "            '<a target=\"_blank\" href=https://colab.research.google.com/notebooks/data_table.ipynb>data table notebook</a>'\n",
              "            + ' to learn more about interactive tables.';\n",
              "          element.innerHTML = '';\n",
              "          dataTable['output_type'] = 'display_data';\n",
              "          await google.colab.output.renderOutput(dataTable, element);\n",
              "          const docLink = document.createElement('div');\n",
              "          docLink.innerHTML = docLinkHtml;\n",
              "          element.appendChild(docLink);\n",
              "        }\n",
              "      </script>\n",
              "    </div>\n",
              "  </div>\n",
              "  "
            ]
          },
          "metadata": {},
          "execution_count": 8
        }
      ]
    },
    {
      "cell_type": "code",
      "source": [
        "# check for total amount of null values in each column\n",
        "print(df.isnull().sum())"
      ],
      "metadata": {
        "id": "Q7ZAX3-RGAOO",
        "colab": {
          "base_uri": "https://localhost:8080/"
        },
        "outputId": "bab664b6-0e42-468f-a6e6-1ff959e943fd"
      },
      "execution_count": 9,
      "outputs": [
        {
          "output_type": "stream",
          "name": "stdout",
          "text": [
            "Brand             65\n",
            "Name               0\n",
            "Recommend        979\n",
            "Helpful         2264\n",
            "Rating           445\n",
            "Weight          1894\n",
            "Review Title      44\n",
            "Review             1\n",
            "dtype: int64\n"
          ]
        }
      ]
    },
    {
      "cell_type": "code",
      "source": [
        "# remove all rows that have no ratings or recommendations\n",
        "df = df.dropna(subset=['Rating'])\n",
        "df = df.dropna(subset=['Recommend'])\n",
        "df.isnull().sum()"
      ],
      "metadata": {
        "id": "E9Pkbdj-IVA_",
        "colab": {
          "base_uri": "https://localhost:8080/"
        },
        "outputId": "50f5c42d-e08a-483f-e500-667954bbc05e"
      },
      "execution_count": 10,
      "outputs": [
        {
          "output_type": "execute_result",
          "data": {
            "text/plain": [
              "Brand              0\n",
              "Name               0\n",
              "Recommend          0\n",
              "Helpful         1170\n",
              "Rating             0\n",
              "Weight          1392\n",
              "Review Title      10\n",
              "Review             0\n",
              "dtype: int64"
            ]
          },
          "metadata": {},
          "execution_count": 10
        }
      ]
    },
    {
      "cell_type": "code",
      "source": [
        "# check the all possible ratings from 1 to 5 are used\n",
        "np.unique(df['Rating'])"
      ],
      "metadata": {
        "id": "yJIJNlkkKqkV",
        "colab": {
          "base_uri": "https://localhost:8080/"
        },
        "outputId": "9e7d6f66-c0fd-4a6c-d784-cee67091ca0d"
      },
      "execution_count": 11,
      "outputs": [
        {
          "output_type": "execute_result",
          "data": {
            "text/plain": [
              "array([1., 2., 3., 4., 5.])"
            ]
          },
          "metadata": {},
          "execution_count": 11
        }
      ]
    },
    {
      "cell_type": "code",
      "source": [
        "df.info()"
      ],
      "metadata": {
        "id": "FOC26UJ1BgCr",
        "colab": {
          "base_uri": "https://localhost:8080/"
        },
        "outputId": "c854c2a5-0dda-4089-8e0b-a10bf020de1d"
      },
      "execution_count": 12,
      "outputs": [
        {
          "output_type": "stream",
          "name": "stdout",
          "text": [
            "<class 'pandas.core.frame.DataFrame'>\n",
            "Int64Index: 1748 entries, 0 to 2815\n",
            "Data columns (total 8 columns):\n",
            " #   Column        Non-Null Count  Dtype  \n",
            "---  ------        --------------  -----  \n",
            " 0   Brand         1748 non-null   object \n",
            " 1   Name          1748 non-null   object \n",
            " 2   Recommend     1748 non-null   object \n",
            " 3   Helpful       578 non-null    float64\n",
            " 4   Rating        1748 non-null   float64\n",
            " 5   Weight        356 non-null    object \n",
            " 6   Review Title  1738 non-null   object \n",
            " 7   Review        1748 non-null   object \n",
            "dtypes: float64(2), object(6)\n",
            "memory usage: 122.9+ KB\n"
          ]
        }
      ]
    },
    {
      "cell_type": "code",
      "source": [
        "# change data type of \"Rating\" from float to integer\n",
        "df['Rating'] = df['Rating'].astype(int)\n",
        "\n",
        "# change data type of \"Recommend\" from object to integer\n",
        "# \"True\" = 1, \"False\" = 0\n",
        "df[\"Recommend\"] = df[\"Recommend\"].astype(int)\n",
        "\n",
        "# check data types again\n",
        "df.info()"
      ],
      "metadata": {
        "id": "55B7BhBBL4VK",
        "colab": {
          "base_uri": "https://localhost:8080/"
        },
        "outputId": "94ea1177-674d-4225-e48c-f7d03e0f3a33"
      },
      "execution_count": 13,
      "outputs": [
        {
          "output_type": "stream",
          "name": "stdout",
          "text": [
            "<class 'pandas.core.frame.DataFrame'>\n",
            "Int64Index: 1748 entries, 0 to 2815\n",
            "Data columns (total 8 columns):\n",
            " #   Column        Non-Null Count  Dtype  \n",
            "---  ------        --------------  -----  \n",
            " 0   Brand         1748 non-null   object \n",
            " 1   Name          1748 non-null   object \n",
            " 2   Recommend     1748 non-null   int64  \n",
            " 3   Helpful       578 non-null    float64\n",
            " 4   Rating        1748 non-null   int64  \n",
            " 5   Weight        356 non-null    object \n",
            " 6   Review Title  1738 non-null   object \n",
            " 7   Review        1748 non-null   object \n",
            "dtypes: float64(1), int64(2), object(5)\n",
            "memory usage: 122.9+ KB\n"
          ]
        }
      ]
    },
    {
      "cell_type": "code",
      "source": [
        "# inspect correlation between numeric features\n",
        "df.corr()"
      ],
      "metadata": {
        "id": "72OEXXdrb6EF",
        "colab": {
          "base_uri": "https://localhost:8080/",
          "height": 143
        },
        "outputId": "89a19970-f0c0-463b-807e-1b219a837925"
      },
      "execution_count": 14,
      "outputs": [
        {
          "output_type": "execute_result",
          "data": {
            "text/plain": [
              "           Recommend   Helpful    Rating\n",
              "Recommend   1.000000  0.042670  0.767292\n",
              "Helpful     0.042670  1.000000  0.024891\n",
              "Rating      0.767292  0.024891  1.000000"
            ],
            "text/html": [
              "\n",
              "  <div id=\"df-03924f24-d376-43a2-8143-34c6296e251e\">\n",
              "    <div class=\"colab-df-container\">\n",
              "      <div>\n",
              "<style scoped>\n",
              "    .dataframe tbody tr th:only-of-type {\n",
              "        vertical-align: middle;\n",
              "    }\n",
              "\n",
              "    .dataframe tbody tr th {\n",
              "        vertical-align: top;\n",
              "    }\n",
              "\n",
              "    .dataframe thead th {\n",
              "        text-align: right;\n",
              "    }\n",
              "</style>\n",
              "<table border=\"1\" class=\"dataframe\">\n",
              "  <thead>\n",
              "    <tr style=\"text-align: right;\">\n",
              "      <th></th>\n",
              "      <th>Recommend</th>\n",
              "      <th>Helpful</th>\n",
              "      <th>Rating</th>\n",
              "    </tr>\n",
              "  </thead>\n",
              "  <tbody>\n",
              "    <tr>\n",
              "      <th>Recommend</th>\n",
              "      <td>1.000000</td>\n",
              "      <td>0.042670</td>\n",
              "      <td>0.767292</td>\n",
              "    </tr>\n",
              "    <tr>\n",
              "      <th>Helpful</th>\n",
              "      <td>0.042670</td>\n",
              "      <td>1.000000</td>\n",
              "      <td>0.024891</td>\n",
              "    </tr>\n",
              "    <tr>\n",
              "      <th>Rating</th>\n",
              "      <td>0.767292</td>\n",
              "      <td>0.024891</td>\n",
              "      <td>1.000000</td>\n",
              "    </tr>\n",
              "  </tbody>\n",
              "</table>\n",
              "</div>\n",
              "      <button class=\"colab-df-convert\" onclick=\"convertToInteractive('df-03924f24-d376-43a2-8143-34c6296e251e')\"\n",
              "              title=\"Convert this dataframe to an interactive table.\"\n",
              "              style=\"display:none;\">\n",
              "        \n",
              "  <svg xmlns=\"http://www.w3.org/2000/svg\" height=\"24px\"viewBox=\"0 0 24 24\"\n",
              "       width=\"24px\">\n",
              "    <path d=\"M0 0h24v24H0V0z\" fill=\"none\"/>\n",
              "    <path d=\"M18.56 5.44l.94 2.06.94-2.06 2.06-.94-2.06-.94-.94-2.06-.94 2.06-2.06.94zm-11 1L8.5 8.5l.94-2.06 2.06-.94-2.06-.94L8.5 2.5l-.94 2.06-2.06.94zm10 10l.94 2.06.94-2.06 2.06-.94-2.06-.94-.94-2.06-.94 2.06-2.06.94z\"/><path d=\"M17.41 7.96l-1.37-1.37c-.4-.4-.92-.59-1.43-.59-.52 0-1.04.2-1.43.59L10.3 9.45l-7.72 7.72c-.78.78-.78 2.05 0 2.83L4 21.41c.39.39.9.59 1.41.59.51 0 1.02-.2 1.41-.59l7.78-7.78 2.81-2.81c.8-.78.8-2.07 0-2.86zM5.41 20L4 18.59l7.72-7.72 1.47 1.35L5.41 20z\"/>\n",
              "  </svg>\n",
              "      </button>\n",
              "      \n",
              "  <style>\n",
              "    .colab-df-container {\n",
              "      display:flex;\n",
              "      flex-wrap:wrap;\n",
              "      gap: 12px;\n",
              "    }\n",
              "\n",
              "    .colab-df-convert {\n",
              "      background-color: #E8F0FE;\n",
              "      border: none;\n",
              "      border-radius: 50%;\n",
              "      cursor: pointer;\n",
              "      display: none;\n",
              "      fill: #1967D2;\n",
              "      height: 32px;\n",
              "      padding: 0 0 0 0;\n",
              "      width: 32px;\n",
              "    }\n",
              "\n",
              "    .colab-df-convert:hover {\n",
              "      background-color: #E2EBFA;\n",
              "      box-shadow: 0px 1px 2px rgba(60, 64, 67, 0.3), 0px 1px 3px 1px rgba(60, 64, 67, 0.15);\n",
              "      fill: #174EA6;\n",
              "    }\n",
              "\n",
              "    [theme=dark] .colab-df-convert {\n",
              "      background-color: #3B4455;\n",
              "      fill: #D2E3FC;\n",
              "    }\n",
              "\n",
              "    [theme=dark] .colab-df-convert:hover {\n",
              "      background-color: #434B5C;\n",
              "      box-shadow: 0px 1px 3px 1px rgba(0, 0, 0, 0.15);\n",
              "      filter: drop-shadow(0px 1px 2px rgba(0, 0, 0, 0.3));\n",
              "      fill: #FFFFFF;\n",
              "    }\n",
              "  </style>\n",
              "\n",
              "      <script>\n",
              "        const buttonEl =\n",
              "          document.querySelector('#df-03924f24-d376-43a2-8143-34c6296e251e button.colab-df-convert');\n",
              "        buttonEl.style.display =\n",
              "          google.colab.kernel.accessAllowed ? 'block' : 'none';\n",
              "\n",
              "        async function convertToInteractive(key) {\n",
              "          const element = document.querySelector('#df-03924f24-d376-43a2-8143-34c6296e251e');\n",
              "          const dataTable =\n",
              "            await google.colab.kernel.invokeFunction('convertToInteractive',\n",
              "                                                     [key], {});\n",
              "          if (!dataTable) return;\n",
              "\n",
              "          const docLinkHtml = 'Like what you see? Visit the ' +\n",
              "            '<a target=\"_blank\" href=https://colab.research.google.com/notebooks/data_table.ipynb>data table notebook</a>'\n",
              "            + ' to learn more about interactive tables.';\n",
              "          element.innerHTML = '';\n",
              "          dataTable['output_type'] = 'display_data';\n",
              "          await google.colab.output.renderOutput(dataTable, element);\n",
              "          const docLink = document.createElement('div');\n",
              "          docLink.innerHTML = docLinkHtml;\n",
              "          element.appendChild(docLink);\n",
              "        }\n",
              "      </script>\n",
              "    </div>\n",
              "  </div>\n",
              "  "
            ]
          },
          "metadata": {},
          "execution_count": 14
        }
      ]
    },
    {
      "cell_type": "markdown",
      "source": [
        "- There is a weak positive correlation between recommend and helpful. Reviews that were voted helpful tend to be about alcohol that reviewers recommend to others.\n",
        "- There is a strong positive correlation between recommend and rating. The higher the rating/quality of the alcohol, then then the more likely that the reviewer would recommend it.\n",
        "- There is a very weak positive correlation between helpful and rating. Alcohol that was voted helpful tend to have slightly higher ratings than reviews not considered helpful."
      ],
      "metadata": {
        "id": "hJSUEBotcmi0"
      }
    },
    {
      "cell_type": "code",
      "source": [
        "# check for duplicated reviews\n",
        "df['Review'].duplicated().sum()"
      ],
      "metadata": {
        "id": "Y4Ggih8XF42P",
        "colab": {
          "base_uri": "https://localhost:8080/"
        },
        "outputId": "f8498278-bb26-4636-ab14-1c28f697c7d2"
      },
      "execution_count": 15,
      "outputs": [
        {
          "output_type": "execute_result",
          "data": {
            "text/plain": [
              "13"
            ]
          },
          "metadata": {},
          "execution_count": 15
        }
      ]
    },
    {
      "cell_type": "code",
      "source": [
        "# remove duplicated reviews\n",
        "df['Review'].drop_duplicates()"
      ],
      "metadata": {
        "id": "U1QKOX4uF-UU",
        "colab": {
          "base_uri": "https://localhost:8080/"
        },
        "outputId": "c35ecbbc-28a4-402f-9620-cc947bd97154"
      },
      "execution_count": 16,
      "outputs": [
        {
          "output_type": "execute_result",
          "data": {
            "text/plain": [
              "0           This a fantastic white wine for any occasion!\n",
              "1        Tart, not sweet...very refreshing and delicious!\n",
              "2       I was given this wine so it was a delightful s...\n",
              "3       This is a phenomenal wine and my new favorite ...\n",
              "4       4 750ml bottles for the price of two With way ...\n",
              "                              ...                        \n",
              "2811    My kids love them. So no complaints but I'm su...\n",
              "2812    Easy and quick to serve, brings a smile to the...\n",
              "2813                         Worked great kids loved them\n",
              "2814    Walmart used to carry a Swiss water decaf coff...\n",
              "2815    Great decaf coffee using Swiss water process. ...\n",
              "Name: Review, Length: 1735, dtype: object"
            ]
          },
          "metadata": {},
          "execution_count": 16
        }
      ]
    },
    {
      "cell_type": "code",
      "source": [
        "# clean text in reviews with natural language toolkit\n",
        "!pip install nltk\n",
        "import nltk\n",
        "\n",
        "# define stopwords to remove\n",
        "from nltk.corpus import stopwords\n",
        "nltk.download('punkt')\n",
        "nltk.download('stopwords')\n",
        "stopwords = set(stopwords.words(\"english\"))"
      ],
      "metadata": {
        "id": "PupCwDbIoOpi",
        "colab": {
          "base_uri": "https://localhost:8080/"
        },
        "outputId": "b3ca7e58-5ed7-4961-d64b-9e6a4a34c196"
      },
      "execution_count": 17,
      "outputs": [
        {
          "output_type": "stream",
          "name": "stdout",
          "text": [
            "Looking in indexes: https://pypi.org/simple, https://us-python.pkg.dev/colab-wheels/public/simple/\n",
            "Requirement already satisfied: nltk in /usr/local/lib/python3.8/dist-packages (3.7)\n",
            "Requirement already satisfied: regex>=2021.8.3 in /usr/local/lib/python3.8/dist-packages (from nltk) (2022.6.2)\n",
            "Requirement already satisfied: click in /usr/local/lib/python3.8/dist-packages (from nltk) (7.1.2)\n",
            "Requirement already satisfied: joblib in /usr/local/lib/python3.8/dist-packages (from nltk) (1.2.0)\n",
            "Requirement already satisfied: tqdm in /usr/local/lib/python3.8/dist-packages (from nltk) (4.64.1)\n"
          ]
        },
        {
          "output_type": "stream",
          "name": "stderr",
          "text": [
            "[nltk_data] Downloading package punkt to /root/nltk_data...\n",
            "[nltk_data]   Unzipping tokenizers/punkt.zip.\n",
            "[nltk_data] Downloading package stopwords to /root/nltk_data...\n",
            "[nltk_data]   Unzipping corpora/stopwords.zip.\n"
          ]
        }
      ]
    },
    {
      "cell_type": "code",
      "source": [
        "# tokenize text with regex before cleaning\n",
        "from nltk import word_tokenize\n",
        "from nltk.tokenize.treebank import TreebankWordDetokenizer\n",
        "token = TreebankWordDetokenizer()\n",
        "\n",
        "def clean(w):\n",
        "    w = word_tokenize(w.lower()) # turn all token words lowercase\n",
        "    w = [token for token in w if token not in stopwords and token.isalpha()] # remove stopwords and non-words (punctuation, numbers, etc.)\n",
        "    return token.detokenize(w)\n",
        "\n",
        "df[\"Clean_Reviews\"] = df[\"Review\"].apply(clean)"
      ],
      "metadata": {
        "id": "NzYNfnTejmJV"
      },
      "execution_count": 18,
      "outputs": []
    },
    {
      "cell_type": "code",
      "source": [
        "# check to make sure the reviews were cleaned correctly\n",
        "df[\"Clean_Reviews\"].sample(10)"
      ],
      "metadata": {
        "id": "-Yj3GOHztCI7",
        "colab": {
          "base_uri": "https://localhost:8080/"
        },
        "outputId": "69f43ce6-d732-46df-f995-fe9c0e8ee2cd"
      },
      "execution_count": 19,
      "outputs": [
        {
          "output_type": "execute_result",
          "data": {
            "text/plain": [
              "1596    prefer purchase store individually whatever ne...\n",
              "477                             best bloody mary mix ever\n",
              "2364    started using carmex cna brand count heal supp...\n",
              "2061    using carmex yrs still always keep jar purse t...\n",
              "2226    started applying four times day honestly great...\n",
              "2373    buy carmex tub becuase mother always wood open...\n",
              "829                                              favorite\n",
              "1980    use many year really work dry lips light burn ...\n",
              "1994    always go back carmex original lip balm jar li...\n",
              "2585    using carmex original lip balm jar since child...\n",
              "Name: Clean_Reviews, dtype: object"
            ]
          },
          "metadata": {},
          "execution_count": 19
        }
      ]
    },
    {
      "cell_type": "markdown",
      "source": [
        "# Neural Network Algorithm - Deep Model"
      ],
      "metadata": {
        "id": "eyTXVRRGf-t8"
      }
    },
    {
      "cell_type": "markdown",
      "source": [
        "### Preprocessing"
      ],
      "metadata": {
        "id": "UST9kQW_f-t9"
      }
    },
    {
      "cell_type": "code",
      "source": [
        "# split dataset 40% test, 60% train\n",
        "y = df[\"Rating\"].values\n",
        "words = df[\"Clean_Reviews\"].values\n",
        "\n",
        "x_train, x_test, y_train, y_test = train_test_split(words, y, test_size=0.4, shuffle=True, random_state=42)"
      ],
      "metadata": {
        "id": "77iLLy7jf-t9"
      },
      "execution_count": 20,
      "outputs": []
    },
    {
      "cell_type": "code",
      "source": [
        "# examine a random dictionary entry\n",
        "print(\"Review:\", x_train[2])\n",
        "print(\"Rating:\", y_train[2])"
      ],
      "metadata": {
        "colab": {
          "base_uri": "https://localhost:8080/"
        },
        "outputId": "9b89e3d8-9b93-4392-ee31-330f8d7df197",
        "id": "LICtu_WMf-t9"
      },
      "execution_count": 21,
      "outputs": [
        {
          "output_type": "stream",
          "name": "stdout",
          "text": [
            "Review: price incredible delivery service better could hoped\n",
            "Rating: 5\n"
          ]
        }
      ]
    },
    {
      "cell_type": "code",
      "source": [
        "# tokenize the reviews to vectorize each word as an integer\n",
        "from keras.preprocessing.text import Tokenizer\n",
        "\n",
        "# limit vocabularly index to the most common 10,000 words\n",
        "tokenizer = Tokenizer(num_words=10000)\n",
        "# create vocab index based on word frequency\n",
        "tokenizer.fit_on_texts(x_train)\n",
        "# apply limited vocab to train and test\n",
        "x_train = tokenizer.texts_to_sequences(x_train)\n",
        "x_test = tokenizer.texts_to_sequences(x_test)"
      ],
      "metadata": {
        "id": "qT9XBoq9f-t9"
      },
      "execution_count": 22,
      "outputs": []
    },
    {
      "cell_type": "code",
      "source": [
        "# examine a random dictionary entry\n",
        "print(\"Encoded Review:\", x_train[2])\n",
        "print(\"Rating:\", y_train[2])"
      ],
      "metadata": {
        "colab": {
          "base_uri": "https://localhost:8080/"
        },
        "outputId": "ce0ad5b5-69fc-405d-9ade-1548bee2a650",
        "id": "jPQjl2bFf-t9"
      },
      "execution_count": 23,
      "outputs": [
        {
          "output_type": "stream",
          "name": "stdout",
          "text": [
            "Encoded Review: [50, 717, 427, 953, 58, 90, 954]\n",
            "Rating: 5\n"
          ]
        }
      ]
    },
    {
      "cell_type": "code",
      "source": [
        "# re-vectorize reviews into sparse 2D nummpy array, with many zeros in the data\n",
        "# convert the reviews into a matrix, one review per row and one column per word\n",
        "def vectorize_sequences(sequences, dimension=10000):\n",
        "    results = np.zeros((len(sequences), dimension))\n",
        "    for i, sequence in enumerate(sequences):\n",
        "        results[i, sequence] = 1.\n",
        "    return results\n",
        "\n",
        "num_words=10000\n",
        "x_train = vectorize_sequences(x_train, dimension=num_words)\n",
        "x_test = vectorize_sequences(x_test, dimension=num_words)\n",
        "\n",
        "print(x_train.shape)\n",
        "print(x_test.shape)"
      ],
      "metadata": {
        "colab": {
          "base_uri": "https://localhost:8080/"
        },
        "outputId": "6753255d-5e92-4eae-8f15-b22b23010552",
        "id": "fv22yQfNf-t9"
      },
      "execution_count": 24,
      "outputs": [
        {
          "output_type": "stream",
          "name": "stdout",
          "text": [
            "(1048, 10000)\n",
            "(700, 10000)\n"
          ]
        }
      ]
    },
    {
      "cell_type": "code",
      "source": [
        "print(y_train[:15])\n",
        "print(y_test[:15])"
      ],
      "metadata": {
        "colab": {
          "base_uri": "https://localhost:8080/"
        },
        "outputId": "482bfc2e-a8f7-404f-fe57-96a424b958c1",
        "id": "IODJZEVXf-t9"
      },
      "execution_count": 25,
      "outputs": [
        {
          "output_type": "stream",
          "name": "stdout",
          "text": [
            "[5 5 5 5 5 5 1 5 5 5 5 5 5 5 5]\n",
            "[4 5 4 5 4 5 4 4 5 5 5 5 5 5 5]\n"
          ]
        }
      ]
    },
    {
      "cell_type": "code",
      "source": [
        "from collections import Counter\n",
        "cnt = Counter(list(y_train))\n",
        "num_classes = 5\n",
        "cnt.most_common(num_classes)"
      ],
      "metadata": {
        "colab": {
          "base_uri": "https://localhost:8080/"
        },
        "outputId": "ee821cae-4a33-46e8-9d08-21025bf2280b",
        "id": "dTivtGxJf-t9"
      },
      "execution_count": 26,
      "outputs": [
        {
          "output_type": "execute_result",
          "data": {
            "text/plain": [
              "[(5, 900), (4, 90), (3, 24), (1, 23), (2, 11)]"
            ]
          },
          "metadata": {},
          "execution_count": 26
        }
      ]
    },
    {
      "cell_type": "code",
      "source": [
        "selected_labels = sorted(set([i[0] for i in cnt.most_common(num_classes)]))\n",
        "selected_labels"
      ],
      "metadata": {
        "colab": {
          "base_uri": "https://localhost:8080/"
        },
        "outputId": "8db130da-79b0-402f-d4b8-38b279e95182",
        "id": "M45nAzhkf-t-"
      },
      "execution_count": 27,
      "outputs": [
        {
          "output_type": "execute_result",
          "data": {
            "text/plain": [
              "[1, 2, 3, 4, 5]"
            ]
          },
          "metadata": {},
          "execution_count": 27
        }
      ]
    },
    {
      "cell_type": "code",
      "source": [
        "train_mask = [True if l in selected_labels else False for l in y_train]\n",
        "x_train = x_train[train_mask, :]\n",
        "y_train = y_train[train_mask]\n",
        "y_train = np.array([selected_labels.index(i) for i in y_train]) # reindex\n",
        "\n",
        "test_mask = [True if l in selected_labels else False for l in y_test]\n",
        "x_test= x_test[test_mask, :]\n",
        "y_test = y_test[test_mask]\n",
        "y_test = np.array([selected_labels.index(i) for i in y_test]) # reindex\n",
        "\n",
        "print(x_train.shape)\n",
        "print(x_test.shape)\n",
        "print(y_train.shape)\n",
        "print(y_test.shape)"
      ],
      "metadata": {
        "colab": {
          "base_uri": "https://localhost:8080/"
        },
        "outputId": "b2849efe-5877-41be-9ddc-1dd29beb23b8",
        "id": "r5u5Z66Pf-t-"
      },
      "execution_count": 28,
      "outputs": [
        {
          "output_type": "stream",
          "name": "stdout",
          "text": [
            "(1048, 10000)\n",
            "(700, 10000)\n",
            "(1048,)\n",
            "(700,)\n"
          ]
        }
      ]
    },
    {
      "cell_type": "code",
      "source": [
        "# split training data into 40% train and 60% dev\n",
        "x_train, x_dev, y_train, y_dev = train_test_split(x_train, y_train, test_size=0.4, random_state=42)\n",
        "print(y_train.shape)\n",
        "print(x_train.shape)\n",
        "print(x_dev.shape)\n",
        "print(y_dev.shape)"
      ],
      "metadata": {
        "colab": {
          "base_uri": "https://localhost:8080/"
        },
        "outputId": "f9b0282b-8fcf-4def-f8e1-dd49550babfd",
        "id": "7x-audOvf-t-"
      },
      "execution_count": 29,
      "outputs": [
        {
          "output_type": "stream",
          "name": "stdout",
          "text": [
            "(628,)\n",
            "(628, 10000)\n",
            "(420, 10000)\n",
            "(420,)\n"
          ]
        }
      ]
    },
    {
      "cell_type": "code",
      "source": [
        "# convert numpy array into PyTorch format\n",
        "\n",
        "# 1) define function\n",
        "def np2iter(x, y, shuffle=True):\n",
        "  x = torch.tensor(x, dtype=torch.float)\n",
        "  y = torch.tensor(y, dtype=torch.long)\n",
        "  print(x.shape)\n",
        "  print(y.shape)\n",
        "  print(\"----------------------\")\n",
        "\n",
        "  ds = torch.utils.data.TensorDataset(x, y)\n",
        "  return torch.utils.data.DataLoader(ds, batch_size=32, shuffle=shuffle)\n",
        "\n",
        "# 2) convert data\n",
        "train_iter = np2iter(x_train, y_train, shuffle=True) # DO shuffle train\n",
        "dev_iter =  np2iter(x_dev, y_dev, shuffle=False) # do NOT shuffle dev or test\n",
        "test_iter =  np2iter(x_test, y_test, shuffle=False)"
      ],
      "metadata": {
        "colab": {
          "base_uri": "https://localhost:8080/"
        },
        "outputId": "7c08485c-86fe-4244-8091-2bb2f1cddbd4",
        "id": "qZTbVwmtf-t-"
      },
      "execution_count": 30,
      "outputs": [
        {
          "output_type": "stream",
          "name": "stdout",
          "text": [
            "torch.Size([628, 10000])\n",
            "torch.Size([628])\n",
            "----------------------\n",
            "torch.Size([420, 10000])\n",
            "torch.Size([420])\n",
            "----------------------\n",
            "torch.Size([700, 10000])\n",
            "torch.Size([700])\n",
            "----------------------\n"
          ]
        }
      ]
    },
    {
      "cell_type": "code",
      "source": [
        "# defining accuracy\n",
        "def val_acc(y_pred, y_test): # define accuracy\n",
        "  y_pred = np.argmax(y_pred, axis=1)\n",
        "  return accuracy_score(y_pred=y_pred, y_true=y_test)"
      ],
      "metadata": {
        "id": "Uy56nWszf-t-"
      },
      "execution_count": 31,
      "outputs": []
    },
    {
      "cell_type": "markdown",
      "source": [
        "## Model"
      ],
      "metadata": {
        "id": "RySLkWAMLnbE"
      }
    },
    {
      "cell_type": "code",
      "source": [
        "# define deep model\n",
        "num_words = 10000\n",
        "\n",
        "class DeepModel(nn.Module):\n",
        "  def __init__(self):\n",
        "    super(DeepModel, self).__init__()\n",
        "    # nn.sequential executes the following layers one by one, from linear layer to rectified layer unit\n",
        "    self.layer = nn.Sequential(nn.Linear(in_features=num_words, out_features=30), \n",
        "                                nn.Dropout(p=0.33),\n",
        "                                nn.ReLU(),\n",
        "                                nn.Linear(in_features=30, out_features=30),\n",
        "                                nn.Dropout(p=0.33),\n",
        "                                nn.ReLU(),\n",
        "                                nn.Linear(in_features=30, out_features=5))\n",
        "\n",
        "    \n",
        "  # feed the model the input and apply the linear layer to get the output\n",
        "  def forward(self, x):\n",
        "    return self.layer(x)"
      ],
      "metadata": {
        "id": "YKDbXb4-g3tH"
      },
      "execution_count": 87,
      "outputs": []
    },
    {
      "cell_type": "code",
      "source": [
        "classification_model = DeepModel()\n",
        "classification_model = classification_model.cuda()"
      ],
      "metadata": {
        "id": "5U5BYKJAhFYC"
      },
      "execution_count": 88,
      "outputs": []
    },
    {
      "cell_type": "code",
      "source": [
        "history = utils.train(model=classification_model,\n",
        "                            loss=nn.CrossEntropyLoss(),\n",
        "                            val_metrics={\"cls\": nn.CrossEntropyLoss(), \"acc\": val_acc}, \n",
        "                            optimizer=torch.optim.SGD(classification_model.parameters(), lr=0.01),\n",
        "                            train_ds=train_iter, \n",
        "                            dev_ds=dev_iter,\n",
        "                            num_epochs=150,\n",
        "                            early_stopper=utils.EarlyStopper(metric_name=\"cls\", patience=3))"
      ],
      "metadata": {
        "id": "2l319rxEL8aY",
        "colab": {
          "base_uri": "https://localhost:8080/"
        },
        "outputId": "a69151c3-b9bc-4f78-fc3e-446cf9efdb4c"
      },
      "execution_count": 89,
      "outputs": [
        {
          "output_type": "stream",
          "name": "stdout",
          "text": [
            "=========\n",
            "epoch 1 train loss: 1.5396 val_cls: 1.4512 val_acc: 0.8810\n",
            "tensor(1.4512) None\n",
            "=========\n",
            "epoch 2 train loss: 1.4001 val_cls: 1.3079 val_acc: 0.8810\n",
            "tensor(1.3079) tensor(1.4512)\n",
            "=========\n",
            "epoch 3 train loss: 1.2707 val_cls: 1.1733 val_acc: 0.8810\n",
            "tensor(1.1733) tensor(1.3079)\n",
            "=========\n",
            "epoch 4 train loss: 1.1563 val_cls: 1.0510 val_acc: 0.8810\n",
            "tensor(1.0510) tensor(1.1733)\n",
            "=========\n",
            "epoch 5 train loss: 1.0389 val_cls: 0.9408 val_acc: 0.8810\n",
            "tensor(0.9408) tensor(1.0510)\n",
            "=========\n",
            "epoch 6 train loss: 0.9451 val_cls: 0.8458 val_acc: 0.8810\n",
            "tensor(0.8458) tensor(0.9408)\n",
            "=========\n",
            "epoch 7 train loss: 0.8735 val_cls: 0.7686 val_acc: 0.8810\n",
            "tensor(0.7686) tensor(0.8458)\n",
            "=========\n",
            "epoch 8 train loss: 0.8127 val_cls: 0.7066 val_acc: 0.8810\n",
            "tensor(0.7066) tensor(0.7686)\n",
            "=========\n",
            "epoch 9 train loss: 0.7692 val_cls: 0.6595 val_acc: 0.8810\n",
            "tensor(0.6595) tensor(0.7066)\n",
            "=========\n",
            "epoch 10 train loss: 0.7315 val_cls: 0.6234 val_acc: 0.8810\n",
            "tensor(0.6234) tensor(0.6595)\n",
            "=========\n",
            "epoch 11 train loss: 0.6972 val_cls: 0.5953 val_acc: 0.8810\n",
            "tensor(0.5953) tensor(0.6234)\n",
            "=========\n",
            "epoch 12 train loss: 0.6874 val_cls: 0.5756 val_acc: 0.8810\n",
            "tensor(0.5756) tensor(0.5953)\n",
            "=========\n",
            "epoch 13 train loss: 0.6750 val_cls: 0.5599 val_acc: 0.8810\n",
            "tensor(0.5599) tensor(0.5756)\n",
            "=========\n",
            "epoch 14 train loss: 0.6500 val_cls: 0.5468 val_acc: 0.8810\n",
            "tensor(0.5468) tensor(0.5599)\n",
            "=========\n",
            "epoch 15 train loss: 0.6439 val_cls: 0.5374 val_acc: 0.8810\n",
            "tensor(0.5374) tensor(0.5468)\n",
            "=========\n",
            "epoch 16 train loss: 0.6395 val_cls: 0.5298 val_acc: 0.8810\n",
            "tensor(0.5298) tensor(0.5374)\n",
            "=========\n",
            "epoch 17 train loss: 0.6286 val_cls: 0.5236 val_acc: 0.8810\n",
            "tensor(0.5236) tensor(0.5298)\n",
            "=========\n",
            "epoch 18 train loss: 0.6393 val_cls: 0.5193 val_acc: 0.8810\n",
            "tensor(0.5193) tensor(0.5236)\n",
            "=========\n",
            "epoch 19 train loss: 0.6301 val_cls: 0.5154 val_acc: 0.8810\n",
            "tensor(0.5154) tensor(0.5193)\n",
            "=========\n",
            "epoch 20 train loss: 0.6275 val_cls: 0.5118 val_acc: 0.8810\n",
            "tensor(0.5118) tensor(0.5154)\n",
            "=========\n",
            "epoch 21 train loss: 0.6138 val_cls: 0.5083 val_acc: 0.8810\n",
            "tensor(0.5083) tensor(0.5118)\n",
            "=========\n",
            "epoch 22 train loss: 0.6135 val_cls: 0.5056 val_acc: 0.8810\n",
            "tensor(0.5056) tensor(0.5083)\n",
            "=========\n",
            "epoch 23 train loss: 0.6168 val_cls: 0.5035 val_acc: 0.8810\n",
            "tensor(0.5035) tensor(0.5056)\n",
            "=========\n",
            "epoch 24 train loss: 0.6230 val_cls: 0.5015 val_acc: 0.8810\n",
            "tensor(0.5015) tensor(0.5035)\n",
            "=========\n",
            "epoch 25 train loss: 0.6075 val_cls: 0.4998 val_acc: 0.8810\n",
            "tensor(0.4998) tensor(0.5015)\n",
            "=========\n",
            "epoch 26 train loss: 0.6116 val_cls: 0.4981 val_acc: 0.8810\n",
            "tensor(0.4981) tensor(0.4998)\n",
            "=========\n",
            "epoch 27 train loss: 0.6126 val_cls: 0.4968 val_acc: 0.8810\n",
            "tensor(0.4968) tensor(0.4981)\n",
            "=========\n",
            "epoch 28 train loss: 0.6177 val_cls: 0.4957 val_acc: 0.8810\n",
            "tensor(0.4957) tensor(0.4968)\n",
            "=========\n",
            "epoch 29 train loss: 0.5955 val_cls: 0.4942 val_acc: 0.8810\n",
            "tensor(0.4942) tensor(0.4957)\n",
            "=========\n",
            "epoch 30 train loss: 0.6119 val_cls: 0.4936 val_acc: 0.8810\n",
            "tensor(0.4936) tensor(0.4942)\n",
            "=========\n",
            "epoch 31 train loss: 0.5971 val_cls: 0.4924 val_acc: 0.8810\n",
            "tensor(0.4924) tensor(0.4936)\n",
            "=========\n",
            "epoch 32 train loss: 0.6038 val_cls: 0.4915 val_acc: 0.8810\n",
            "tensor(0.4915) tensor(0.4924)\n",
            "=========\n",
            "epoch 33 train loss: 0.6010 val_cls: 0.4908 val_acc: 0.8810\n",
            "tensor(0.4908) tensor(0.4915)\n",
            "=========\n",
            "epoch 34 train loss: 0.6069 val_cls: 0.4898 val_acc: 0.8810\n",
            "tensor(0.4898) tensor(0.4908)\n",
            "=========\n",
            "epoch 35 train loss: 0.6004 val_cls: 0.4888 val_acc: 0.8810\n",
            "tensor(0.4888) tensor(0.4898)\n",
            "=========\n",
            "epoch 36 train loss: 0.6003 val_cls: 0.4880 val_acc: 0.8810\n",
            "tensor(0.4880) tensor(0.4888)\n",
            "=========\n",
            "epoch 37 train loss: 0.6030 val_cls: 0.4872 val_acc: 0.8810\n",
            "tensor(0.4872) tensor(0.4880)\n",
            "=========\n",
            "epoch 38 train loss: 0.5876 val_cls: 0.4860 val_acc: 0.8810\n",
            "tensor(0.4860) tensor(0.4872)\n",
            "=========\n",
            "epoch 39 train loss: 0.6006 val_cls: 0.4851 val_acc: 0.8810\n",
            "tensor(0.4851) tensor(0.4860)\n",
            "=========\n",
            "epoch 40 train loss: 0.5933 val_cls: 0.4843 val_acc: 0.8810\n",
            "tensor(0.4843) tensor(0.4851)\n",
            "=========\n",
            "epoch 41 train loss: 0.5918 val_cls: 0.4835 val_acc: 0.8810\n",
            "tensor(0.4835) tensor(0.4843)\n",
            "=========\n",
            "epoch 42 train loss: 0.5915 val_cls: 0.4830 val_acc: 0.8810\n",
            "tensor(0.4830) tensor(0.4835)\n",
            "=========\n",
            "epoch 43 train loss: 0.6019 val_cls: 0.4827 val_acc: 0.8810\n",
            "tensor(0.4827) tensor(0.4830)\n",
            "=========\n",
            "epoch 44 train loss: 0.5738 val_cls: 0.4816 val_acc: 0.8810\n",
            "tensor(0.4816) tensor(0.4827)\n",
            "=========\n",
            "epoch 45 train loss: 0.5899 val_cls: 0.4810 val_acc: 0.8810\n",
            "tensor(0.4810) tensor(0.4816)\n",
            "=========\n",
            "epoch 46 train loss: 0.5784 val_cls: 0.4799 val_acc: 0.8810\n",
            "tensor(0.4799) tensor(0.4810)\n",
            "=========\n",
            "epoch 47 train loss: 0.5812 val_cls: 0.4794 val_acc: 0.8810\n",
            "tensor(0.4794) tensor(0.4799)\n",
            "=========\n",
            "epoch 48 train loss: 0.5801 val_cls: 0.4786 val_acc: 0.8810\n",
            "tensor(0.4786) tensor(0.4794)\n",
            "=========\n",
            "epoch 49 train loss: 0.5801 val_cls: 0.4779 val_acc: 0.8810\n",
            "tensor(0.4779) tensor(0.4786)\n",
            "=========\n",
            "epoch 50 train loss: 0.5802 val_cls: 0.4772 val_acc: 0.8810\n",
            "tensor(0.4772) tensor(0.4779)\n",
            "=========\n",
            "epoch 51 train loss: 0.5811 val_cls: 0.4763 val_acc: 0.8810\n",
            "tensor(0.4763) tensor(0.4772)\n",
            "=========\n",
            "epoch 52 train loss: 0.5804 val_cls: 0.4756 val_acc: 0.8810\n",
            "tensor(0.4756) tensor(0.4763)\n",
            "=========\n",
            "epoch 53 train loss: 0.5843 val_cls: 0.4752 val_acc: 0.8810\n",
            "tensor(0.4752) tensor(0.4756)\n",
            "=========\n",
            "epoch 54 train loss: 0.5722 val_cls: 0.4743 val_acc: 0.8810\n",
            "tensor(0.4743) tensor(0.4752)\n",
            "=========\n",
            "epoch 55 train loss: 0.5687 val_cls: 0.4734 val_acc: 0.8810\n",
            "tensor(0.4734) tensor(0.4743)\n",
            "=========\n",
            "epoch 56 train loss: 0.5688 val_cls: 0.4728 val_acc: 0.8810\n",
            "tensor(0.4728) tensor(0.4734)\n",
            "=========\n",
            "epoch 57 train loss: 0.5687 val_cls: 0.4724 val_acc: 0.8810\n",
            "tensor(0.4724) tensor(0.4728)\n",
            "=========\n",
            "epoch 58 train loss: 0.5679 val_cls: 0.4718 val_acc: 0.8810\n",
            "tensor(0.4718) tensor(0.4724)\n",
            "=========\n",
            "epoch 59 train loss: 0.5791 val_cls: 0.4716 val_acc: 0.8810\n",
            "tensor(0.4716) tensor(0.4718)\n",
            "=========\n",
            "epoch 60 train loss: 0.5840 val_cls: 0.4711 val_acc: 0.8810\n",
            "tensor(0.4711) tensor(0.4716)\n",
            "=========\n",
            "epoch 61 train loss: 0.5604 val_cls: 0.4704 val_acc: 0.8810\n",
            "tensor(0.4704) tensor(0.4711)\n",
            "=========\n",
            "epoch 62 train loss: 0.5599 val_cls: 0.4698 val_acc: 0.8810\n",
            "tensor(0.4698) tensor(0.4704)\n",
            "=========\n",
            "epoch 63 train loss: 0.5761 val_cls: 0.4692 val_acc: 0.8810\n",
            "tensor(0.4692) tensor(0.4698)\n",
            "=========\n",
            "epoch 64 train loss: 0.5665 val_cls: 0.4686 val_acc: 0.8810\n",
            "tensor(0.4686) tensor(0.4692)\n",
            "=========\n",
            "epoch 65 train loss: 0.5752 val_cls: 0.4686 val_acc: 0.8810\n",
            "tensor(0.4686) tensor(0.4686)\n",
            "=========\n",
            "epoch 66 train loss: 0.5647 val_cls: 0.4685 val_acc: 0.8810\n",
            "tensor(0.4685) tensor(0.4686)\n",
            "=========\n",
            "epoch 67 train loss: 0.5520 val_cls: 0.4677 val_acc: 0.8810\n",
            "tensor(0.4677) tensor(0.4685)\n",
            "=========\n",
            "epoch 68 train loss: 0.5561 val_cls: 0.4671 val_acc: 0.8810\n",
            "tensor(0.4671) tensor(0.4677)\n",
            "=========\n",
            "epoch 69 train loss: 0.5597 val_cls: 0.4666 val_acc: 0.8810\n",
            "tensor(0.4666) tensor(0.4671)\n",
            "=========\n",
            "epoch 70 train loss: 0.5572 val_cls: 0.4658 val_acc: 0.8810\n",
            "tensor(0.4658) tensor(0.4666)\n",
            "=========\n",
            "epoch 71 train loss: 0.5551 val_cls: 0.4654 val_acc: 0.8810\n",
            "tensor(0.4654) tensor(0.4658)\n",
            "=========\n",
            "epoch 72 train loss: 0.5595 val_cls: 0.4651 val_acc: 0.8810\n",
            "tensor(0.4651) tensor(0.4654)\n",
            "=========\n",
            "epoch 73 train loss: 0.5491 val_cls: 0.4644 val_acc: 0.8810\n",
            "tensor(0.4644) tensor(0.4651)\n",
            "=========\n",
            "epoch 74 train loss: 0.5530 val_cls: 0.4638 val_acc: 0.8810\n",
            "tensor(0.4638) tensor(0.4644)\n",
            "=========\n",
            "epoch 75 train loss: 0.5491 val_cls: 0.4633 val_acc: 0.8810\n",
            "tensor(0.4633) tensor(0.4638)\n",
            "=========\n",
            "epoch 76 train loss: 0.5477 val_cls: 0.4627 val_acc: 0.8810\n",
            "tensor(0.4627) tensor(0.4633)\n",
            "=========\n",
            "epoch 77 train loss: 0.5433 val_cls: 0.4622 val_acc: 0.8810\n",
            "tensor(0.4622) tensor(0.4627)\n",
            "=========\n",
            "epoch 78 train loss: 0.5433 val_cls: 0.4615 val_acc: 0.8810\n",
            "tensor(0.4615) tensor(0.4622)\n",
            "=========\n",
            "epoch 79 train loss: 0.5501 val_cls: 0.4609 val_acc: 0.8810\n",
            "tensor(0.4609) tensor(0.4615)\n",
            "=========\n",
            "epoch 80 train loss: 0.5412 val_cls: 0.4604 val_acc: 0.8810\n",
            "tensor(0.4604) tensor(0.4609)\n",
            "=========\n",
            "epoch 81 train loss: 0.5411 val_cls: 0.4597 val_acc: 0.8810\n",
            "tensor(0.4597) tensor(0.4604)\n",
            "=========\n",
            "epoch 82 train loss: 0.5448 val_cls: 0.4593 val_acc: 0.8810\n",
            "tensor(0.4593) tensor(0.4597)\n",
            "=========\n",
            "epoch 83 train loss: 0.5324 val_cls: 0.4587 val_acc: 0.8810\n",
            "tensor(0.4587) tensor(0.4593)\n",
            "=========\n",
            "epoch 84 train loss: 0.5468 val_cls: 0.4586 val_acc: 0.8810\n",
            "tensor(0.4586) tensor(0.4587)\n",
            "=========\n",
            "epoch 85 train loss: 0.5305 val_cls: 0.4579 val_acc: 0.8810\n",
            "tensor(0.4579) tensor(0.4586)\n",
            "=========\n",
            "epoch 86 train loss: 0.5391 val_cls: 0.4576 val_acc: 0.8810\n",
            "tensor(0.4576) tensor(0.4579)\n",
            "=========\n",
            "epoch 87 train loss: 0.5356 val_cls: 0.4572 val_acc: 0.8810\n",
            "tensor(0.4572) tensor(0.4576)\n",
            "=========\n",
            "epoch 88 train loss: 0.5329 val_cls: 0.4568 val_acc: 0.8810\n",
            "tensor(0.4568) tensor(0.4572)\n",
            "=========\n",
            "epoch 89 train loss: 0.5350 val_cls: 0.4563 val_acc: 0.8810\n",
            "tensor(0.4563) tensor(0.4568)\n",
            "=========\n",
            "epoch 90 train loss: 0.5187 val_cls: 0.4557 val_acc: 0.8810\n",
            "tensor(0.4557) tensor(0.4563)\n",
            "=========\n",
            "epoch 91 train loss: 0.5311 val_cls: 0.4551 val_acc: 0.8810\n",
            "tensor(0.4551) tensor(0.4557)\n",
            "=========\n",
            "epoch 92 train loss: 0.5260 val_cls: 0.4547 val_acc: 0.8810\n",
            "tensor(0.4547) tensor(0.4551)\n",
            "=========\n",
            "epoch 93 train loss: 0.5220 val_cls: 0.4541 val_acc: 0.8810\n",
            "tensor(0.4541) tensor(0.4547)\n",
            "=========\n",
            "epoch 94 train loss: 0.5262 val_cls: 0.4534 val_acc: 0.8810\n",
            "tensor(0.4534) tensor(0.4541)\n",
            "=========\n",
            "epoch 95 train loss: 0.5181 val_cls: 0.4531 val_acc: 0.8810\n",
            "tensor(0.4531) tensor(0.4534)\n",
            "=========\n",
            "epoch 96 train loss: 0.5167 val_cls: 0.4526 val_acc: 0.8810\n",
            "tensor(0.4526) tensor(0.4531)\n",
            "=========\n",
            "epoch 97 train loss: 0.5292 val_cls: 0.4522 val_acc: 0.8810\n",
            "tensor(0.4522) tensor(0.4526)\n",
            "=========\n",
            "epoch 98 train loss: 0.5175 val_cls: 0.4517 val_acc: 0.8810\n",
            "tensor(0.4517) tensor(0.4522)\n",
            "=========\n",
            "epoch 99 train loss: 0.5142 val_cls: 0.4513 val_acc: 0.8810\n",
            "tensor(0.4513) tensor(0.4517)\n",
            "=========\n",
            "epoch 100 train loss: 0.5107 val_cls: 0.4508 val_acc: 0.8810\n",
            "tensor(0.4508) tensor(0.4513)\n",
            "=========\n",
            "epoch 101 train loss: 0.5102 val_cls: 0.4502 val_acc: 0.8810\n",
            "tensor(0.4502) tensor(0.4508)\n",
            "=========\n",
            "epoch 102 train loss: 0.5153 val_cls: 0.4499 val_acc: 0.8810\n",
            "tensor(0.4499) tensor(0.4502)\n",
            "=========\n",
            "epoch 103 train loss: 0.5208 val_cls: 0.4496 val_acc: 0.8810\n",
            "tensor(0.4496) tensor(0.4499)\n",
            "=========\n",
            "epoch 104 train loss: 0.5008 val_cls: 0.4489 val_acc: 0.8810\n",
            "tensor(0.4489) tensor(0.4496)\n",
            "=========\n",
            "epoch 105 train loss: 0.5046 val_cls: 0.4486 val_acc: 0.8810\n",
            "tensor(0.4486) tensor(0.4489)\n",
            "=========\n",
            "epoch 106 train loss: 0.5089 val_cls: 0.4483 val_acc: 0.8810\n",
            "tensor(0.4483) tensor(0.4486)\n",
            "=========\n",
            "epoch 107 train loss: 0.4998 val_cls: 0.4478 val_acc: 0.8810\n",
            "tensor(0.4478) tensor(0.4483)\n",
            "=========\n",
            "epoch 108 train loss: 0.5042 val_cls: 0.4473 val_acc: 0.8810\n",
            "tensor(0.4473) tensor(0.4478)\n",
            "=========\n",
            "epoch 109 train loss: 0.4896 val_cls: 0.4465 val_acc: 0.8810\n",
            "tensor(0.4465) tensor(0.4473)\n",
            "=========\n",
            "epoch 110 train loss: 0.5057 val_cls: 0.4462 val_acc: 0.8810\n",
            "tensor(0.4462) tensor(0.4465)\n",
            "=========\n",
            "epoch 111 train loss: 0.5008 val_cls: 0.4457 val_acc: 0.8810\n",
            "tensor(0.4457) tensor(0.4462)\n",
            "=========\n",
            "epoch 112 train loss: 0.4966 val_cls: 0.4452 val_acc: 0.8810\n",
            "tensor(0.4452) tensor(0.4457)\n",
            "=========\n",
            "epoch 113 train loss: 0.4989 val_cls: 0.4448 val_acc: 0.8810\n",
            "tensor(0.4448) tensor(0.4452)\n",
            "=========\n",
            "epoch 114 train loss: 0.4999 val_cls: 0.4445 val_acc: 0.8810\n",
            "tensor(0.4445) tensor(0.4448)\n",
            "=========\n",
            "epoch 115 train loss: 0.4915 val_cls: 0.4443 val_acc: 0.8810\n",
            "tensor(0.4443) tensor(0.4445)\n",
            "=========\n",
            "epoch 116 train loss: 0.4847 val_cls: 0.4438 val_acc: 0.8810\n",
            "tensor(0.4438) tensor(0.4443)\n",
            "=========\n",
            "epoch 117 train loss: 0.4773 val_cls: 0.4432 val_acc: 0.8810\n",
            "tensor(0.4432) tensor(0.4438)\n",
            "=========\n",
            "epoch 118 train loss: 0.4803 val_cls: 0.4427 val_acc: 0.8810\n",
            "tensor(0.4427) tensor(0.4432)\n",
            "=========\n",
            "epoch 119 train loss: 0.4768 val_cls: 0.4425 val_acc: 0.8810\n",
            "tensor(0.4425) tensor(0.4427)\n",
            "=========\n",
            "epoch 120 train loss: 0.4755 val_cls: 0.4422 val_acc: 0.8810\n",
            "tensor(0.4422) tensor(0.4425)\n",
            "=========\n",
            "epoch 121 train loss: 0.4819 val_cls: 0.4419 val_acc: 0.8810\n",
            "tensor(0.4419) tensor(0.4422)\n",
            "=========\n",
            "epoch 122 train loss: 0.4804 val_cls: 0.4416 val_acc: 0.8810\n",
            "tensor(0.4416) tensor(0.4419)\n",
            "=========\n",
            "epoch 123 train loss: 0.4702 val_cls: 0.4414 val_acc: 0.8810\n",
            "tensor(0.4414) tensor(0.4416)\n",
            "=========\n",
            "epoch 124 train loss: 0.4685 val_cls: 0.4409 val_acc: 0.8810\n",
            "tensor(0.4409) tensor(0.4414)\n",
            "=========\n",
            "epoch 125 train loss: 0.4654 val_cls: 0.4406 val_acc: 0.8810\n",
            "tensor(0.4406) tensor(0.4409)\n",
            "=========\n",
            "epoch 126 train loss: 0.4629 val_cls: 0.4403 val_acc: 0.8810\n",
            "tensor(0.4403) tensor(0.4406)\n",
            "=========\n",
            "epoch 127 train loss: 0.4714 val_cls: 0.4402 val_acc: 0.8810\n",
            "tensor(0.4402) tensor(0.4403)\n",
            "=========\n",
            "epoch 128 train loss: 0.4551 val_cls: 0.4399 val_acc: 0.8810\n",
            "tensor(0.4399) tensor(0.4402)\n",
            "=========\n",
            "epoch 129 train loss: 0.4651 val_cls: 0.4398 val_acc: 0.8810\n",
            "tensor(0.4398) tensor(0.4399)\n",
            "=========\n",
            "epoch 130 train loss: 0.4638 val_cls: 0.4397 val_acc: 0.8810\n",
            "tensor(0.4397) tensor(0.4398)\n",
            "=========\n",
            "epoch 131 train loss: 0.4590 val_cls: 0.4395 val_acc: 0.8810\n",
            "tensor(0.4395) tensor(0.4397)\n",
            "=========\n",
            "epoch 132 train loss: 0.4540 val_cls: 0.4393 val_acc: 0.8810\n",
            "tensor(0.4393) tensor(0.4395)\n",
            "=========\n",
            "epoch 133 train loss: 0.4544 val_cls: 0.4392 val_acc: 0.8810\n",
            "tensor(0.4392) tensor(0.4393)\n",
            "=========\n",
            "epoch 134 train loss: 0.4562 val_cls: 0.4391 val_acc: 0.8810\n",
            "tensor(0.4391) tensor(0.4392)\n",
            "=========\n",
            "epoch 135 train loss: 0.4416 val_cls: 0.4388 val_acc: 0.8810\n",
            "tensor(0.4388) tensor(0.4391)\n",
            "=========\n",
            "epoch 136 train loss: 0.4419 val_cls: 0.4387 val_acc: 0.8810\n",
            "tensor(0.4387) tensor(0.4388)\n",
            "=========\n",
            "epoch 137 train loss: 0.4457 val_cls: 0.4387 val_acc: 0.8810\n",
            "tensor(0.4387) tensor(0.4387)\n",
            "=========\n",
            "epoch 138 train loss: 0.4416 val_cls: 0.4386 val_acc: 0.8810\n",
            "tensor(0.4386) tensor(0.4387)\n",
            "=========\n",
            "epoch 139 train loss: 0.4383 val_cls: 0.4385 val_acc: 0.8810\n",
            "tensor(0.4385) tensor(0.4386)\n",
            "=========\n",
            "epoch 140 train loss: 0.4377 val_cls: 0.4384 val_acc: 0.8810\n",
            "tensor(0.4384) tensor(0.4385)\n",
            "=========\n",
            "epoch 141 train loss: 0.4405 val_cls: 0.4383 val_acc: 0.8810\n",
            "tensor(0.4383) tensor(0.4384)\n",
            "=========\n",
            "epoch 142 train loss: 0.4370 val_cls: 0.4381 val_acc: 0.8810\n",
            "tensor(0.4381) tensor(0.4383)\n",
            "=========\n",
            "epoch 143 train loss: 0.4309 val_cls: 0.4382 val_acc: 0.8810\n",
            "tensor(0.4382) tensor(0.4381)\n",
            "=========\n",
            "epoch 144 train loss: 0.4383 val_cls: 0.4381 val_acc: 0.8810\n",
            "tensor(0.4381) tensor(0.4381)\n",
            "=========\n",
            "epoch 145 train loss: 0.4286 val_cls: 0.4380 val_acc: 0.8810\n",
            "tensor(0.4380) tensor(0.4381)\n",
            "=========\n",
            "epoch 146 train loss: 0.4151 val_cls: 0.4380 val_acc: 0.8810\n",
            "tensor(0.4380) tensor(0.4380)\n",
            "=========\n",
            "epoch 147 train loss: 0.4319 val_cls: 0.4376 val_acc: 0.8810\n",
            "tensor(0.4376) tensor(0.4380)\n",
            "=========\n",
            "epoch 148 train loss: 0.4243 val_cls: 0.4376 val_acc: 0.8810\n",
            "tensor(0.4376) tensor(0.4376)\n",
            "=========\n",
            "epoch 149 train loss: 0.4231 val_cls: 0.4377 val_acc: 0.8810\n",
            "tensor(0.4377) tensor(0.4376)\n",
            "=========\n",
            "epoch 150 train loss: 0.4159 val_cls: 0.4380 val_acc: 0.8810\n",
            "tensor(0.4380) tensor(0.4376)\n",
            "EARLY STOPPING \n"
          ]
        }
      ]
    },
    {
      "cell_type": "markdown",
      "source": [
        "## Model Evaluation"
      ],
      "metadata": {
        "id": "qO0xooOmL_3D"
      }
    },
    {
      "cell_type": "code",
      "source": [
        "plt.plot(history[\"train_loss\"], label='train');\n",
        "plt.plot(history[\"val_cls\"], label='val');\n",
        "plt.title('Loss')\n",
        "plt.xlabel('Epochs')\n",
        "plt.ylabel('MSE')\n",
        "plt.legend()"
      ],
      "metadata": {
        "id": "YIp9yuw_1KsA",
        "colab": {
          "base_uri": "https://localhost:8080/",
          "height": 312
        },
        "outputId": "2ae03909-dc28-4acb-981f-867a20b1466c"
      },
      "execution_count": 90,
      "outputs": [
        {
          "output_type": "execute_result",
          "data": {
            "text/plain": [
              "<matplotlib.legend.Legend at 0x7feed7af0ee0>"
            ]
          },
          "metadata": {},
          "execution_count": 90
        },
        {
          "output_type": "display_data",
          "data": {
            "text/plain": [
              "<Figure size 432x288 with 1 Axes>"
            ],
            "image/png": "[encoded data removed]"
          },
          "metadata": {
            "needs_background": "light"
          }
        }
      ]
    },
    {
      "cell_type": "code",
      "source": [
        "plt.plot(history[\"val_acc\"]);\n",
        "plt.title('Accuracy')\n",
        "plt.xlabel('Epochs')\n",
        "plt.ylabel('ACC');"
      ],
      "metadata": {
        "id": "LpiIB4WwKK2S",
        "colab": {
          "base_uri": "https://localhost:8080/",
          "height": 295
        },
        "outputId": "c8671b27-bec3-427a-b017-c6f87d92d8dc"
      },
      "execution_count": 91,
      "outputs": [
        {
          "output_type": "display_data",
          "data": {
            "text/plain": [
              "<Figure size 432x288 with 1 Axes>"
            ],
            "image/png": "[encoded data removed]"
          },
          "metadata": {
            "needs_background": "light"
          }
        }
      ]
    },
    {
      "cell_type": "code",
      "source": [
        "# evaluate model\n",
        "predictions = utils.test(classification_model, test_iter)\n",
        "predictions = np.argmax(predictions, axis=1)\n",
        "\n",
        "print(\"Accuracy:\", accuracy_score(y_true = y_test, y_pred = predictions))\n",
        "print(\"F1_Score:\", f1_score(y_pred=predictions, y_true=y_test, average='weighted'))\n",
        "print(\" \")\n",
        "print(\"MSE:\", mse(y_true = y_test, y_pred = predictions))\n",
        "print(\"MAE:\", mae(y_true = y_test, y_pred = predictions))"
      ],
      "metadata": {
        "id": "d_iaeA9ce5GM",
        "colab": {
          "base_uri": "https://localhost:8080/"
        },
        "outputId": "de0133f4-c57f-4c76-dd0e-0bb88f9468a8"
      },
      "execution_count": 98,
      "outputs": [
        {
          "output_type": "stream",
          "name": "stdout",
          "text": [
            "Accuracy: 0.8585714285714285\n",
            "F1_Score: 0.7932381684418579\n",
            " \n",
            "MSE: 0.5714285714285714\n",
            "MAE: 0.24\n"
          ]
        }
      ]
    },
    {
      "cell_type": "code",
      "source": [
        "# examine accuracy of predictions for test set\n",
        "pred = utils.test(classification_model, test_iter)\n",
        "# find the most likely rating for the specific review by finding the column with the highest score in each row of the matrix\n",
        "conv_pred = np.argmax(pred, axis=1)\n",
        "\n",
        "# print classification report\n",
        "print(classification_report(y_pred=conv_pred, y_true=y_test))"
      ],
      "metadata": {
        "id": "lIL_BJZgKXmm",
        "colab": {
          "base_uri": "https://localhost:8080/"
        },
        "outputId": "1d76ff52-3347-4125-c274-a88bf28f9157"
      },
      "execution_count": 93,
      "outputs": [
        {
          "output_type": "stream",
          "name": "stdout",
          "text": [
            "              precision    recall  f1-score   support\n",
            "\n",
            "           0       0.00      0.00      0.00        13\n",
            "           1       0.00      0.00      0.00         8\n",
            "           2       0.00      0.00      0.00        14\n",
            "           3       0.00      0.00      0.00        64\n",
            "           4       0.86      1.00      0.92       601\n",
            "\n",
            "    accuracy                           0.86       700\n",
            "   macro avg       0.17      0.20      0.18       700\n",
            "weighted avg       0.74      0.86      0.79       700\n",
            "\n"
          ]
        },
        {
          "output_type": "stream",
          "name": "stderr",
          "text": [
            "/usr/local/lib/python3.8/dist-packages/sklearn/metrics/_classification.py:1318: UndefinedMetricWarning: Precision and F-score are ill-defined and being set to 0.0 in labels with no predicted samples. Use `zero_division` parameter to control this behavior.\n",
            "  _warn_prf(average, modifier, msg_start, len(result))\n",
            "/usr/local/lib/python3.8/dist-packages/sklearn/metrics/_classification.py:1318: UndefinedMetricWarning: Precision and F-score are ill-defined and being set to 0.0 in labels with no predicted samples. Use `zero_division` parameter to control this behavior.\n",
            "  _warn_prf(average, modifier, msg_start, len(result))\n",
            "/usr/local/lib/python3.8/dist-packages/sklearn/metrics/_classification.py:1318: UndefinedMetricWarning: Precision and F-score are ill-defined and being set to 0.0 in labels with no predicted samples. Use `zero_division` parameter to control this behavior.\n",
            "  _warn_prf(average, modifier, msg_start, len(result))\n"
          ]
        }
      ]
    },
    {
      "cell_type": "code",
      "source": [
        "ConfusionMatrixDisplay.from_predictions(y_test, conv_pred);"
      ],
      "metadata": {
        "colab": {
          "base_uri": "https://localhost:8080/",
          "height": 283
        },
        "id": "D6MiVGlR_Hct",
        "outputId": "5fa06a25-908d-440e-cb7f-4c05b93fa56a"
      },
      "execution_count": 94,
      "outputs": [
        {
          "output_type": "display_data",
          "data": {
            "text/plain": [
              "<Figure size 432x288 with 2 Axes>"
            ],
            "image/png": "[encoded data removed]"
          },
          "metadata": {
            "needs_background": "light"
          }
        }
      ]
    },
    {
      "cell_type": "code",
      "source": [
        "# test if model is more accurate than a dummy model\n",
        "from sklearn.dummy import DummyClassifier\n",
        "dummy1 = DummyClassifier(strategy=\"most_frequent\")\n",
        "dummy2 = DummyClassifier(strategy=\"stratified\")"
      ],
      "metadata": {
        "id": "yI9P8aDb6F2u"
      },
      "execution_count": 95,
      "outputs": []
    },
    {
      "cell_type": "code",
      "source": [
        "# most_frequent - returns most frequent class label\n",
        "dummy1.fit(x_train, y_train)\n",
        "dummy1.score(x_train, y_train)"
      ],
      "metadata": {
        "id": "TPy0KjEq6IH1",
        "colab": {
          "base_uri": "https://localhost:8080/"
        },
        "outputId": "a33cf77b-e51a-4e34-b151-aacd430840ab"
      },
      "execution_count": 96,
      "outputs": [
        {
          "output_type": "execute_result",
          "data": {
            "text/plain": [
              "0.8439490445859873"
            ]
          },
          "metadata": {},
          "execution_count": 96
        }
      ]
    },
    {
      "cell_type": "code",
      "source": [
        "# stratified - returns random samples from a distribution based on prior probabilities\n",
        "dummy2.fit(x_train, y_train)\n",
        "dummy2.score(x_train, y_train)"
      ],
      "metadata": {
        "id": "jlU6d7MD6PPB",
        "colab": {
          "base_uri": "https://localhost:8080/"
        },
        "outputId": "31500ad3-7e5c-4910-8c73-3573bb81b3cc"
      },
      "execution_count": 97,
      "outputs": [
        {
          "output_type": "execute_result",
          "data": {
            "text/plain": [
              "0.7101910828025477"
            ]
          },
          "metadata": {},
          "execution_count": 97
        }
      ]
    }
  ]
}